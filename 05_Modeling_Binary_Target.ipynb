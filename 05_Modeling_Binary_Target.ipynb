{
 "cells": [
  {
   "cell_type": "code",
   "execution_count": 1,
   "metadata": {},
   "outputs": [],
   "source": [
    "# from imblearn.over_sampling import SMOTE\n",
    "from sklearn.ensemble import RandomForestClassifier\n",
    "from sklearn.metrics import (accuracy_score, classification_report, confusion_matrix, ConfusionMatrixDisplay,\n",
    "                             f1_score, precision_score, recall_score)\n",
    "from sklearn.model_selection import cross_val_score, GridSearchCV\n",
    "from sklearn.tree import DecisionTreeClassifier\n",
    "from xgboost import XGBClassifier\n",
    "import matplotlib.pyplot as plt\n",
    "import numpy as np\n",
    "import pandas as pd\n",
    "import seaborn as sns"
   ]
  },
  {
   "cell_type": "code",
   "execution_count": 2,
   "metadata": {},
   "outputs": [],
   "source": [
    "## Import data split and preprocessed in attached notebooks\n",
    "X_train = pd.read_csv('data/X_train.csv')\n",
    "y_train = pd.read_csv('data/y_train.csv')\n",
    "X_test = pd.read_csv('data/X_test.csv')\n",
    "y_test = pd.read_csv('data/y_test.csv')"
   ]
  },
  {
   "cell_type": "code",
   "execution_count": 3,
   "metadata": {},
   "outputs": [],
   "source": [
    "y_train = y_train.health.apply(lambda x: 1 if x==2 else 0)\n",
    "y_test = y_test.health.apply(lambda x: 1 if x==2 else 0)"
   ]
  },
  {
   "cell_type": "code",
   "execution_count": 4,
   "metadata": {},
   "outputs": [],
   "source": [
    "def score_retriever(true_results, predictions):\n",
    "    precision = precision_score(true_results, predictions) * 100\n",
    "    recall = recall_score(true_results, predictions) * 100\n",
    "    accuracy = accuracy_score(true_results, predictions) * 100\n",
    "    f1 = f1_score(true_results, predictions) * 100\n",
    "    return precision, recall, accuracy, f1"
   ]
  },
  {
   "cell_type": "code",
   "execution_count": 5,
   "metadata": {},
   "outputs": [],
   "source": [
    "algorithm_scores = pd.DataFrame(columns=['Model', 'Train Precision', 'Train Recall', 'Train Accuracy', 'Train F1_Score',\n",
    "                                         'Test Precision', 'Test Recall', 'Test Accuracy', 'Test F1_Score'])"
   ]
  },
  {
   "cell_type": "markdown",
   "metadata": {},
   "source": [
    "### Decision Tree"
   ]
  },
  {
   "cell_type": "code",
   "execution_count": 6,
   "metadata": {},
   "outputs": [
    {
     "data": {
      "text/plain": [
       "0.7933579567582507"
      ]
     },
     "execution_count": 6,
     "metadata": {},
     "output_type": "execute_result"
    }
   ],
   "source": [
    "dt_classifier_default_params = DecisionTreeClassifier(random_state=42)\n",
    "dt_classifier_baseline_score = np.mean(cross_val_score(dt_classifier_default_params,\n",
    "                                                       X_train, y_train.values.ravel(), cv=3))\n",
    "dt_classifier_baseline_score"
   ]
  },
  {
   "cell_type": "code",
   "execution_count": 7,
   "metadata": {},
   "outputs": [],
   "source": [
    "dt_classifier_default_params.fit(X_train, y_train.values.ravel())\n",
    "dt_classifier_baseline_predictions_trn = dt_classifier_default_params.predict(X_train)\n",
    "dt_classifier_baseline_predictions = dt_classifier_default_params.predict(X_test)"
   ]
  },
  {
   "cell_type": "code",
   "execution_count": 8,
   "metadata": {},
   "outputs": [
    {
     "name": "stdout",
     "output_type": "stream",
     "text": [
      "              precision    recall  f1-score   support\n",
      "\n",
      "           0       0.74      0.21      0.33     30445\n",
      "           1       0.84      0.98      0.91    128753\n",
      "\n",
      "    accuracy                           0.83    159198\n",
      "   macro avg       0.79      0.60      0.62    159198\n",
      "weighted avg       0.82      0.83      0.79    159198\n",
      "\n",
      "              precision    recall  f1-score   support\n",
      "\n",
      "           0       0.38      0.11      0.17     10106\n",
      "           1       0.82      0.96      0.88     42960\n",
      "\n",
      "    accuracy                           0.80     53066\n",
      "   macro avg       0.60      0.54      0.53     53066\n",
      "weighted avg       0.74      0.80      0.75     53066\n",
      "\n"
     ]
    }
   ],
   "source": [
    "print(classification_report(y_train, dt_classifier_baseline_predictions_trn))\n",
    "print(classification_report(y_test, dt_classifier_baseline_predictions))"
   ]
  },
  {
   "cell_type": "code",
   "execution_count": 9,
   "metadata": {},
   "outputs": [
    {
     "data": {
      "image/png": "[encoded data removed]",
      "text/plain": [
       "<Figure size 432x288 with 2 Axes>"
      ]
     },
     "metadata": {
      "needs_background": "light"
     },
     "output_type": "display_data"
    }
   ],
   "source": [
    "ConfusionMatrixDisplay(confusion_matrix=confusion_matrix(y_test, dt_classifier_baseline_predictions)).plot();"
   ]
  },
  {
   "cell_type": "code",
   "execution_count": 10,
   "metadata": {},
   "outputs": [],
   "source": [
    "algorithm_scores = algorithm_scores.append({'Model': 'Decision Tree Baseline',\n",
    "                                        'Train Precision': score_retriever(y_train, dt_classifier_baseline_predictions_trn)[0],\n",
    "                                        'Train Recall': score_retriever(y_train, dt_classifier_baseline_predictions_trn)[1],\n",
    "                                        'Train Accuracy': score_retriever(y_train, dt_classifier_baseline_predictions_trn)[2],\n",
    "                                        'Train F1_Score': score_retriever(y_train, dt_classifier_baseline_predictions_trn)[3],\n",
    "                                        'Test Precision': score_retriever(y_test, dt_classifier_baseline_predictions)[0],\n",
    "                                        'Test Recall': score_retriever(y_test, dt_classifier_baseline_predictions)[1],\n",
    "                                        'Test Accuracy': score_retriever(y_test, dt_classifier_baseline_predictions)[2],\n",
    "                                        'Test F1_Score': score_retriever(y_test, dt_classifier_baseline_predictions)[3]},\n",
    "                                        ignore_index=True)"
   ]
  },
  {
   "cell_type": "code",
   "execution_count": 11,
   "metadata": {},
   "outputs": [
    {
     "data": {
      "text/plain": [
       "0.654744406336763"
      ]
     },
     "execution_count": 11,
     "metadata": {},
     "output_type": "execute_result"
    }
   ],
   "source": [
    "dt_classifier_balanced = DecisionTreeClassifier(class_weight='balanced', random_state=42)\n",
    "dt_classifier_balanced_score = np.mean(cross_val_score(dt_classifier_balanced,\n",
    "                                                       X_train, y_train.values.ravel(), cv=3))\n",
    "dt_classifier_balanced_score"
   ]
  },
  {
   "cell_type": "code",
   "execution_count": 12,
   "metadata": {},
   "outputs": [],
   "source": [
    "dt_classifier_balanced.fit(X_train, y_train.values.ravel())\n",
    "dt_classifier_balanced_predictions_trn = dt_classifier_balanced.predict(X_train)\n",
    "dt_classifier_balanced_predictions = dt_classifier_balanced.predict(X_test)"
   ]
  },
  {
   "cell_type": "code",
   "execution_count": 13,
   "metadata": {},
   "outputs": [
    {
     "name": "stdout",
     "output_type": "stream",
     "text": [
      "              precision    recall  f1-score   support\n",
      "\n",
      "           0       0.33      0.55      0.42     30445\n",
      "           1       0.87      0.74      0.80    128753\n",
      "\n",
      "    accuracy                           0.70    159198\n",
      "   macro avg       0.60      0.65      0.61    159198\n",
      "weighted avg       0.77      0.70      0.73    159198\n",
      "\n",
      "              precision    recall  f1-score   support\n",
      "\n",
      "           0       0.25      0.40      0.31     10106\n",
      "           1       0.83      0.71      0.77     42960\n",
      "\n",
      "    accuracy                           0.65     53066\n",
      "   macro avg       0.54      0.56      0.54     53066\n",
      "weighted avg       0.72      0.65      0.68     53066\n",
      "\n"
     ]
    }
   ],
   "source": [
    "print(classification_report(y_train, dt_classifier_balanced_predictions_trn))\n",
    "print(classification_report(y_test, dt_classifier_balanced_predictions))"
   ]
  },
  {
   "cell_type": "code",
   "execution_count": 14,
   "metadata": {},
   "outputs": [
    {
     "data": {
      "image/png": "[encoded data removed]",
      "text/plain": [
       "<Figure size 432x288 with 2 Axes>"
      ]
     },
     "metadata": {
      "needs_background": "light"
     },
     "output_type": "display_data"
    }
   ],
   "source": [
    "ConfusionMatrixDisplay(confusion_matrix=confusion_matrix(y_test, dt_classifier_balanced_predictions)).plot();"
   ]
  },
  {
   "cell_type": "code",
   "execution_count": 15,
   "metadata": {},
   "outputs": [],
   "source": [
    "algorithm_scores = algorithm_scores.append({'Model': 'Decision Tree Balanced',\n",
    "                                        'Train Precision': score_retriever(y_train, dt_classifier_balanced_predictions_trn)[0],\n",
    "                                        'Train Recall': score_retriever(y_train, dt_classifier_balanced_predictions_trn)[1],\n",
    "                                        'Train Accuracy': score_retriever(y_train, dt_classifier_balanced_predictions_trn)[2],\n",
    "                                        'Train F1_Score': score_retriever(y_train, dt_classifier_balanced_predictions_trn)[3],\n",
    "                                        'Test Precision': score_retriever(y_test, dt_classifier_balanced_predictions)[0],\n",
    "                                        'Test Recall': score_retriever(y_test, dt_classifier_balanced_predictions)[1],\n",
    "                                        'Test Accuracy': score_retriever(y_test, dt_classifier_balanced_predictions)[2],\n",
    "                                        'Test F1_Score': score_retriever(y_test, dt_classifier_balanced_predictions)[3]},\n",
    "                                        ignore_index=True)"
   ]
  },
  {
   "cell_type": "code",
   "execution_count": 16,
   "metadata": {},
   "outputs": [],
   "source": [
    "dt_param_grid = {\n",
    "    'criterion': ['entropy', 'gini'],\n",
    "    'max_depth': [5, 10, 20],\n",
    "    'min_samples_leaf': [1, 5, 10],\n",
    "    'min_samples_split': [2, 5, 10],\n",
    "}"
   ]
  },
  {
   "cell_type": "code",
   "execution_count": 17,
   "metadata": {},
   "outputs": [],
   "source": [
    "dt_grid_search = GridSearchCV(DecisionTreeClassifier(class_weight='balanced', random_state=42), dt_param_grid, cv=3, n_jobs=-1)\n",
    "dt_grid_search = dt_grid_search.fit(X_train, y_train.values.ravel())"
   ]
  },
  {
   "cell_type": "code",
   "execution_count": 18,
   "metadata": {},
   "outputs": [
    {
     "data": {
      "text/plain": [
       "{'criterion': 'gini',\n",
       " 'max_depth': 5,\n",
       " 'min_samples_leaf': 10,\n",
       " 'min_samples_split': 2}"
      ]
     },
     "execution_count": 18,
     "metadata": {},
     "output_type": "execute_result"
    }
   ],
   "source": [
    "dt_grid_search.best_params_"
   ]
  },
  {
   "cell_type": "code",
   "execution_count": 19,
   "metadata": {},
   "outputs": [],
   "source": [
    "dt_classifier_best_params = DecisionTreeClassifier(class_weight='balanced',\n",
    "                                                   criterion=dt_grid_search.best_params_['criterion'],\n",
    "                                                   max_depth=dt_grid_search.best_params_['max_depth'],\n",
    "                                                   min_samples_leaf=dt_grid_search.best_params_['min_samples_leaf'],\n",
    "                                                   min_samples_split=dt_grid_search.best_params_['min_samples_split'],\n",
    "                                                   random_state=42)"
   ]
  },
  {
   "cell_type": "code",
   "execution_count": 20,
   "metadata": {},
   "outputs": [],
   "source": [
    "dt_classifier_best_params.fit(X_train, y_train.values.ravel())\n",
    "dt_best_parameters_predictions_trn = dt_classifier_best_params.predict(X_train)\n",
    "dt_best_parameters_predictions = dt_classifier_best_params.predict(X_test)"
   ]
  },
  {
   "cell_type": "code",
   "execution_count": 21,
   "metadata": {},
   "outputs": [
    {
     "name": "stdout",
     "output_type": "stream",
     "text": [
      "              precision    recall  f1-score   support\n",
      "\n",
      "           0       0.24      0.53      0.33     30445\n",
      "           1       0.84      0.60      0.70    128753\n",
      "\n",
      "    accuracy                           0.58    159198\n",
      "   macro avg       0.54      0.56      0.51    159198\n",
      "weighted avg       0.73      0.58      0.63    159198\n",
      "\n",
      "              precision    recall  f1-score   support\n",
      "\n",
      "           0       0.24      0.53      0.33     10106\n",
      "           1       0.85      0.60      0.70     42960\n",
      "\n",
      "    accuracy                           0.59     53066\n",
      "   macro avg       0.54      0.57      0.52     53066\n",
      "weighted avg       0.73      0.59      0.63     53066\n",
      "\n"
     ]
    }
   ],
   "source": [
    "print(classification_report(y_train, dt_best_parameters_predictions_trn))\n",
    "print(classification_report(y_test, dt_best_parameters_predictions))"
   ]
  },
  {
   "cell_type": "code",
   "execution_count": 22,
   "metadata": {},
   "outputs": [
    {
     "data": {
      "image/png": "[encoded data removed]",
      "text/plain": [
       "<Figure size 432x288 with 2 Axes>"
      ]
     },
     "metadata": {
      "needs_background": "light"
     },
     "output_type": "display_data"
    }
   ],
   "source": [
    "ConfusionMatrixDisplay(confusion_matrix=confusion_matrix(y_test, dt_best_parameters_predictions)).plot();"
   ]
  },
  {
   "cell_type": "code",
   "execution_count": 23,
   "metadata": {},
   "outputs": [],
   "source": [
    "algorithm_scores = algorithm_scores.append({'Model': 'Decision Tree Tuned',\n",
    "                                        'Train Precision': score_retriever(y_train, dt_best_parameters_predictions_trn)[0],\n",
    "                                        'Train Recall': score_retriever(y_train, dt_best_parameters_predictions_trn)[1],\n",
    "                                        'Train Accuracy': score_retriever(y_train, dt_best_parameters_predictions_trn)[2],\n",
    "                                        'Train F1_Score': score_retriever(y_train, dt_best_parameters_predictions_trn)[3],\n",
    "                                        'Test Precision': score_retriever(y_test, dt_best_parameters_predictions)[0],\n",
    "                                        'Test Recall': score_retriever(y_test, dt_best_parameters_predictions)[1],\n",
    "                                        'Test Accuracy': score_retriever(y_test, dt_best_parameters_predictions)[2],\n",
    "                                        'Test F1_Score': score_retriever(y_test, dt_best_parameters_predictions)[3]},\n",
    "                                        ignore_index=True)"
   ]
  },
  {
   "cell_type": "markdown",
   "metadata": {},
   "source": [
    "### Random Forest "
   ]
  },
  {
   "cell_type": "code",
   "execution_count": 24,
   "metadata": {},
   "outputs": [
    {
     "data": {
      "text/plain": [
       "0.8023216372064975"
      ]
     },
     "execution_count": 24,
     "metadata": {},
     "output_type": "execute_result"
    }
   ],
   "source": [
    "rf_classifier_default_params = RandomForestClassifier(random_state=42)\n",
    "rf_classifier_baseline_score = np.mean(cross_val_score(rf_classifier_default_params,\n",
    "                                                       X_train, y_train.values.ravel(), cv=3))\n",
    "rf_classifier_baseline_score"
   ]
  },
  {
   "cell_type": "code",
   "execution_count": 25,
   "metadata": {},
   "outputs": [],
   "source": [
    "rf_classifier_default_params.fit(X_train, y_train.values.ravel())\n",
    "rf_classifier_baseline_predictions_trn = rf_classifier_default_params.predict(X_train)\n",
    "rf_classifier_baseline_predictions = rf_classifier_default_params.predict(X_test)"
   ]
  },
  {
   "cell_type": "code",
   "execution_count": 26,
   "metadata": {},
   "outputs": [
    {
     "name": "stdout",
     "output_type": "stream",
     "text": [
      "              precision    recall  f1-score   support\n",
      "\n",
      "           0       0.80      0.18      0.30     30445\n",
      "           1       0.84      0.99      0.91    128753\n",
      "\n",
      "    accuracy                           0.83    159198\n",
      "   macro avg       0.82      0.59      0.60    159198\n",
      "weighted avg       0.83      0.83      0.79    159198\n",
      "\n",
      "              precision    recall  f1-score   support\n",
      "\n",
      "           0       0.44      0.09      0.15     10106\n",
      "           1       0.82      0.97      0.89     42960\n",
      "\n",
      "    accuracy                           0.80     53066\n",
      "   macro avg       0.63      0.53      0.52     53066\n",
      "weighted avg       0.75      0.80      0.75     53066\n",
      "\n"
     ]
    }
   ],
   "source": [
    "print(classification_report(y_train, rf_classifier_baseline_predictions_trn))\n",
    "print(classification_report(y_test, rf_classifier_baseline_predictions))"
   ]
  },
  {
   "cell_type": "code",
   "execution_count": 27,
   "metadata": {},
   "outputs": [
    {
     "data": {
      "image/png": "[encoded data removed]",
      "text/plain": [
       "<Figure size 432x288 with 2 Axes>"
      ]
     },
     "metadata": {
      "needs_background": "light"
     },
     "output_type": "display_data"
    }
   ],
   "source": [
    "ConfusionMatrixDisplay(confusion_matrix=confusion_matrix(y_test, rf_classifier_baseline_predictions)).plot();"
   ]
  },
  {
   "cell_type": "code",
   "execution_count": 28,
   "metadata": {},
   "outputs": [],
   "source": [
    "algorithm_scores = algorithm_scores.append({'Model': 'Random Forest Baseline',\n",
    "                                        'Train Precision': score_retriever(y_train, rf_classifier_baseline_predictions_trn)[0],\n",
    "                                        'Train Recall': score_retriever(y_train, rf_classifier_baseline_predictions_trn)[1],\n",
    "                                        'Train Accuracy': score_retriever(y_train, rf_classifier_baseline_predictions_trn)[2],\n",
    "                                        'Train F1_Score': score_retriever(y_train, rf_classifier_baseline_predictions_trn)[3],\n",
    "                                        'Test Precision': score_retriever(y_test, rf_classifier_baseline_predictions)[0],\n",
    "                                        'Test Recall': score_retriever(y_test, rf_classifier_baseline_predictions)[1],\n",
    "                                        'Test Accuracy': score_retriever(y_test, rf_classifier_baseline_predictions)[2],\n",
    "                                        'Test F1_Score': score_retriever(y_test, rf_classifier_baseline_predictions)[3]},\n",
    "                                                        ignore_index=True)"
   ]
  },
  {
   "cell_type": "code",
   "execution_count": 29,
   "metadata": {},
   "outputs": [
    {
     "data": {
      "text/plain": [
       "0.6783313860726894"
      ]
     },
     "execution_count": 29,
     "metadata": {},
     "output_type": "execute_result"
    }
   ],
   "source": [
    "rf_classifier_balanced = RandomForestClassifier(random_state=42, class_weight='balanced')\n",
    "rf_classifier_balanced_score = np.mean(cross_val_score(rf_classifier_balanced,\n",
    "                                                       X_train, y_train.values.ravel(), cv=3))\n",
    "rf_classifier_balanced_score"
   ]
  },
  {
   "cell_type": "code",
   "execution_count": 30,
   "metadata": {},
   "outputs": [],
   "source": [
    "rf_classifier_balanced.fit(X_train, y_train.values.ravel())\n",
    "rf_classifier_balanced_predictions_trn = rf_classifier_balanced.predict(X_train)\n",
    "rf_classifier_balanced_predictions = rf_classifier_balanced.predict(X_test)"
   ]
  },
  {
   "cell_type": "code",
   "execution_count": 31,
   "metadata": {},
   "outputs": [
    {
     "name": "stdout",
     "output_type": "stream",
     "text": [
      "              precision    recall  f1-score   support\n",
      "\n",
      "           0       0.34      0.52      0.41     30445\n",
      "           1       0.87      0.76      0.81    128753\n",
      "\n",
      "    accuracy                           0.72    159198\n",
      "   macro avg       0.61      0.64      0.61    159198\n",
      "weighted avg       0.77      0.72      0.74    159198\n",
      "\n",
      "              precision    recall  f1-score   support\n",
      "\n",
      "           0       0.25      0.37      0.30     10106\n",
      "           1       0.83      0.74      0.78     42960\n",
      "\n",
      "    accuracy                           0.67     53066\n",
      "   macro avg       0.54      0.56      0.54     53066\n",
      "weighted avg       0.72      0.67      0.69     53066\n",
      "\n"
     ]
    }
   ],
   "source": [
    "print(classification_report(y_train, rf_classifier_balanced_predictions_trn))\n",
    "print(classification_report(y_test, rf_classifier_balanced_predictions))"
   ]
  },
  {
   "cell_type": "code",
   "execution_count": 32,
   "metadata": {},
   "outputs": [
    {
     "data": {
      "image/png": "[encoded data removed]",
      "text/plain": [
       "<Figure size 432x288 with 2 Axes>"
      ]
     },
     "metadata": {
      "needs_background": "light"
     },
     "output_type": "display_data"
    }
   ],
   "source": [
    "ConfusionMatrixDisplay(confusion_matrix=confusion_matrix(y_test, rf_classifier_balanced_predictions)).plot();"
   ]
  },
  {
   "cell_type": "code",
   "execution_count": 33,
   "metadata": {},
   "outputs": [],
   "source": [
    "algorithm_scores = algorithm_scores.append({'Model': 'Random Forest Balanced',\n",
    "                                        'Train Precision': score_retriever(y_train, rf_classifier_balanced_predictions_trn)[0],\n",
    "                                        'Train Recall': score_retriever(y_train, rf_classifier_balanced_predictions_trn)[1],\n",
    "                                        'Train Accuracy': score_retriever(y_train, rf_classifier_balanced_predictions_trn)[2],\n",
    "                                        'Train F1_Score': score_retriever(y_train, rf_classifier_balanced_predictions_trn)[3],\n",
    "                                        'Test Precision': score_retriever(y_test, rf_classifier_balanced_predictions)[0],\n",
    "                                        'Test Recall': score_retriever(y_test, rf_classifier_balanced_predictions)[1],\n",
    "                                        'Test Accuracy': score_retriever(y_test, rf_classifier_balanced_predictions)[2],\n",
    "                                        'Test F1_Score': score_retriever(y_test, rf_classifier_balanced_predictions)[3]},\n",
    "                                        ignore_index=True)"
   ]
  },
  {
   "cell_type": "code",
   "execution_count": 34,
   "metadata": {},
   "outputs": [],
   "source": [
    "rf_param_grid = {\n",
    "    'criterion': ['entropy', 'gini'],\n",
    "    'max_depth': [5, 10, 20],\n",
    "    'min_samples_leaf': [1, 5, 10],\n",
    "    'min_samples_split': [2, 5, 10],\n",
    "    'n_estimators': [10, 50, 100]\n",
    "}"
   ]
  },
  {
   "cell_type": "code",
   "execution_count": 35,
   "metadata": {},
   "outputs": [],
   "source": [
    "rf_grid_search = GridSearchCV(RandomForestClassifier(random_state=42, class_weight='balanced'), rf_param_grid, cv=3, n_jobs=-1)\n",
    "rf_grid_search = rf_grid_search.fit(X_train, y_train.values.ravel())"
   ]
  },
  {
   "cell_type": "code",
   "execution_count": 36,
   "metadata": {},
   "outputs": [
    {
     "data": {
      "text/plain": [
       "{'criterion': 'entropy',\n",
       " 'max_depth': 5,\n",
       " 'min_samples_leaf': 10,\n",
       " 'min_samples_split': 2,\n",
       " 'n_estimators': 10}"
      ]
     },
     "execution_count": 36,
     "metadata": {},
     "output_type": "execute_result"
    }
   ],
   "source": [
    "rf_grid_search.best_params_"
   ]
  },
  {
   "cell_type": "code",
   "execution_count": 37,
   "metadata": {},
   "outputs": [],
   "source": [
    "rf_classifier_best_params = RandomForestClassifier(class_weight='balanced',\n",
    "                                                   criterion=rf_grid_search.best_params_['criterion'],\n",
    "                                                   max_depth=rf_grid_search.best_params_['max_depth'],\n",
    "                                                   min_samples_leaf=rf_grid_search.best_params_['min_samples_leaf'],\n",
    "                                                   min_samples_split=rf_grid_search.best_params_['min_samples_split'],\n",
    "                                                   n_estimators=rf_grid_search.best_params_['n_estimators'],\n",
    "                                                   random_state=42)"
   ]
  },
  {
   "cell_type": "code",
   "execution_count": 38,
   "metadata": {},
   "outputs": [],
   "source": [
    "rf_classifier_best_params.fit(X_train, y_train.values.ravel())\n",
    "rf_best_parameters_predictions_trn = rf_classifier_best_params.predict(X_train)\n",
    "rf_best_parameters_predictions = rf_classifier_best_params.predict(X_test)"
   ]
  },
  {
   "cell_type": "code",
   "execution_count": 39,
   "metadata": {},
   "outputs": [
    {
     "name": "stdout",
     "output_type": "stream",
     "text": [
      "              precision    recall  f1-score   support\n",
      "\n",
      "           0       0.31      0.31      0.31     30445\n",
      "           1       0.84      0.84      0.84    128753\n",
      "\n",
      "    accuracy                           0.74    159198\n",
      "   macro avg       0.57      0.57      0.57    159198\n",
      "weighted avg       0.74      0.74      0.74    159198\n",
      "\n",
      "              precision    recall  f1-score   support\n",
      "\n",
      "           0       0.31      0.31      0.31     10106\n",
      "           1       0.84      0.84      0.84     42960\n",
      "\n",
      "    accuracy                           0.74     53066\n",
      "   macro avg       0.58      0.57      0.58     53066\n",
      "weighted avg       0.74      0.74      0.74     53066\n",
      "\n"
     ]
    }
   ],
   "source": [
    "print(classification_report(y_train, rf_best_parameters_predictions_trn))\n",
    "print(classification_report(y_test, rf_best_parameters_predictions))"
   ]
  },
  {
   "cell_type": "code",
   "execution_count": 40,
   "metadata": {},
   "outputs": [
    {
     "data": {
      "image/png": "[encoded data removed]",
      "text/plain": [
       "<Figure size 432x288 with 2 Axes>"
      ]
     },
     "metadata": {
      "needs_background": "light"
     },
     "output_type": "display_data"
    }
   ],
   "source": [
    "ConfusionMatrixDisplay(confusion_matrix=confusion_matrix(y_test, rf_best_parameters_predictions)).plot();"
   ]
  },
  {
   "cell_type": "code",
   "execution_count": 41,
   "metadata": {},
   "outputs": [],
   "source": [
    "algorithm_scores = algorithm_scores.append({'Model': 'Random Forest Tuned',\n",
    "                                        'Train Precision': score_retriever(y_train, rf_best_parameters_predictions_trn)[0],\n",
    "                                        'Train Recall': score_retriever(y_train, rf_best_parameters_predictions_trn)[1],\n",
    "                                        'Train Accuracy': score_retriever(y_train, rf_best_parameters_predictions_trn)[2],\n",
    "                                        'Train F1_Score': score_retriever(y_train, rf_best_parameters_predictions_trn)[3],\n",
    "                                        'Test Precision': score_retriever(y_test, rf_best_parameters_predictions)[0],\n",
    "                                        'Test Recall': score_retriever(y_test, rf_best_parameters_predictions)[1],\n",
    "                                        'Test Accuracy': score_retriever(y_test, rf_best_parameters_predictions)[2],\n",
    "                                        'Test F1_Score': score_retriever(y_test, rf_best_parameters_predictions)[3]},\n",
    "                                        ignore_index=True)"
   ]
  },
  {
   "cell_type": "code",
   "execution_count": 42,
   "metadata": {},
   "outputs": [],
   "source": [
    "rf_feature_importance_dict = dict(zip(X_train.columns, rf_classifier_best_params.feature_importances_))"
   ]
  },
  {
   "cell_type": "code",
   "execution_count": 43,
   "metadata": {},
   "outputs": [],
   "source": [
    "dummied_categories = ['steward', 'guards', 'borough']\n",
    "for name in dummied_categories:\n",
    "    category_sum = sum([value for key, value in rf_feature_importance_dict.items() if name in key])\n",
    "    remove_keys = [key for key in rf_feature_importance_dict.keys() if name in key]\n",
    "    for key in remove_keys:\n",
    "        rf_feature_importance_dict.pop(key)\n",
    "    rf_feature_importance_dict[name] = category_sum"
   ]
  },
  {
   "cell_type": "code",
   "execution_count": 44,
   "metadata": {},
   "outputs": [
    {
     "data": {
      "image/png": "[encoded data removed]",
      "text/plain": [
       "<Figure size 432x288 with 1 Axes>"
      ]
     },
     "metadata": {
      "needs_background": "light"
     },
     "output_type": "display_data"
    }
   ],
   "source": [
    "importances = pd.Series(rf_feature_importance_dict.values(), \n",
    "                        index=rf_feature_importance_dict.keys()).sort_values(ascending=False)\n",
    "sns.barplot(x=importances, y=importances.index);"
   ]
  },
  {
   "cell_type": "markdown",
   "metadata": {},
   "source": [
    "### eXtreme Gradient Boosting"
   ]
  },
  {
   "cell_type": "code",
   "execution_count": 45,
   "metadata": {},
   "outputs": [
    {
     "data": {
      "text/plain": [
       "0.8115993919521602"
      ]
     },
     "execution_count": 45,
     "metadata": {},
     "output_type": "execute_result"
    }
   ],
   "source": [
    "xgb_classifier_default_params = XGBClassifier(eval_metric='mlogloss', random_state=42, use_label_encoder=False)\n",
    "xgb_classifier_baseline_score = np.mean(cross_val_score(xgb_classifier_default_params,\n",
    "                                                        X_train, y_train.values.ravel(), cv=3))\n",
    "xgb_classifier_baseline_score"
   ]
  },
  {
   "cell_type": "code",
   "execution_count": 46,
   "metadata": {},
   "outputs": [],
   "source": [
    "xgb_classifier_default_params.fit(X_train, y_train.values.ravel())\n",
    "xgb_classifier_baseline_predictions_trn = xgb_classifier_default_params.predict(X_train)\n",
    "xgb_classifier_baseline_predictions = xgb_classifier_default_params.predict(X_test)"
   ]
  },
  {
   "cell_type": "code",
   "execution_count": 47,
   "metadata": {},
   "outputs": [
    {
     "name": "stdout",
     "output_type": "stream",
     "text": [
      "Model: XGBoost Baseline\n",
      "              precision    recall  f1-score   support\n",
      "\n",
      "           0       0.70      0.08      0.14     30445\n",
      "           1       0.82      0.99      0.90    128753\n",
      "\n",
      "    accuracy                           0.82    159198\n",
      "   macro avg       0.76      0.54      0.52    159198\n",
      "weighted avg       0.80      0.82      0.75    159198\n",
      "\n",
      "              precision    recall  f1-score   support\n",
      "\n",
      "           0       0.59      0.07      0.12     10106\n",
      "           1       0.82      0.99      0.90     42960\n",
      "\n",
      "    accuracy                           0.81     53066\n",
      "   macro avg       0.70      0.53      0.51     53066\n",
      "weighted avg       0.77      0.81      0.75     53066\n",
      "\n"
     ]
    }
   ],
   "source": [
    "print('Model: XGBoost Baseline')\n",
    "print(classification_report(y_train, xgb_classifier_baseline_predictions_trn))\n",
    "print(classification_report(y_test, xgb_classifier_baseline_predictions))"
   ]
  },
  {
   "cell_type": "code",
   "execution_count": 48,
   "metadata": {},
   "outputs": [
    {
     "data": {
      "image/png": "[encoded data removed]",
      "text/plain": [
       "<Figure size 432x288 with 2 Axes>"
      ]
     },
     "metadata": {
      "needs_background": "light"
     },
     "output_type": "display_data"
    }
   ],
   "source": [
    "ConfusionMatrixDisplay(confusion_matrix=confusion_matrix(y_test, xgb_classifier_baseline_predictions)).plot();"
   ]
  },
  {
   "cell_type": "code",
   "execution_count": 49,
   "metadata": {},
   "outputs": [],
   "source": [
    "algorithm_scores = algorithm_scores.append({'Model': 'XGBoost Baseline',\n",
    "                                        'Train Precision': score_retriever(y_train, xgb_classifier_baseline_predictions_trn)[0],\n",
    "                                        'Train Recall': score_retriever(y_train, xgb_classifier_baseline_predictions_trn)[1],\n",
    "                                        'Train Accuracy': score_retriever(y_train, xgb_classifier_baseline_predictions_trn)[2],\n",
    "                                        'Train F1_Score': score_retriever(y_train, xgb_classifier_baseline_predictions_trn)[3],\n",
    "                                        'Test Precision': score_retriever(y_test, xgb_classifier_baseline_predictions)[0],\n",
    "                                        'Test Recall': score_retriever(y_test, xgb_classifier_baseline_predictions)[1],\n",
    "                                        'Test Accuracy': score_retriever(y_test, xgb_classifier_baseline_predictions)[2],\n",
    "                                        'Test F1_Score': score_retriever(y_test, xgb_classifier_baseline_predictions)[3]},\n",
    "                                        ignore_index=True)"
   ]
  },
  {
   "cell_type": "code",
   "execution_count": 50,
   "metadata": {},
   "outputs": [
    {
     "name": "stdout",
     "output_type": "stream",
     "text": [
      "[02:25:54] WARNING: ..\\src\\learner.cc:541: \n",
      "Parameters: { class_weight } might not be used.\n",
      "\n",
      "  This may not be accurate due to some parameters are only used in language bindings but\n",
      "  passed down to XGBoost core.  Or some parameters are not used but slip through this\n",
      "  verification. Please open an issue if you find above cases.\n",
      "\n",
      "\n",
      "[02:26:03] WARNING: ..\\src\\learner.cc:541: \n",
      "Parameters: { class_weight } might not be used.\n",
      "\n",
      "  This may not be accurate due to some parameters are only used in language bindings but\n",
      "  passed down to XGBoost core.  Or some parameters are not used but slip through this\n",
      "  verification. Please open an issue if you find above cases.\n",
      "\n",
      "\n",
      "[02:26:15] WARNING: ..\\src\\learner.cc:541: \n",
      "Parameters: { class_weight } might not be used.\n",
      "\n",
      "  This may not be accurate due to some parameters are only used in language bindings but\n",
      "  passed down to XGBoost core.  Or some parameters are not used but slip through this\n",
      "  verification. Please open an issue if you find above cases.\n",
      "\n",
      "\n"
     ]
    },
    {
     "data": {
      "text/plain": [
       "0.8115993919521602"
      ]
     },
     "execution_count": 50,
     "metadata": {},
     "output_type": "execute_result"
    }
   ],
   "source": [
    "xgb_classifier_balanced = XGBClassifier(class_weight='balanced', eval_metric='mlogloss',\n",
    "                                        random_state=42, use_label_encoder=False)\n",
    "xgb_classifier_balanced_score = np.mean(cross_val_score(xgb_classifier_balanced,\n",
    "                                                       X_train, y_train.values.ravel(), cv=3))\n",
    "xgb_classifier_balanced_score"
   ]
  },
  {
   "cell_type": "code",
   "execution_count": 51,
   "metadata": {},
   "outputs": [
    {
     "name": "stdout",
     "output_type": "stream",
     "text": [
      "[02:26:27] WARNING: ..\\src\\learner.cc:541: \n",
      "Parameters: { class_weight } might not be used.\n",
      "\n",
      "  This may not be accurate due to some parameters are only used in language bindings but\n",
      "  passed down to XGBoost core.  Or some parameters are not used but slip through this\n",
      "  verification. Please open an issue if you find above cases.\n",
      "\n",
      "\n"
     ]
    }
   ],
   "source": [
    "xgb_classifier_balanced.fit(X_train, y_train.values.ravel())\n",
    "xgb_classifier_balanced_predictions_trn = xgb_classifier_balanced.predict(X_train)\n",
    "xgb_classifier_balanced_predictions = xgb_classifier_balanced.predict(X_test)"
   ]
  },
  {
   "cell_type": "code",
   "execution_count": 52,
   "metadata": {},
   "outputs": [
    {
     "name": "stdout",
     "output_type": "stream",
     "text": [
      "              precision    recall  f1-score   support\n",
      "\n",
      "           0       0.70      0.08      0.14     30445\n",
      "           1       0.82      0.99      0.90    128753\n",
      "\n",
      "    accuracy                           0.82    159198\n",
      "   macro avg       0.76      0.54      0.52    159198\n",
      "weighted avg       0.80      0.82      0.75    159198\n",
      "\n",
      "              precision    recall  f1-score   support\n",
      "\n",
      "           0       0.59      0.07      0.12     10106\n",
      "           1       0.82      0.99      0.90     42960\n",
      "\n",
      "    accuracy                           0.81     53066\n",
      "   macro avg       0.70      0.53      0.51     53066\n",
      "weighted avg       0.77      0.81      0.75     53066\n",
      "\n"
     ]
    }
   ],
   "source": [
    "print(classification_report(y_train, xgb_classifier_balanced_predictions_trn))\n",
    "print(classification_report(y_test, xgb_classifier_balanced_predictions))"
   ]
  },
  {
   "cell_type": "code",
   "execution_count": 53,
   "metadata": {},
   "outputs": [
    {
     "data": {
      "image/png": "[encoded data removed]",
      "text/plain": [
       "<Figure size 432x288 with 2 Axes>"
      ]
     },
     "metadata": {
      "needs_background": "light"
     },
     "output_type": "display_data"
    }
   ],
   "source": [
    "ConfusionMatrixDisplay(confusion_matrix=confusion_matrix(y_test, xgb_classifier_balanced_predictions)).plot();"
   ]
  },
  {
   "cell_type": "code",
   "execution_count": 54,
   "metadata": {},
   "outputs": [],
   "source": [
    "algorithm_scores = algorithm_scores.append({'Model': 'XGBoost Balanced',\n",
    "                                        'Train Precision': score_retriever(y_train, xgb_classifier_balanced_predictions_trn)[0],\n",
    "                                        'Train Recall': score_retriever(y_train, xgb_classifier_balanced_predictions_trn)[1],\n",
    "                                        'Train Accuracy': score_retriever(y_train, xgb_classifier_balanced_predictions_trn)[2],\n",
    "                                        'Train F1_Score': score_retriever(y_train, xgb_classifier_balanced_predictions_trn)[3],\n",
    "                                        'Test Precision': score_retriever(y_test, xgb_classifier_balanced_predictions)[0],\n",
    "                                        'Test Recall': score_retriever(y_test, xgb_classifier_balanced_predictions)[1],\n",
    "                                        'Test Accuracy': score_retriever(y_test, xgb_classifier_balanced_predictions)[2],\n",
    "                                        'Test F1_Score': score_retriever(y_test, xgb_classifier_balanced_predictions)[3]},\n",
    "                                        ignore_index=True)"
   ]
  },
  {
   "cell_type": "code",
   "execution_count": 55,
   "metadata": {},
   "outputs": [],
   "source": [
    "xgb_param_grid = {\n",
    "    'learning_rate': [0.1, 0.2],\n",
    "    'max_depth': [6],\n",
    "    'min_child_weight': [1, 2],\n",
    "    'n_estimators': [100],\n",
    "    'subsample': [0.5, 0.7]\n",
    "}"
   ]
  },
  {
   "cell_type": "code",
   "execution_count": 56,
   "metadata": {},
   "outputs": [
    {
     "name": "stdout",
     "output_type": "stream",
     "text": [
      "[02:26:44] WARNING: ..\\src\\learner.cc:541: \n",
      "Parameters: { class_weight } might not be used.\n",
      "\n",
      "  This may not be accurate due to some parameters are only used in language bindings but\n",
      "  passed down to XGBoost core.  Or some parameters are not used but slip through this\n",
      "  verification. Please open an issue if you find above cases.\n",
      "\n",
      "\n",
      "[02:26:55] WARNING: ..\\src\\learner.cc:541: \n",
      "Parameters: { class_weight } might not be used.\n",
      "\n",
      "  This may not be accurate due to some parameters are only used in language bindings but\n",
      "  passed down to XGBoost core.  Or some parameters are not used but slip through this\n",
      "  verification. Please open an issue if you find above cases.\n",
      "\n",
      "\n",
      "[02:27:07] WARNING: ..\\src\\learner.cc:541: \n",
      "Parameters: { class_weight } might not be used.\n",
      "\n",
      "  This may not be accurate due to some parameters are only used in language bindings but\n",
      "  passed down to XGBoost core.  Or some parameters are not used but slip through this\n",
      "  verification. Please open an issue if you find above cases.\n",
      "\n",
      "\n",
      "[02:27:18] WARNING: ..\\src\\learner.cc:541: \n",
      "Parameters: { class_weight } might not be used.\n",
      "\n",
      "  This may not be accurate due to some parameters are only used in language bindings but\n",
      "  passed down to XGBoost core.  Or some parameters are not used but slip through this\n",
      "  verification. Please open an issue if you find above cases.\n",
      "\n",
      "\n",
      "[02:27:30] WARNING: ..\\src\\learner.cc:541: \n",
      "Parameters: { class_weight } might not be used.\n",
      "\n",
      "  This may not be accurate due to some parameters are only used in language bindings but\n",
      "  passed down to XGBoost core.  Or some parameters are not used but slip through this\n",
      "  verification. Please open an issue if you find above cases.\n",
      "\n",
      "\n",
      "[02:27:41] WARNING: ..\\src\\learner.cc:541: \n",
      "Parameters: { class_weight } might not be used.\n",
      "\n",
      "  This may not be accurate due to some parameters are only used in language bindings but\n",
      "  passed down to XGBoost core.  Or some parameters are not used but slip through this\n",
      "  verification. Please open an issue if you find above cases.\n",
      "\n",
      "\n",
      "[02:27:52] WARNING: ..\\src\\learner.cc:541: \n",
      "Parameters: { class_weight } might not be used.\n",
      "\n",
      "  This may not be accurate due to some parameters are only used in language bindings but\n",
      "  passed down to XGBoost core.  Or some parameters are not used but slip through this\n",
      "  verification. Please open an issue if you find above cases.\n",
      "\n",
      "\n",
      "[02:28:03] WARNING: ..\\src\\learner.cc:541: \n",
      "Parameters: { class_weight } might not be used.\n",
      "\n",
      "  This may not be accurate due to some parameters are only used in language bindings but\n",
      "  passed down to XGBoost core.  Or some parameters are not used but slip through this\n",
      "  verification. Please open an issue if you find above cases.\n",
      "\n",
      "\n",
      "[02:28:15] WARNING: ..\\src\\learner.cc:541: \n",
      "Parameters: { class_weight } might not be used.\n",
      "\n",
      "  This may not be accurate due to some parameters are only used in language bindings but\n",
      "  passed down to XGBoost core.  Or some parameters are not used but slip through this\n",
      "  verification. Please open an issue if you find above cases.\n",
      "\n",
      "\n",
      "[02:28:27] WARNING: ..\\src\\learner.cc:541: \n",
      "Parameters: { class_weight } might not be used.\n",
      "\n",
      "  This may not be accurate due to some parameters are only used in language bindings but\n",
      "  passed down to XGBoost core.  Or some parameters are not used but slip through this\n",
      "  verification. Please open an issue if you find above cases.\n",
      "\n",
      "\n",
      "[02:28:38] WARNING: ..\\src\\learner.cc:541: \n",
      "Parameters: { class_weight } might not be used.\n",
      "\n",
      "  This may not be accurate due to some parameters are only used in language bindings but\n",
      "  passed down to XGBoost core.  Or some parameters are not used but slip through this\n",
      "  verification. Please open an issue if you find above cases.\n",
      "\n",
      "\n",
      "[02:28:49] WARNING: ..\\src\\learner.cc:541: \n",
      "Parameters: { class_weight } might not be used.\n",
      "\n",
      "  This may not be accurate due to some parameters are only used in language bindings but\n",
      "  passed down to XGBoost core.  Or some parameters are not used but slip through this\n",
      "  verification. Please open an issue if you find above cases.\n",
      "\n",
      "\n",
      "[02:29:00] WARNING: ..\\src\\learner.cc:541: \n",
      "Parameters: { class_weight } might not be used.\n",
      "\n",
      "  This may not be accurate due to some parameters are only used in language bindings but\n",
      "  passed down to XGBoost core.  Or some parameters are not used but slip through this\n",
      "  verification. Please open an issue if you find above cases.\n",
      "\n",
      "\n",
      "[02:29:11] WARNING: ..\\src\\learner.cc:541: \n",
      "Parameters: { class_weight } might not be used.\n",
      "\n",
      "  This may not be accurate due to some parameters are only used in language bindings but\n",
      "  passed down to XGBoost core.  Or some parameters are not used but slip through this\n",
      "  verification. Please open an issue if you find above cases.\n",
      "\n",
      "\n",
      "[02:29:23] WARNING: ..\\src\\learner.cc:541: \n",
      "Parameters: { class_weight } might not be used.\n",
      "\n",
      "  This may not be accurate due to some parameters are only used in language bindings but\n",
      "  passed down to XGBoost core.  Or some parameters are not used but slip through this\n",
      "  verification. Please open an issue if you find above cases.\n",
      "\n",
      "\n",
      "[02:29:34] WARNING: ..\\src\\learner.cc:541: \n",
      "Parameters: { class_weight } might not be used.\n",
      "\n",
      "  This may not be accurate due to some parameters are only used in language bindings but\n",
      "  passed down to XGBoost core.  Or some parameters are not used but slip through this\n",
      "  verification. Please open an issue if you find above cases.\n",
      "\n",
      "\n",
      "[02:29:46] WARNING: ..\\src\\learner.cc:541: \n",
      "Parameters: { class_weight } might not be used.\n",
      "\n",
      "  This may not be accurate due to some parameters are only used in language bindings but\n",
      "  passed down to XGBoost core.  Or some parameters are not used but slip through this\n",
      "  verification. Please open an issue if you find above cases.\n",
      "\n",
      "\n",
      "[02:29:57] WARNING: ..\\src\\learner.cc:541: \n",
      "Parameters: { class_weight } might not be used.\n",
      "\n",
      "  This may not be accurate due to some parameters are only used in language bindings but\n",
      "  passed down to XGBoost core.  Or some parameters are not used but slip through this\n",
      "  verification. Please open an issue if you find above cases.\n",
      "\n",
      "\n",
      "[02:30:08] WARNING: ..\\src\\learner.cc:541: \n",
      "Parameters: { class_weight } might not be used.\n",
      "\n",
      "  This may not be accurate due to some parameters are only used in language bindings but\n",
      "  passed down to XGBoost core.  Or some parameters are not used but slip through this\n",
      "  verification. Please open an issue if you find above cases.\n",
      "\n",
      "\n",
      "[02:30:20] WARNING: ..\\src\\learner.cc:541: \n",
      "Parameters: { class_weight } might not be used.\n",
      "\n",
      "  This may not be accurate due to some parameters are only used in language bindings but\n",
      "  passed down to XGBoost core.  Or some parameters are not used but slip through this\n",
      "  verification. Please open an issue if you find above cases.\n",
      "\n",
      "\n",
      "[02:30:32] WARNING: ..\\src\\learner.cc:541: \n",
      "Parameters: { class_weight } might not be used.\n",
      "\n",
      "  This may not be accurate due to some parameters are only used in language bindings but\n",
      "  passed down to XGBoost core.  Or some parameters are not used but slip through this\n",
      "  verification. Please open an issue if you find above cases.\n",
      "\n",
      "\n",
      "[02:30:44] WARNING: ..\\src\\learner.cc:541: \n",
      "Parameters: { class_weight } might not be used.\n",
      "\n",
      "  This may not be accurate due to some parameters are only used in language bindings but\n",
      "  passed down to XGBoost core.  Or some parameters are not used but slip through this\n",
      "  verification. Please open an issue if you find above cases.\n",
      "\n",
      "\n",
      "[02:30:56] WARNING: ..\\src\\learner.cc:541: \n",
      "Parameters: { class_weight } might not be used.\n",
      "\n",
      "  This may not be accurate due to some parameters are only used in language bindings but\n",
      "  passed down to XGBoost core.  Or some parameters are not used but slip through this\n",
      "  verification. Please open an issue if you find above cases.\n",
      "\n",
      "\n",
      "[02:31:08] WARNING: ..\\src\\learner.cc:541: \n",
      "Parameters: { class_weight } might not be used.\n",
      "\n",
      "  This may not be accurate due to some parameters are only used in language bindings but\n",
      "  passed down to XGBoost core.  Or some parameters are not used but slip through this\n",
      "  verification. Please open an issue if you find above cases.\n",
      "\n",
      "\n",
      "[02:31:20] WARNING: ..\\src\\learner.cc:541: \n",
      "Parameters: { class_weight } might not be used.\n",
      "\n",
      "  This may not be accurate due to some parameters are only used in language bindings but\n",
      "  passed down to XGBoost core.  Or some parameters are not used but slip through this\n",
      "  verification. Please open an issue if you find above cases.\n",
      "\n",
      "\n"
     ]
    }
   ],
   "source": [
    "xgb_grid_search = GridSearchCV(XGBClassifier(class_weight='balanced', eval_metric='mlogloss',\n",
    "                                             random_state=42, use_label_encoder=False),\n",
    "                                             xgb_param_grid, scoring='accuracy', cv=3)\n",
    "xgb_grid_search = xgb_grid_search.fit(X_train, y_train.values.ravel())"
   ]
  },
  {
   "cell_type": "code",
   "execution_count": 57,
   "metadata": {},
   "outputs": [
    {
     "data": {
      "text/plain": [
       "{'learning_rate': 0.1,\n",
       " 'max_depth': 6,\n",
       " 'min_child_weight': 1,\n",
       " 'n_estimators': 100,\n",
       " 'subsample': 0.5}"
      ]
     },
     "execution_count": 57,
     "metadata": {},
     "output_type": "execute_result"
    }
   ],
   "source": [
    "xgb_grid_search.best_params_"
   ]
  },
  {
   "cell_type": "code",
   "execution_count": 58,
   "metadata": {},
   "outputs": [],
   "source": [
    "xgb_classifier_best_params = XGBClassifier(learning_rate=xgb_grid_search.best_params_['learning_rate'],\n",
    "                                           max_depth=xgb_grid_search.best_params_['max_depth'],\n",
    "                                           min_child_weight=xgb_grid_search.best_params_['min_child_weight'],\n",
    "                                           n_estimators=xgb_grid_search.best_params_['n_estimators'],\n",
    "                                           subsample=xgb_grid_search.best_params_['subsample'],\n",
    "                                           random_state=42, use_label_encoder=False)"
   ]
  },
  {
   "cell_type": "code",
   "execution_count": 59,
   "metadata": {},
   "outputs": [
    {
     "name": "stdout",
     "output_type": "stream",
     "text": [
      "[02:31:37] WARNING: ..\\src\\learner.cc:1061: Starting in XGBoost 1.3.0, the default evaluation metric used with the objective 'binary:logistic' was changed from 'error' to 'logloss'. Explicitly set eval_metric if you'd like to restore the old behavior.\n"
     ]
    }
   ],
   "source": [
    "xgb_classifier_best_params.fit(X_train, y_train)\n",
    "xgb_best_parameters_predictions_trn = xgb_classifier_best_params.predict(X_train)\n",
    "xgb_best_parameters_predictions = xgb_classifier_best_params.predict(X_test)"
   ]
  },
  {
   "cell_type": "code",
   "execution_count": 60,
   "metadata": {},
   "outputs": [
    {
     "name": "stdout",
     "output_type": "stream",
     "text": [
      "              precision    recall  f1-score   support\n",
      "\n",
      "           0       0.69      0.07      0.12     30445\n",
      "           1       0.82      0.99      0.90    128753\n",
      "\n",
      "    accuracy                           0.82    159198\n",
      "   macro avg       0.75      0.53      0.51    159198\n",
      "weighted avg       0.79      0.82      0.75    159198\n",
      "\n",
      "              precision    recall  f1-score   support\n",
      "\n",
      "           0       0.61      0.06      0.11     10106\n",
      "           1       0.82      0.99      0.90     42960\n",
      "\n",
      "    accuracy                           0.81     53066\n",
      "   macro avg       0.71      0.53      0.50     53066\n",
      "weighted avg       0.78      0.81      0.75     53066\n",
      "\n"
     ]
    }
   ],
   "source": [
    "print(classification_report(y_train, xgb_best_parameters_predictions_trn))\n",
    "print(classification_report(y_test, xgb_best_parameters_predictions))"
   ]
  },
  {
   "cell_type": "code",
   "execution_count": 61,
   "metadata": {},
   "outputs": [
    {
     "data": {
      "image/png": "[encoded data removed]",
      "text/plain": [
       "<Figure size 432x288 with 2 Axes>"
      ]
     },
     "metadata": {
      "needs_background": "light"
     },
     "output_type": "display_data"
    }
   ],
   "source": [
    "ConfusionMatrixDisplay(confusion_matrix=confusion_matrix(y_test, xgb_best_parameters_predictions)).plot();"
   ]
  },
  {
   "cell_type": "code",
   "execution_count": 62,
   "metadata": {},
   "outputs": [],
   "source": [
    "algorithm_scores = algorithm_scores.append({'Model': 'XGBoost Tuned',\n",
    "                                            'Train Precision': score_retriever(y_train, xgb_best_parameters_predictions_trn)[0],\n",
    "                                            'Train Recall': score_retriever(y_train, xgb_best_parameters_predictions_trn)[1],\n",
    "                                            'Train Accuracy': score_retriever(y_train, xgb_best_parameters_predictions_trn)[2],\n",
    "                                            'Train F1_Score': score_retriever(y_train, xgb_best_parameters_predictions_trn)[3],\n",
    "                                            'Test Precision': score_retriever(y_test, xgb_best_parameters_predictions)[0],\n",
    "                                            'Test Recall': score_retriever(y_test, xgb_best_parameters_predictions)[1],\n",
    "                                            'Test Accuracy': score_retriever(y_test, xgb_best_parameters_predictions)[2],\n",
    "                                            'Test F1_Score': score_retriever(y_test, xgb_best_parameters_predictions)[3]},\n",
    "                                                        ignore_index=True)"
   ]
  },
  {
   "cell_type": "code",
   "execution_count": 63,
   "metadata": {
    "scrolled": true
   },
   "outputs": [
    {
     "data": {
      "text/html": [
       "<div>\n",
       "<style scoped>\n",
       "    .dataframe tbody tr th:only-of-type {\n",
       "        vertical-align: middle;\n",
       "    }\n",
       "\n",
       "    .dataframe tbody tr th {\n",
       "        vertical-align: top;\n",
       "    }\n",
       "\n",
       "    .dataframe thead th {\n",
       "        text-align: right;\n",
       "    }\n",
       "</style>\n",
       "<table border=\"1\" class=\"dataframe\">\n",
       "  <thead>\n",
       "    <tr style=\"text-align: right;\">\n",
       "      <th></th>\n",
       "      <th>Model</th>\n",
       "      <th>Train Precision</th>\n",
       "      <th>Train Recall</th>\n",
       "      <th>Train Accuracy</th>\n",
       "      <th>Train F1_Score</th>\n",
       "      <th>Test Precision</th>\n",
       "      <th>Test Recall</th>\n",
       "      <th>Test Accuracy</th>\n",
       "      <th>Test F1_Score</th>\n",
       "    </tr>\n",
       "  </thead>\n",
       "  <tbody>\n",
       "    <tr>\n",
       "      <th>0</th>\n",
       "      <td>Decision Tree Baseline</td>\n",
       "      <td>84.002098</td>\n",
       "      <td>98.288972</td>\n",
       "      <td>83.477179</td>\n",
       "      <td>90.585675</td>\n",
       "      <td>82.100220</td>\n",
       "      <td>95.726257</td>\n",
       "      <td>79.644217</td>\n",
       "      <td>88.391188</td>\n",
       "    </tr>\n",
       "    <tr>\n",
       "      <th>1</th>\n",
       "      <td>Decision Tree Balanced</td>\n",
       "      <td>87.434732</td>\n",
       "      <td>74.133418</td>\n",
       "      <td>70.463825</td>\n",
       "      <td>80.236551</td>\n",
       "      <td>83.491933</td>\n",
       "      <td>71.073091</td>\n",
       "      <td>65.205593</td>\n",
       "      <td>76.783604</td>\n",
       "    </tr>\n",
       "    <tr>\n",
       "      <th>2</th>\n",
       "      <td>Decision Tree Tuned</td>\n",
       "      <td>84.317643</td>\n",
       "      <td>59.656862</td>\n",
       "      <td>58.398347</td>\n",
       "      <td>69.875233</td>\n",
       "      <td>84.562922</td>\n",
       "      <td>60.032588</td>\n",
       "      <td>58.772095</td>\n",
       "      <td>70.216995</td>\n",
       "    </tr>\n",
       "    <tr>\n",
       "      <th>3</th>\n",
       "      <td>Random Forest Baseline</td>\n",
       "      <td>83.629202</td>\n",
       "      <td>98.936724</td>\n",
       "      <td>83.476551</td>\n",
       "      <td>90.641221</td>\n",
       "      <td>81.992774</td>\n",
       "      <td>97.192737</td>\n",
       "      <td>80.446991</td>\n",
       "      <td>88.948064</td>\n",
       "    </tr>\n",
       "    <tr>\n",
       "      <th>4</th>\n",
       "      <td>Random Forest Balanced</td>\n",
       "      <td>87.045571</td>\n",
       "      <td>76.283271</td>\n",
       "      <td>71.637206</td>\n",
       "      <td>81.309839</td>\n",
       "      <td>83.352616</td>\n",
       "      <td>73.787244</td>\n",
       "      <td>66.848830</td>\n",
       "      <td>78.278800</td>\n",
       "    </tr>\n",
       "    <tr>\n",
       "      <th>5</th>\n",
       "      <td>Random Forest Tuned</td>\n",
       "      <td>83.683018</td>\n",
       "      <td>84.043090</td>\n",
       "      <td>73.841380</td>\n",
       "      <td>83.862668</td>\n",
       "      <td>83.800789</td>\n",
       "      <td>84.015363</td>\n",
       "      <td>73.911733</td>\n",
       "      <td>83.907939</td>\n",
       "    </tr>\n",
       "    <tr>\n",
       "      <th>6</th>\n",
       "      <td>XGBoost Baseline</td>\n",
       "      <td>82.012315</td>\n",
       "      <td>99.209339</td>\n",
       "      <td>81.762334</td>\n",
       "      <td>89.794871</td>\n",
       "      <td>81.810831</td>\n",
       "      <td>98.917598</td>\n",
       "      <td>81.319489</td>\n",
       "      <td>89.554598</td>\n",
       "    </tr>\n",
       "    <tr>\n",
       "      <th>7</th>\n",
       "      <td>XGBoost Balanced</td>\n",
       "      <td>82.012315</td>\n",
       "      <td>99.209339</td>\n",
       "      <td>81.762334</td>\n",
       "      <td>89.794871</td>\n",
       "      <td>81.810831</td>\n",
       "      <td>98.917598</td>\n",
       "      <td>81.319489</td>\n",
       "      <td>89.554598</td>\n",
       "    </tr>\n",
       "    <tr>\n",
       "      <th>8</th>\n",
       "      <td>XGBoost Tuned</td>\n",
       "      <td>81.791549</td>\n",
       "      <td>99.312637</td>\n",
       "      <td>81.563211</td>\n",
       "      <td>89.704546</td>\n",
       "      <td>81.759521</td>\n",
       "      <td>99.099162</td>\n",
       "      <td>81.372253</td>\n",
       "      <td>89.598131</td>\n",
       "    </tr>\n",
       "  </tbody>\n",
       "</table>\n",
       "</div>"
      ],
      "text/plain": [
       "                    Model  Train Precision  Train Recall  Train Accuracy  \\\n",
       "0  Decision Tree Baseline        84.002098     98.288972       83.477179   \n",
       "1  Decision Tree Balanced        87.434732     74.133418       70.463825   \n",
       "2     Decision Tree Tuned        84.317643     59.656862       58.398347   \n",
       "3  Random Forest Baseline        83.629202     98.936724       83.476551   \n",
       "4  Random Forest Balanced        87.045571     76.283271       71.637206   \n",
       "5     Random Forest Tuned        83.683018     84.043090       73.841380   \n",
       "6        XGBoost Baseline        82.012315     99.209339       81.762334   \n",
       "7        XGBoost Balanced        82.012315     99.209339       81.762334   \n",
       "8           XGBoost Tuned        81.791549     99.312637       81.563211   \n",
       "\n",
       "   Train F1_Score  Test Precision  Test Recall  Test Accuracy  Test F1_Score  \n",
       "0       90.585675       82.100220    95.726257      79.644217      88.391188  \n",
       "1       80.236551       83.491933    71.073091      65.205593      76.783604  \n",
       "2       69.875233       84.562922    60.032588      58.772095      70.216995  \n",
       "3       90.641221       81.992774    97.192737      80.446991      88.948064  \n",
       "4       81.309839       83.352616    73.787244      66.848830      78.278800  \n",
       "5       83.862668       83.800789    84.015363      73.911733      83.907939  \n",
       "6       89.794871       81.810831    98.917598      81.319489      89.554598  \n",
       "7       89.794871       81.810831    98.917598      81.319489      89.554598  \n",
       "8       89.704546       81.759521    99.099162      81.372253      89.598131  "
      ]
     },
     "execution_count": 63,
     "metadata": {},
     "output_type": "execute_result"
    }
   ],
   "source": [
    "algorithm_scores"
   ]
  },
  {
   "cell_type": "code",
   "execution_count": 64,
   "metadata": {},
   "outputs": [],
   "source": [
    "algorithm_scores.to_csv('data/two_class_scores.csv', index=False)"
   ]
  }
 ],
 "metadata": {
  "kernelspec": {
   "display_name": "Python 3 (ipykernel)",
   "language": "python",
   "name": "python3"
  },
  "language_info": {
   "codemirror_mode": {
    "name": "ipython",
    "version": 3
   },
   "file_extension": ".py",
   "mimetype": "text/x-python",
   "name": "python",
   "nbconvert_exporter": "python",
   "pygments_lexer": "ipython3",
   "version": "3.9.7"
  }
 },
 "nbformat": 4,
 "nbformat_minor": 4
}
