{
 "cells": [
  {
   "cell_type": "markdown",
   "metadata": {},
   "source": [
    "### NYC Tree Census Data Cleaning\n",
    "\n",
    "<div>\n",
    "<br>\n",
    "- Removal of unuseful columns<br>\n",
    "- Renaming of column header<br>\n",
    "- Removal of outliers in only continuous feature<br>\n",
    "- Revaluing of two category columns(excluding NaN category) to binary values\n",
    "</div>"
   ]
  },
  {
   "cell_type": "code",
   "execution_count": 1,
   "metadata": {},
   "outputs": [],
   "source": [
    "import matplotlib.pyplot as plt\n",
    "import numpy as np\n",
    "import pandas as pd\n",
    "import seaborn as sns"
   ]
  },
  {
   "cell_type": "code",
   "execution_count": 2,
   "metadata": {},
   "outputs": [],
   "source": [
    "## Import data from https://data.cityofnewyork.us/Environment/2015-Street-Tree-Census-Tree-Data/uvpi-gqnh\n",
    "nyc_tree = pd.read_csv('data/2015_Street_Tree_Census_-_Tree_Data.csv')"
   ]
  },
  {
   "cell_type": "code",
   "execution_count": 3,
   "metadata": {},
   "outputs": [
    {
     "data": {
      "text/html": [
       "<div>\n",
       "<style scoped>\n",
       "    .dataframe tbody tr th:only-of-type {\n",
       "        vertical-align: middle;\n",
       "    }\n",
       "\n",
       "    .dataframe tbody tr th {\n",
       "        vertical-align: top;\n",
       "    }\n",
       "\n",
       "    .dataframe thead th {\n",
       "        text-align: right;\n",
       "    }\n",
       "</style>\n",
       "<table border=\"1\" class=\"dataframe\">\n",
       "  <thead>\n",
       "    <tr style=\"text-align: right;\">\n",
       "      <th></th>\n",
       "      <th>tree_id</th>\n",
       "      <th>block_id</th>\n",
       "      <th>created_at</th>\n",
       "      <th>tree_dbh</th>\n",
       "      <th>stump_diam</th>\n",
       "      <th>curb_loc</th>\n",
       "      <th>status</th>\n",
       "      <th>health</th>\n",
       "      <th>spc_latin</th>\n",
       "      <th>spc_common</th>\n",
       "      <th>...</th>\n",
       "      <th>boro_ct</th>\n",
       "      <th>state</th>\n",
       "      <th>latitude</th>\n",
       "      <th>longitude</th>\n",
       "      <th>x_sp</th>\n",
       "      <th>y_sp</th>\n",
       "      <th>council district</th>\n",
       "      <th>census tract</th>\n",
       "      <th>bin</th>\n",
       "      <th>bbl</th>\n",
       "    </tr>\n",
       "  </thead>\n",
       "  <tbody>\n",
       "    <tr>\n",
       "      <th>588182</th>\n",
       "      <td>83261</td>\n",
       "      <td>203096</td>\n",
       "      <td>07/21/2015</td>\n",
       "      <td>7</td>\n",
       "      <td>0</td>\n",
       "      <td>OnCurb</td>\n",
       "      <td>Alive</td>\n",
       "      <td>Good</td>\n",
       "      <td>Platanus x acerifolia</td>\n",
       "      <td>London planetree</td>\n",
       "      <td>...</td>\n",
       "      <td>3120800</td>\n",
       "      <td>New York</td>\n",
       "      <td>40.669112</td>\n",
       "      <td>-73.866057</td>\n",
       "      <td>1.021407e+06</td>\n",
       "      <td>183080.4869</td>\n",
       "      <td>42.0</td>\n",
       "      <td>1208.0</td>\n",
       "      <td>3098605.0</td>\n",
       "      <td>3.044650e+09</td>\n",
       "    </tr>\n",
       "    <tr>\n",
       "      <th>87433</th>\n",
       "      <td>237037</td>\n",
       "      <td>414804</td>\n",
       "      <td>09/19/2015</td>\n",
       "      <td>8</td>\n",
       "      <td>0</td>\n",
       "      <td>OnCurb</td>\n",
       "      <td>Alive</td>\n",
       "      <td>Good</td>\n",
       "      <td>Quercus acutissima</td>\n",
       "      <td>sawtooth oak</td>\n",
       "      <td>...</td>\n",
       "      <td>5012806</td>\n",
       "      <td>New York</td>\n",
       "      <td>40.559099</td>\n",
       "      <td>-74.114358</td>\n",
       "      <td>9.524737e+05</td>\n",
       "      <td>142992.2128</td>\n",
       "      <td>50.0</td>\n",
       "      <td>12806.0</td>\n",
       "      <td>5055599.0</td>\n",
       "      <td>5.040230e+09</td>\n",
       "    </tr>\n",
       "    <tr>\n",
       "      <th>504972</th>\n",
       "      <td>690865</td>\n",
       "      <td>314605</td>\n",
       "      <td>08/31/2016</td>\n",
       "      <td>12</td>\n",
       "      <td>0</td>\n",
       "      <td>OnCurb</td>\n",
       "      <td>Alive</td>\n",
       "      <td>Good</td>\n",
       "      <td>Acer saccharinum</td>\n",
       "      <td>silver maple</td>\n",
       "      <td>...</td>\n",
       "      <td>4102900</td>\n",
       "      <td>New York</td>\n",
       "      <td>40.781247</td>\n",
       "      <td>-73.804117</td>\n",
       "      <td>1.038498e+06</td>\n",
       "      <td>223966.8966</td>\n",
       "      <td>19.0</td>\n",
       "      <td>1029.0</td>\n",
       "      <td>4107672.0</td>\n",
       "      <td>4.047480e+09</td>\n",
       "    </tr>\n",
       "    <tr>\n",
       "      <th>536185</th>\n",
       "      <td>29496</td>\n",
       "      <td>345702</td>\n",
       "      <td>06/22/2015</td>\n",
       "      <td>14</td>\n",
       "      <td>0</td>\n",
       "      <td>OnCurb</td>\n",
       "      <td>Alive</td>\n",
       "      <td>Good</td>\n",
       "      <td>Acer rubrum</td>\n",
       "      <td>red maple</td>\n",
       "      <td>...</td>\n",
       "      <td>4063700</td>\n",
       "      <td>New York</td>\n",
       "      <td>40.711595</td>\n",
       "      <td>-73.861602</td>\n",
       "      <td>1.022618e+06</td>\n",
       "      <td>198560.1042</td>\n",
       "      <td>30.0</td>\n",
       "      <td>637.0</td>\n",
       "      <td>4094198.0</td>\n",
       "      <td>4.038510e+09</td>\n",
       "    </tr>\n",
       "    <tr>\n",
       "      <th>681971</th>\n",
       "      <td>180084</td>\n",
       "      <td>310221</td>\n",
       "      <td>08/27/2015</td>\n",
       "      <td>4</td>\n",
       "      <td>0</td>\n",
       "      <td>OnCurb</td>\n",
       "      <td>Alive</td>\n",
       "      <td>Good</td>\n",
       "      <td>Quercus palustris</td>\n",
       "      <td>pin oak</td>\n",
       "      <td>...</td>\n",
       "      <td>4013400</td>\n",
       "      <td>New York</td>\n",
       "      <td>40.704147</td>\n",
       "      <td>-73.833897</td>\n",
       "      <td>1.030304e+06</td>\n",
       "      <td>195859.8888</td>\n",
       "      <td>29.0</td>\n",
       "      <td>134.0</td>\n",
       "      <td>4192866.0</td>\n",
       "      <td>4.092330e+09</td>\n",
       "    </tr>\n",
       "    <tr>\n",
       "      <th>180039</th>\n",
       "      <td>362302</td>\n",
       "      <td>404503</td>\n",
       "      <td>10/22/2015</td>\n",
       "      <td>9</td>\n",
       "      <td>0</td>\n",
       "      <td>OffsetFromCurb</td>\n",
       "      <td>Alive</td>\n",
       "      <td>Good</td>\n",
       "      <td>Liquidambar styraciflua</td>\n",
       "      <td>sweetgum</td>\n",
       "      <td>...</td>\n",
       "      <td>5012500</td>\n",
       "      <td>New York</td>\n",
       "      <td>40.628853</td>\n",
       "      <td>-74.117654</td>\n",
       "      <td>9.515921e+05</td>\n",
       "      <td>168406.4333</td>\n",
       "      <td>49.0</td>\n",
       "      <td>125.0</td>\n",
       "      <td>5005933.0</td>\n",
       "      <td>5.002200e+09</td>\n",
       "    </tr>\n",
       "    <tr>\n",
       "      <th>224962</th>\n",
       "      <td>424589</td>\n",
       "      <td>320186</td>\n",
       "      <td>11/04/2015</td>\n",
       "      <td>4</td>\n",
       "      <td>0</td>\n",
       "      <td>OnCurb</td>\n",
       "      <td>Alive</td>\n",
       "      <td>Good</td>\n",
       "      <td>Quercus palustris</td>\n",
       "      <td>pin oak</td>\n",
       "      <td>...</td>\n",
       "      <td>4140902</td>\n",
       "      <td>New York</td>\n",
       "      <td>40.746164</td>\n",
       "      <td>-73.782213</td>\n",
       "      <td>1.044596e+06</td>\n",
       "      <td>211199.3818</td>\n",
       "      <td>20.0</td>\n",
       "      <td>140902.0</td>\n",
       "      <td>4128012.0</td>\n",
       "      <td>4.056660e+09</td>\n",
       "    </tr>\n",
       "  </tbody>\n",
       "</table>\n",
       "<p>7 rows × 45 columns</p>\n",
       "</div>"
      ],
      "text/plain": [
       "        tree_id  block_id  created_at  tree_dbh  stump_diam        curb_loc  \\\n",
       "588182    83261    203096  07/21/2015         7           0          OnCurb   \n",
       "87433    237037    414804  09/19/2015         8           0          OnCurb   \n",
       "504972   690865    314605  08/31/2016        12           0          OnCurb   \n",
       "536185    29496    345702  06/22/2015        14           0          OnCurb   \n",
       "681971   180084    310221  08/27/2015         4           0          OnCurb   \n",
       "180039   362302    404503  10/22/2015         9           0  OffsetFromCurb   \n",
       "224962   424589    320186  11/04/2015         4           0          OnCurb   \n",
       "\n",
       "       status health                spc_latin        spc_common  ...  boro_ct  \\\n",
       "588182  Alive   Good    Platanus x acerifolia  London planetree  ...  3120800   \n",
       "87433   Alive   Good       Quercus acutissima      sawtooth oak  ...  5012806   \n",
       "504972  Alive   Good         Acer saccharinum      silver maple  ...  4102900   \n",
       "536185  Alive   Good              Acer rubrum         red maple  ...  4063700   \n",
       "681971  Alive   Good        Quercus palustris           pin oak  ...  4013400   \n",
       "180039  Alive   Good  Liquidambar styraciflua          sweetgum  ...  5012500   \n",
       "224962  Alive   Good        Quercus palustris           pin oak  ...  4140902   \n",
       "\n",
       "           state   latitude  longitude          x_sp         y_sp  \\\n",
       "588182  New York  40.669112 -73.866057  1.021407e+06  183080.4869   \n",
       "87433   New York  40.559099 -74.114358  9.524737e+05  142992.2128   \n",
       "504972  New York  40.781247 -73.804117  1.038498e+06  223966.8966   \n",
       "536185  New York  40.711595 -73.861602  1.022618e+06  198560.1042   \n",
       "681971  New York  40.704147 -73.833897  1.030304e+06  195859.8888   \n",
       "180039  New York  40.628853 -74.117654  9.515921e+05  168406.4333   \n",
       "224962  New York  40.746164 -73.782213  1.044596e+06  211199.3818   \n",
       "\n",
       "       council district census tract        bin           bbl  \n",
       "588182             42.0       1208.0  3098605.0  3.044650e+09  \n",
       "87433              50.0      12806.0  5055599.0  5.040230e+09  \n",
       "504972             19.0       1029.0  4107672.0  4.047480e+09  \n",
       "536185             30.0        637.0  4094198.0  4.038510e+09  \n",
       "681971             29.0        134.0  4192866.0  4.092330e+09  \n",
       "180039             49.0        125.0  5005933.0  5.002200e+09  \n",
       "224962             20.0     140902.0  4128012.0  4.056660e+09  \n",
       "\n",
       "[7 rows x 45 columns]"
      ]
     },
     "execution_count": 3,
     "metadata": {},
     "output_type": "execute_result"
    }
   ],
   "source": [
    "nyc_tree.sample(7)"
   ]
  },
  {
   "cell_type": "code",
   "execution_count": 4,
   "metadata": {},
   "outputs": [
    {
     "data": {
      "text/plain": [
       "Index(['tree_id', 'block_id', 'created_at', 'tree_dbh', 'stump_diam',\n",
       "       'curb_loc', 'status', 'health', 'spc_latin', 'spc_common', 'steward',\n",
       "       'guards', 'sidewalk', 'user_type', 'problems', 'root_stone',\n",
       "       'root_grate', 'root_other', 'trunk_wire', 'trnk_light', 'trnk_other',\n",
       "       'brch_light', 'brch_shoe', 'brch_other', 'address', 'postcode',\n",
       "       'zip_city', 'community board', 'borocode', 'borough', 'cncldist',\n",
       "       'st_assem', 'st_senate', 'nta', 'nta_name', 'boro_ct', 'state',\n",
       "       'latitude', 'longitude', 'x_sp', 'y_sp', 'council district',\n",
       "       'census tract', 'bin', 'bbl'],\n",
       "      dtype='object')"
      ]
     },
     "execution_count": 4,
     "metadata": {},
     "output_type": "execute_result"
    }
   ],
   "source": [
    "nyc_tree.columns"
   ]
  },
  {
   "cell_type": "code",
   "execution_count": 5,
   "metadata": {},
   "outputs": [],
   "source": [
    "## Reorder columns making target variable 'health' the first\n",
    "column_headers = list(nyc_tree.columns)\n",
    "column_headers = [column_headers[7]] + column_headers[:7] + column_headers[8:]\n",
    "nyc_tree = nyc_tree[column_headers]"
   ]
  },
  {
   "cell_type": "code",
   "execution_count": 6,
   "metadata": {},
   "outputs": [],
   "source": [
    "nyc_tree_eda = nyc_tree\n",
    "nyc_tree_eda.to_csv('data/nyc_tree_eda.csv', index=False)"
   ]
  },
  {
   "cell_type": "code",
   "execution_count": 7,
   "metadata": {},
   "outputs": [],
   "source": [
    "def two_category_binarizer(desirable_option, series):\n",
    "    nyc_tree[series] = nyc_tree[series].apply(lambda x: None if pd.isnull(x)==True else (1 if x==desirable_option else 0))"
   ]
  },
  {
   "cell_type": "markdown",
   "metadata": {},
   "source": [
    "#### Column 2 of 45<br>&emsp;tree_id"
   ]
  },
  {
   "cell_type": "code",
   "execution_count": 8,
   "metadata": {},
   "outputs": [
    {
     "data": {
      "text/plain": [
       "True"
      ]
     },
     "execution_count": 8,
     "metadata": {},
     "output_type": "execute_result"
    }
   ],
   "source": [
    "len(nyc_tree[nyc_tree.duplicated(subset='tree_id', keep=False)]) == 0"
   ]
  },
  {
   "cell_type": "code",
   "execution_count": 9,
   "metadata": {},
   "outputs": [],
   "source": [
    "## After determining there are no duplicated tree ids this column is no longer necessary\n",
    "nyc_tree.drop('tree_id', axis=1, inplace=True)"
   ]
  },
  {
   "cell_type": "markdown",
   "metadata": {},
   "source": [
    "#### Column 3 of 45<br>&emsp;block_id"
   ]
  },
  {
   "cell_type": "code",
   "execution_count": 10,
   "metadata": {},
   "outputs": [],
   "source": [
    "## Drop block_id for now; too many unique values"
   ]
  },
  {
   "cell_type": "code",
   "execution_count": 11,
   "metadata": {},
   "outputs": [],
   "source": [
    "nyc_tree.drop('block_id', axis=1, inplace=True)"
   ]
  },
  {
   "cell_type": "markdown",
   "metadata": {},
   "source": [
    "#### Column 4 of 45<br>&emsp;created_at"
   ]
  },
  {
   "cell_type": "code",
   "execution_count": 12,
   "metadata": {},
   "outputs": [],
   "source": [
    "nyc_tree.drop('created_at', axis=1, inplace=True)"
   ]
  },
  {
   "cell_type": "markdown",
   "metadata": {},
   "source": [
    "#### Column 5 of 45<br>&emsp;tree_dbh"
   ]
  },
  {
   "cell_type": "code",
   "execution_count": 13,
   "metadata": {},
   "outputs": [
    {
     "data": {
      "text/plain": [
       "4      60372\n",
       "3      54454\n",
       "2      41977\n",
       "5      41642\n",
       "11     37978\n",
       "       ...  \n",
       "75         1\n",
       "151        1\n",
       "154        1\n",
       "159        1\n",
       "450        1\n",
       "Name: tree_dbh, Length: 146, dtype: int64"
      ]
     },
     "execution_count": 13,
     "metadata": {},
     "output_type": "execute_result"
    }
   ],
   "source": [
    "nyc_tree.tree_dbh.value_counts(dropna=False)"
   ]
  },
  {
   "cell_type": "code",
   "execution_count": 14,
   "metadata": {},
   "outputs": [
    {
     "data": {
      "image/png": "[encoded data removed]",
      "text/plain": [
       "<Figure size 360x360 with 1 Axes>"
      ]
     },
     "metadata": {
      "needs_background": "light"
     },
     "output_type": "display_data"
    }
   ],
   "source": [
    "sns.displot(nyc_tree.tree_dbh, bins=150);"
   ]
  },
  {
   "cell_type": "code",
   "execution_count": 15,
   "metadata": {},
   "outputs": [
    {
     "data": {
      "text/plain": [
       "count    652173.000000\n",
       "mean         11.709485\n",
       "std           8.634239\n",
       "min           0.000000\n",
       "25%           5.000000\n",
       "50%          10.000000\n",
       "75%          16.000000\n",
       "max         425.000000\n",
       "Name: tree_dbh, dtype: float64"
      ]
     },
     "execution_count": 15,
     "metadata": {},
     "output_type": "execute_result"
    }
   ],
   "source": [
    "nyc_tree.loc[nyc_tree.status == 'Alive'].tree_dbh.describe()"
   ]
  },
  {
   "cell_type": "code",
   "execution_count": 16,
   "metadata": {},
   "outputs": [],
   "source": [
    "## Initialize 25th and 75th percentiles and the interquartile range for living trees\n",
    "svnty_fv_per = np.percentile(nyc_tree.loc[nyc_tree.status == 'Alive'].tree_dbh, 75)\n",
    "twnty_fv_per = np.percentile(nyc_tree.loc[nyc_tree.status == 'Alive'].tree_dbh, 25)\n",
    "alive_tree_diameter_iqr = svnty_fv_per - twnty_fv_per"
   ]
  },
  {
   "cell_type": "code",
   "execution_count": 17,
   "metadata": {},
   "outputs": [],
   "source": [
    "## After brief research some tree diameters seem too large, remove outliers of living trees\n",
    "nyc_tree.drop(nyc_tree.loc[nyc_tree.status == 'Alive'].loc[(nyc_tree.tree_dbh < (twnty_fv_per - 1.5*alive_tree_diameter_iqr))\n",
    "                                    | (nyc_tree.tree_dbh > (svnty_fv_per + 1.5*alive_tree_diameter_iqr))].index, inplace=True)"
   ]
  },
  {
   "cell_type": "code",
   "execution_count": 18,
   "metadata": {},
   "outputs": [
    {
     "data": {
      "text/plain": [
       "count    636794.000000\n",
       "mean         11.080827\n",
       "std           7.501970\n",
       "min           0.000000\n",
       "25%           5.000000\n",
       "50%          10.000000\n",
       "75%          16.000000\n",
       "max          32.000000\n",
       "Name: tree_dbh, dtype: float64"
      ]
     },
     "execution_count": 18,
     "metadata": {},
     "output_type": "execute_result"
    }
   ],
   "source": [
    "nyc_tree.loc[nyc_tree.status == 'Alive'].tree_dbh.describe()"
   ]
  },
  {
   "cell_type": "markdown",
   "metadata": {},
   "source": [
    "#### Column 6 of 45<br>&emsp;stump_diam"
   ]
  },
  {
   "cell_type": "code",
   "execution_count": 19,
   "metadata": {},
   "outputs": [
    {
     "data": {
      "text/plain": [
       "(17654, 42)"
      ]
     },
     "execution_count": 19,
     "metadata": {},
     "output_type": "execute_result"
    }
   ],
   "source": [
    "nyc_tree.loc[nyc_tree.stump_diam > 0].shape"
   ]
  },
  {
   "cell_type": "code",
   "execution_count": 20,
   "metadata": {},
   "outputs": [
    {
     "data": {
      "text/plain": [
       "Alive    636794\n",
       "Stump     17654\n",
       "Dead      13961\n",
       "Name: status, dtype: int64"
      ]
     },
     "execution_count": 20,
     "metadata": {},
     "output_type": "execute_result"
    }
   ],
   "source": [
    "nyc_tree.status.value_counts(dropna=False)"
   ]
  },
  {
   "cell_type": "code",
   "execution_count": 21,
   "metadata": {},
   "outputs": [
    {
     "data": {
      "text/plain": [
       "Good    514974\n",
       "Fair     95200\n",
       "NaN      31616\n",
       "Poor     26619\n",
       "Name: health, dtype: int64"
      ]
     },
     "execution_count": 21,
     "metadata": {},
     "output_type": "execute_result"
    }
   ],
   "source": [
    "nyc_tree.health.value_counts(dropna=False)"
   ]
  },
  {
   "cell_type": "code",
   "execution_count": 22,
   "metadata": {},
   "outputs": [],
   "source": [
    "## Drop 'stump_diam' column now and stumps later when addressing status column\n",
    "nyc_tree.drop('stump_diam', axis=1, inplace=True)"
   ]
  },
  {
   "cell_type": "markdown",
   "metadata": {},
   "source": [
    "#### Column 7 of 45<br>&emsp;curb_loc"
   ]
  },
  {
   "cell_type": "code",
   "execution_count": 23,
   "metadata": {},
   "outputs": [
    {
     "data": {
      "text/plain": [
       "OnCurb            642475\n",
       "OffsetFromCurb     25934\n",
       "Name: curb_loc, dtype: int64"
      ]
     },
     "execution_count": 23,
     "metadata": {},
     "output_type": "execute_result"
    }
   ],
   "source": [
    "nyc_tree.curb_loc.value_counts(dropna=False)"
   ]
  },
  {
   "cell_type": "code",
   "execution_count": 24,
   "metadata": {},
   "outputs": [],
   "source": [
    "## Rename 'curb_loc' 'on_curb'.  Replace 'OnCurb' values with 1,\n",
    "## replace 'OffsetFromCurb' values with 0, and ignore missing values\n",
    "nyc_tree.rename({'curb_loc': 'on_curb'}, axis=1, inplace=True)\n",
    "two_category_binarizer('OnCurb', 'on_curb')"
   ]
  },
  {
   "cell_type": "markdown",
   "metadata": {},
   "source": [
    "#### Column 8 of 45<br>&emsp;status"
   ]
  },
  {
   "cell_type": "code",
   "execution_count": 25,
   "metadata": {},
   "outputs": [
    {
     "data": {
      "text/plain": [
       "Alive    636794\n",
       "Stump     17654\n",
       "Dead      13961\n",
       "Name: status, dtype: int64"
      ]
     },
     "execution_count": 25,
     "metadata": {},
     "output_type": "execute_result"
    }
   ],
   "source": [
    "nyc_tree.status.value_counts()"
   ]
  },
  {
   "cell_type": "code",
   "execution_count": 26,
   "metadata": {},
   "outputs": [],
   "source": [
    "## Restrict data to only living trees\n",
    "nyc_tree.drop(nyc_tree.loc[nyc_tree.status != 'Alive'].index, inplace=True)"
   ]
  },
  {
   "cell_type": "code",
   "execution_count": 27,
   "metadata": {},
   "outputs": [
    {
     "data": {
      "text/plain": [
       "(636794, 41)"
      ]
     },
     "execution_count": 27,
     "metadata": {},
     "output_type": "execute_result"
    }
   ],
   "source": [
    "nyc_tree.shape"
   ]
  },
  {
   "cell_type": "code",
   "execution_count": 28,
   "metadata": {},
   "outputs": [],
   "source": [
    "## Address one row still missing value for health\n",
    "nyc_tree.drop(nyc_tree.loc[nyc_tree.health.isna() == True].index, inplace=True)"
   ]
  },
  {
   "cell_type": "code",
   "execution_count": 29,
   "metadata": {},
   "outputs": [],
   "source": [
    "nyc_tree.drop('status', axis=1, inplace=True)"
   ]
  },
  {
   "cell_type": "markdown",
   "metadata": {},
   "source": [
    "<div class=\"alert alert-block alert-info\">\n",
    "Column 9 of 45<br>&emsp;spc_latin needs adjusting\n",
    "</div>"
   ]
  },
  {
   "cell_type": "code",
   "execution_count": 30,
   "metadata": {},
   "outputs": [
    {
     "data": {
      "text/plain": [
       "Platanus x acerifolia                 79028\n",
       "Gleditsia triacanthos var. inermis    64210\n",
       "Pyrus calleryana                      58896\n",
       "Quercus palustris                     50041\n",
       "Acer platanoides                      34032\n",
       "                                      ...  \n",
       "Pinus rigida                             33\n",
       "Maclura pomifera                         29\n",
       "Pinus sylvestris                         25\n",
       "Pinus virginiana                         10\n",
       "NaN                                       4\n",
       "Name: spc_latin, Length: 133, dtype: int64"
      ]
     },
     "execution_count": 30,
     "metadata": {},
     "output_type": "execute_result"
    }
   ],
   "source": [
    "nyc_tree.spc_latin.value_counts(dropna=False)"
   ]
  },
  {
   "cell_type": "code",
   "execution_count": 31,
   "metadata": {},
   "outputs": [],
   "source": [
    "## Temporarily drop 'spc_latin' column\n",
    "nyc_tree.drop('spc_latin', axis=1, inplace=True)"
   ]
  },
  {
   "cell_type": "markdown",
   "metadata": {},
   "source": [
    "#### Column 10 of 45<br>&emsp;spc_common"
   ]
  },
  {
   "cell_type": "code",
   "execution_count": 32,
   "metadata": {},
   "outputs": [
    {
     "data": {
      "text/plain": [
       "London planetree    79028\n",
       "honeylocust         64210\n",
       "Callery pear        58896\n",
       "pin oak             50041\n",
       "Norway maple        34032\n",
       "                    ...  \n",
       "pitch pine             33\n",
       "Osage-orange           29\n",
       "Scots pine             25\n",
       "Virginia pine          10\n",
       "NaN                     4\n",
       "Name: spc_common, Length: 133, dtype: int64"
      ]
     },
     "execution_count": 32,
     "metadata": {},
     "output_type": "execute_result"
    }
   ],
   "source": [
    "nyc_tree.spc_common.value_counts(dropna=False)"
   ]
  },
  {
   "cell_type": "code",
   "execution_count": 33,
   "metadata": {},
   "outputs": [],
   "source": [
    "## No need for both 'spc_latin' and 'spc_common'\n",
    "nyc_tree.drop('spc_common', axis=1, inplace=True)"
   ]
  },
  {
   "cell_type": "markdown",
   "metadata": {},
   "source": [
    "#### Column 11 of 45<br>&emsp;steward"
   ]
  },
  {
   "cell_type": "code",
   "execution_count": 34,
   "metadata": {},
   "outputs": [
    {
     "data": {
      "text/plain": [
       "None       473821\n",
       "1or2       142314\n",
       "3or4        19061\n",
       "4orMore      1597\n",
       "Name: steward, dtype: int64"
      ]
     },
     "execution_count": 34,
     "metadata": {},
     "output_type": "execute_result"
    }
   ],
   "source": [
    "nyc_tree.steward.value_counts(dropna=False)"
   ]
  },
  {
   "cell_type": "code",
   "execution_count": 35,
   "metadata": {},
   "outputs": [
    {
     "name": "stdout",
     "output_type": "stream",
     "text": [
      "None\n",
      "Good    0.810179\n",
      "Fair    0.148560\n",
      "Poor    0.041260\n",
      "Name: health, dtype: float64\n",
      "1or2\n",
      "Good    0.802823\n",
      "Fair    0.153084\n",
      "Poor    0.044093\n",
      "Name: health, dtype: float64\n",
      "3or4\n",
      "Good    0.812707\n",
      "Fair    0.148156\n",
      "Poor    0.039138\n",
      "Name: health, dtype: float64\n",
      "4orMore\n",
      "Good    0.845335\n",
      "Fair    0.124609\n",
      "Poor    0.030056\n",
      "Name: health, dtype: float64\n"
     ]
    }
   ],
   "source": [
    "for value in nyc_tree.steward.value_counts(dropna=False).index:\n",
    "    print(value)\n",
    "    print(nyc_tree.loc[nyc_tree.steward == value].health.value_counts(normalize=True, dropna=False))"
   ]
  },
  {
   "cell_type": "markdown",
   "metadata": {},
   "source": [
    "#### Column 12 of 45<br>&emsp;guards"
   ]
  },
  {
   "cell_type": "code",
   "execution_count": 36,
   "metadata": {},
   "outputs": [
    {
     "data": {
      "text/plain": [
       "None       557419\n",
       "Helpful     51568\n",
       "Harmful     20140\n",
       "Unsure       7665\n",
       "NaN             1\n",
       "Name: guards, dtype: int64"
      ]
     },
     "execution_count": 36,
     "metadata": {},
     "output_type": "execute_result"
    }
   ],
   "source": [
    "nyc_tree.guards.value_counts(dropna=False)"
   ]
  },
  {
   "cell_type": "markdown",
   "metadata": {},
   "source": [
    "#### Column 13 of 45<br>&emsp;sidewalk"
   ]
  },
  {
   "cell_type": "code",
   "execution_count": 37,
   "metadata": {},
   "outputs": [
    {
     "data": {
      "text/plain": [
       "NoDamage    457121\n",
       "Damage      179671\n",
       "NaN              1\n",
       "Name: sidewalk, dtype: int64"
      ]
     },
     "execution_count": 37,
     "metadata": {},
     "output_type": "execute_result"
    }
   ],
   "source": [
    "nyc_tree.sidewalk.value_counts(dropna=False)"
   ]
  },
  {
   "cell_type": "code",
   "execution_count": 38,
   "metadata": {},
   "outputs": [],
   "source": [
    "## Replace 'NoDamage' values with 1, replace 'Damage' values with 0, and ignore missing values\n",
    "two_category_binarizer('NoDamage', 'sidewalk')"
   ]
  },
  {
   "cell_type": "markdown",
   "metadata": {},
   "source": [
    "#### Column 14 of 45<br>&emsp;user_type"
   ]
  },
  {
   "cell_type": "code",
   "execution_count": 39,
   "metadata": {},
   "outputs": [],
   "source": [
    "## This data does not seem to have a relationship with the target variable\n",
    "nyc_tree.drop('user_type', axis=1, inplace=True)"
   ]
  },
  {
   "cell_type": "markdown",
   "metadata": {},
   "source": [
    "#### Column 15 of 45<br>&emsp;problems"
   ]
  },
  {
   "cell_type": "code",
   "execution_count": 40,
   "metadata": {},
   "outputs": [
    {
     "data": {
      "text/plain": [
       "None                                                        420414\n",
       "Stones                                                       90458\n",
       "BranchLights                                                 28825\n",
       "Stones,BranchLights                                          16525\n",
       "RootOther                                                    11155\n",
       "                                                             ...  \n",
       "RootOther,WiresRope,TrunkLights,BranchLights,BranchOther         1\n",
       "Stones,BranchLights,Sneakers,BranchOther                         1\n",
       "MetalGrates,RootOther,TrunkLights,BranchLights                   1\n",
       "Stones,RootOther,TrunkLights,BranchLights,BranchOther            1\n",
       "MetalGrates,RootOther,WiresRope                                  1\n",
       "Name: problems, Length: 232, dtype: int64"
      ]
     },
     "execution_count": 40,
     "metadata": {},
     "output_type": "execute_result"
    }
   ],
   "source": [
    "nyc_tree.problems.value_counts(dropna=False)"
   ]
  },
  {
   "cell_type": "code",
   "execution_count": 41,
   "metadata": {},
   "outputs": [],
   "source": [
    "## Drop 'problems' column as it is a summary of the following nine columns\n",
    "nyc_tree.drop('problems', axis=1, inplace=True)"
   ]
  },
  {
   "cell_type": "markdown",
   "metadata": {},
   "source": [
    "#### Column 16 of 45<br>&emsp;root_stone"
   ]
  },
  {
   "cell_type": "code",
   "execution_count": 42,
   "metadata": {},
   "outputs": [
    {
     "data": {
      "text/plain": [
       "No     504544\n",
       "Yes    132249\n",
       "Name: root_stone, dtype: int64"
      ]
     },
     "execution_count": 42,
     "metadata": {},
     "output_type": "execute_result"
    }
   ],
   "source": [
    "nyc_tree.root_stone.value_counts(dropna=False)"
   ]
  },
  {
   "cell_type": "code",
   "execution_count": 43,
   "metadata": {},
   "outputs": [],
   "source": [
    "## Replace 'No' values with 1 and replace 'Yes' values with 0\n",
    "two_category_binarizer('No', 'root_stone')"
   ]
  },
  {
   "cell_type": "markdown",
   "metadata": {},
   "source": [
    "#### Column 17 of 45<br>&emsp;root_grate"
   ]
  },
  {
   "cell_type": "code",
   "execution_count": 44,
   "metadata": {},
   "outputs": [
    {
     "data": {
      "text/plain": [
       "No     633268\n",
       "Yes      3525\n",
       "Name: root_grate, dtype: int64"
      ]
     },
     "execution_count": 44,
     "metadata": {},
     "output_type": "execute_result"
    }
   ],
   "source": [
    "nyc_tree.root_grate.value_counts(dropna=False)"
   ]
  },
  {
   "cell_type": "code",
   "execution_count": 45,
   "metadata": {},
   "outputs": [],
   "source": [
    "## Replace 'No' values with 1 and replace 'Yes' values with 0\n",
    "two_category_binarizer('No', 'root_grate')"
   ]
  },
  {
   "cell_type": "markdown",
   "metadata": {},
   "source": [
    "#### Column 18 of 45<br>&emsp;root_other"
   ]
  },
  {
   "cell_type": "code",
   "execution_count": 46,
   "metadata": {},
   "outputs": [
    {
     "data": {
      "text/plain": [
       "No     607514\n",
       "Yes     29279\n",
       "Name: root_other, dtype: int64"
      ]
     },
     "execution_count": 46,
     "metadata": {},
     "output_type": "execute_result"
    }
   ],
   "source": [
    "nyc_tree.root_other.value_counts(dropna=False)"
   ]
  },
  {
   "cell_type": "code",
   "execution_count": 47,
   "metadata": {},
   "outputs": [],
   "source": [
    "## Replace 'No' values with 1 and replace 'Yes' values with 0\n",
    "two_category_binarizer('No', 'root_other')"
   ]
  },
  {
   "cell_type": "markdown",
   "metadata": {},
   "source": [
    "#### Column 19 of 45<br>&emsp;trunk_wire"
   ]
  },
  {
   "cell_type": "code",
   "execution_count": 48,
   "metadata": {},
   "outputs": [
    {
     "data": {
      "text/plain": [
       "No     624207\n",
       "Yes     12586\n",
       "Name: trunk_wire, dtype: int64"
      ]
     },
     "execution_count": 48,
     "metadata": {},
     "output_type": "execute_result"
    }
   ],
   "source": [
    "nyc_tree.trunk_wire.value_counts(dropna=False)"
   ]
  },
  {
   "cell_type": "code",
   "execution_count": 49,
   "metadata": {},
   "outputs": [],
   "source": [
    "## Replace 'No' values with 1 and replace 'Yes' values with 0\n",
    "nyc_tree.rename({'trunk_wire': 'trnk_wire'}, axis=1, inplace=True)\n",
    "two_category_binarizer('No', 'trnk_wire')"
   ]
  },
  {
   "cell_type": "markdown",
   "metadata": {},
   "source": [
    "#### Column 20 of 45<br>&emsp;trnk_light"
   ]
  },
  {
   "cell_type": "code",
   "execution_count": 50,
   "metadata": {},
   "outputs": [
    {
     "data": {
      "text/plain": [
       "No     635772\n",
       "Yes      1021\n",
       "Name: trnk_light, dtype: int64"
      ]
     },
     "execution_count": 50,
     "metadata": {},
     "output_type": "execute_result"
    }
   ],
   "source": [
    "nyc_tree.trnk_light.value_counts(dropna=False)"
   ]
  },
  {
   "cell_type": "code",
   "execution_count": 51,
   "metadata": {},
   "outputs": [],
   "source": [
    "## Replace 'No' values with 1 and replace 'Yes' values with 0\n",
    "two_category_binarizer('No', 'trnk_light')"
   ]
  },
  {
   "cell_type": "markdown",
   "metadata": {},
   "source": [
    "#### Column 21 of 45<br>&emsp;trnk_other"
   ]
  },
  {
   "cell_type": "code",
   "execution_count": 52,
   "metadata": {},
   "outputs": [
    {
     "data": {
      "text/plain": [
       "No     605165\n",
       "Yes     31628\n",
       "Name: trnk_other, dtype: int64"
      ]
     },
     "execution_count": 52,
     "metadata": {},
     "output_type": "execute_result"
    }
   ],
   "source": [
    "nyc_tree.trnk_other.value_counts(dropna=False)"
   ]
  },
  {
   "cell_type": "code",
   "execution_count": 53,
   "metadata": {},
   "outputs": [],
   "source": [
    "## Replace 'No' values with 1 and replace 'Yes' values with 0\n",
    "two_category_binarizer('No', 'trnk_other')"
   ]
  },
  {
   "cell_type": "markdown",
   "metadata": {},
   "source": [
    "#### Column 22 of 45<br>&emsp;brch_light"
   ]
  },
  {
   "cell_type": "code",
   "execution_count": 54,
   "metadata": {},
   "outputs": [
    {
     "data": {
      "text/plain": [
       "No     577178\n",
       "Yes     59615\n",
       "Name: brch_light, dtype: int64"
      ]
     },
     "execution_count": 54,
     "metadata": {},
     "output_type": "execute_result"
    }
   ],
   "source": [
    "nyc_tree.brch_light.value_counts(dropna=False)"
   ]
  },
  {
   "cell_type": "code",
   "execution_count": 55,
   "metadata": {},
   "outputs": [],
   "source": [
    "## Replace 'No' values with 1 and replace 'Yes' values with 0\n",
    "two_category_binarizer('No', 'brch_light')"
   ]
  },
  {
   "cell_type": "markdown",
   "metadata": {},
   "source": [
    "#### Column 23 of 45<br>&emsp;brch_shoe"
   ]
  },
  {
   "cell_type": "code",
   "execution_count": 56,
   "metadata": {},
   "outputs": [
    {
     "data": {
      "text/plain": [
       "No     636387\n",
       "Yes       406\n",
       "Name: brch_shoe, dtype: int64"
      ]
     },
     "execution_count": 56,
     "metadata": {},
     "output_type": "execute_result"
    }
   ],
   "source": [
    "nyc_tree.brch_shoe.value_counts(dropna=False)"
   ]
  },
  {
   "cell_type": "code",
   "execution_count": 57,
   "metadata": {},
   "outputs": [],
   "source": [
    "## Replace 'No' values with 1 and replace 'Yes' values with 0\n",
    "two_category_binarizer('No', 'brch_shoe')"
   ]
  },
  {
   "cell_type": "markdown",
   "metadata": {},
   "source": [
    "#### Column 24 of 45<br>&emsp;brch_other"
   ]
  },
  {
   "cell_type": "code",
   "execution_count": 58,
   "metadata": {},
   "outputs": [
    {
     "data": {
      "text/plain": [
       "No     612844\n",
       "Yes     23949\n",
       "Name: brch_other, dtype: int64"
      ]
     },
     "execution_count": 58,
     "metadata": {},
     "output_type": "execute_result"
    }
   ],
   "source": [
    "nyc_tree.brch_other.value_counts(dropna=False)"
   ]
  },
  {
   "cell_type": "code",
   "execution_count": 59,
   "metadata": {},
   "outputs": [],
   "source": [
    "## Replace 'No' values with 1 and replace 'Yes' values with 0\n",
    "two_category_binarizer('No', 'brch_other')"
   ]
  },
  {
   "cell_type": "markdown",
   "metadata": {},
   "source": [
    "#### Column 25 of 45<br>&emsp;address"
   ]
  },
  {
   "cell_type": "code",
   "execution_count": 60,
   "metadata": {},
   "outputs": [
    {
     "data": {
      "text/plain": [
       "106 CROSS BAY BOULEVARD    210\n",
       "2350 FOREST HILL ROAD      130\n",
       "2 TELEPORT DRIVE           124\n",
       "900 SOUTH AVENUE            88\n",
       "2750 VETERANS ROAD WEST     78\n",
       "                          ... \n",
       "30-014 70 STREET             1\n",
       "2071 CROTONA AVENUE          1\n",
       "1266 FLATBUSH AVENUE         1\n",
       "223 WHITMAN DRIVE            1\n",
       "696 WILLOUGHBY AVENUE        1\n",
       "Name: address, Length: 385952, dtype: int64"
      ]
     },
     "execution_count": 60,
     "metadata": {},
     "output_type": "execute_result"
    }
   ],
   "source": [
    "nyc_tree.address.value_counts(dropna=False)"
   ]
  },
  {
   "cell_type": "code",
   "execution_count": 61,
   "metadata": {},
   "outputs": [],
   "source": [
    "## Unable to use this data in modeling\n",
    "nyc_tree.drop('address', axis=1, inplace=True)"
   ]
  },
  {
   "cell_type": "markdown",
   "metadata": {},
   "source": [
    "#### Column 26 of 45<br>&emsp;postcode"
   ]
  },
  {
   "cell_type": "code",
   "execution_count": 62,
   "metadata": {},
   "outputs": [
    {
     "data": {
      "text/plain": [
       "10312    21241\n",
       "10314    16060\n",
       "10309    12070\n",
       "10306    11996\n",
       "11234    10537\n",
       "         ...  \n",
       "11697       24\n",
       "10048       11\n",
       "11451        9\n",
       "11096        9\n",
       "10115        7\n",
       "Name: postcode, Length: 191, dtype: int64"
      ]
     },
     "execution_count": 62,
     "metadata": {},
     "output_type": "execute_result"
    }
   ],
   "source": [
    "nyc_tree.postcode.value_counts(dropna=False)"
   ]
  },
  {
   "cell_type": "code",
   "execution_count": 63,
   "metadata": {},
   "outputs": [],
   "source": [
    "## Unable to use this data in modeling\n",
    "nyc_tree.drop('postcode', axis=1, inplace=True)"
   ]
  },
  {
   "cell_type": "markdown",
   "metadata": {},
   "source": [
    "#### Column 27 of 45<br>&emsp;zip_city"
   ]
  },
  {
   "cell_type": "code",
   "execution_count": 64,
   "metadata": {},
   "outputs": [],
   "source": [
    "## Seems to be a combination of boroughs and neighborhoods, not useful\n",
    "nyc_tree.drop('zip_city', axis=1, inplace=True)"
   ]
  },
  {
   "cell_type": "markdown",
   "metadata": {},
   "source": [
    "#### Column 28 of 45<br>&emsp;community board"
   ]
  },
  {
   "cell_type": "code",
   "execution_count": 65,
   "metadata": {},
   "outputs": [],
   "source": [
    "## Unable to use this data in modeling\n",
    "nyc_tree.drop('community board', axis=1, inplace=True)"
   ]
  },
  {
   "cell_type": "markdown",
   "metadata": {},
   "source": [
    "#### Column 29 of 45<br>&emsp;borocode"
   ]
  },
  {
   "cell_type": "code",
   "execution_count": 66,
   "metadata": {},
   "outputs": [],
   "source": [
    "## Provides same information as 'borough'\n",
    "nyc_tree.drop('borocode', axis=1, inplace=True)"
   ]
  },
  {
   "cell_type": "markdown",
   "metadata": {},
   "source": [
    "#### Column 30 of 45<br>&emsp;borough"
   ]
  },
  {
   "cell_type": "code",
   "execution_count": 67,
   "metadata": {},
   "outputs": [
    {
     "data": {
      "text/plain": [
       "Queens           229714\n",
       "Brooklyn         165967\n",
       "Staten Island     99330\n",
       "Bronx             79555\n",
       "Manhattan         62227\n",
       "Name: borough, dtype: int64"
      ]
     },
     "execution_count": 67,
     "metadata": {},
     "output_type": "execute_result"
    }
   ],
   "source": [
    "nyc_tree.borough.value_counts(dropna=False)"
   ]
  },
  {
   "cell_type": "code",
   "execution_count": 68,
   "metadata": {},
   "outputs": [],
   "source": [
    "nyc_tree.health = nyc_tree.health.apply(lambda x: 2 if x=='Good' else (1 if x=='Fair' else 0))"
   ]
  },
  {
   "cell_type": "code",
   "execution_count": 69,
   "metadata": {},
   "outputs": [],
   "source": [
    "nyc_tree_cleaned = nyc_tree.iloc[:, :16]"
   ]
  },
  {
   "cell_type": "code",
   "execution_count": 70,
   "metadata": {},
   "outputs": [],
   "source": [
    "nyc_tree_cleaned.to_csv('data/nyc_tree_cleaned.csv', index=False)"
   ]
  }
 ],
 "metadata": {
  "kernelspec": {
   "display_name": "Python 3",
   "language": "python",
   "name": "python3"
  },
  "language_info": {
   "codemirror_mode": {
    "name": "ipython",
    "version": 3
   },
   "file_extension": ".py",
   "mimetype": "text/x-python",
   "name": "python",
   "nbconvert_exporter": "python",
   "pygments_lexer": "ipython3",
   "version": "3.8.5"
  }
 },
 "nbformat": 4,
 "nbformat_minor": 4
}
