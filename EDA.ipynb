{
 "cells": [
  {
   "cell_type": "code",
   "execution_count": 1,
   "metadata": {},
   "outputs": [],
   "source": [
    "import matplotlib.pyplot as plt\n",
    "import pandas as pd\n",
    "import seaborn as sns"
   ]
  },
  {
   "cell_type": "code",
   "execution_count": 2,
   "metadata": {},
   "outputs": [],
   "source": [
    "nyc_tree = pd.read_csv('data/nyc_tree_eda.csv')"
   ]
  },
  {
   "cell_type": "code",
   "execution_count": 3,
   "metadata": {},
   "outputs": [
    {
     "data": {
      "text/html": [
       "<div>\n",
       "<style scoped>\n",
       "    .dataframe tbody tr th:only-of-type {\n",
       "        vertical-align: middle;\n",
       "    }\n",
       "\n",
       "    .dataframe tbody tr th {\n",
       "        vertical-align: top;\n",
       "    }\n",
       "\n",
       "    .dataframe thead th {\n",
       "        text-align: right;\n",
       "    }\n",
       "</style>\n",
       "<table border=\"1\" class=\"dataframe\">\n",
       "  <thead>\n",
       "    <tr style=\"text-align: right;\">\n",
       "      <th></th>\n",
       "      <th>health</th>\n",
       "      <th>tree_id</th>\n",
       "      <th>block_id</th>\n",
       "      <th>created_at</th>\n",
       "      <th>tree_dbh</th>\n",
       "      <th>stump_diam</th>\n",
       "      <th>curb_loc</th>\n",
       "      <th>status</th>\n",
       "      <th>spc_latin</th>\n",
       "      <th>spc_common</th>\n",
       "      <th>...</th>\n",
       "      <th>boro_ct</th>\n",
       "      <th>state</th>\n",
       "      <th>latitude</th>\n",
       "      <th>longitude</th>\n",
       "      <th>x_sp</th>\n",
       "      <th>y_sp</th>\n",
       "      <th>council district</th>\n",
       "      <th>census tract</th>\n",
       "      <th>bin</th>\n",
       "      <th>bbl</th>\n",
       "    </tr>\n",
       "  </thead>\n",
       "  <tbody>\n",
       "    <tr>\n",
       "      <th>230245</th>\n",
       "      <td>Good</td>\n",
       "      <td>422314</td>\n",
       "      <td>210906</td>\n",
       "      <td>11/03/2015</td>\n",
       "      <td>32</td>\n",
       "      <td>0</td>\n",
       "      <td>OnCurb</td>\n",
       "      <td>Alive</td>\n",
       "      <td>Platanus x acerifolia</td>\n",
       "      <td>London planetree</td>\n",
       "      <td>...</td>\n",
       "      <td>3092000</td>\n",
       "      <td>New York</td>\n",
       "      <td>40.659492</td>\n",
       "      <td>-73.902227</td>\n",
       "      <td>1.011377e+06</td>\n",
       "      <td>179562.1800</td>\n",
       "      <td>42.0</td>\n",
       "      <td>920.0</td>\n",
       "      <td>3320032.0</td>\n",
       "      <td>3.038470e+09</td>\n",
       "    </tr>\n",
       "    <tr>\n",
       "      <th>560834</th>\n",
       "      <td>Fair</td>\n",
       "      <td>57671</td>\n",
       "      <td>405393</td>\n",
       "      <td>07/09/2015</td>\n",
       "      <td>14</td>\n",
       "      <td>0</td>\n",
       "      <td>OnCurb</td>\n",
       "      <td>Alive</td>\n",
       "      <td>Fraxinus pennsylvanica</td>\n",
       "      <td>green ash</td>\n",
       "      <td>...</td>\n",
       "      <td>5012804</td>\n",
       "      <td>New York</td>\n",
       "      <td>40.560784</td>\n",
       "      <td>-74.103389</td>\n",
       "      <td>9.555225e+05</td>\n",
       "      <td>143602.3333</td>\n",
       "      <td>50.0</td>\n",
       "      <td>12804.0</td>\n",
       "      <td>5057108.0</td>\n",
       "      <td>5.040930e+09</td>\n",
       "    </tr>\n",
       "    <tr>\n",
       "      <th>102806</th>\n",
       "      <td>Good</td>\n",
       "      <td>297476</td>\n",
       "      <td>103065</td>\n",
       "      <td>10/08/2015</td>\n",
       "      <td>10</td>\n",
       "      <td>0</td>\n",
       "      <td>OnCurb</td>\n",
       "      <td>Alive</td>\n",
       "      <td>Tilia cordata</td>\n",
       "      <td>littleleaf linden</td>\n",
       "      <td>...</td>\n",
       "      <td>1003800</td>\n",
       "      <td>New York</td>\n",
       "      <td>40.725680</td>\n",
       "      <td>-73.988371</td>\n",
       "      <td>9.874734e+05</td>\n",
       "      <td>203661.5993</td>\n",
       "      <td>2.0</td>\n",
       "      <td>38.0</td>\n",
       "      <td>1006171.0</td>\n",
       "      <td>1.004450e+09</td>\n",
       "    </tr>\n",
       "    <tr>\n",
       "      <th>321802</th>\n",
       "      <td>Good</td>\n",
       "      <td>516432</td>\n",
       "      <td>213867</td>\n",
       "      <td>12/14/2015</td>\n",
       "      <td>22</td>\n",
       "      <td>0</td>\n",
       "      <td>OnCurb</td>\n",
       "      <td>Alive</td>\n",
       "      <td>Platanus x acerifolia</td>\n",
       "      <td>London planetree</td>\n",
       "      <td>...</td>\n",
       "      <td>3072000</td>\n",
       "      <td>New York</td>\n",
       "      <td>40.628686</td>\n",
       "      <td>-73.922199</td>\n",
       "      <td>1.005846e+06</td>\n",
       "      <td>168333.4088</td>\n",
       "      <td>46.0</td>\n",
       "      <td>720.0</td>\n",
       "      <td>3336787.0</td>\n",
       "      <td>3.077810e+09</td>\n",
       "    </tr>\n",
       "    <tr>\n",
       "      <th>301213</th>\n",
       "      <td>Fair</td>\n",
       "      <td>524313</td>\n",
       "      <td>412216</td>\n",
       "      <td>12/17/2015</td>\n",
       "      <td>5</td>\n",
       "      <td>0</td>\n",
       "      <td>OnCurb</td>\n",
       "      <td>Alive</td>\n",
       "      <td>Acer rubrum</td>\n",
       "      <td>red maple</td>\n",
       "      <td>...</td>\n",
       "      <td>5020803</td>\n",
       "      <td>New York</td>\n",
       "      <td>40.529120</td>\n",
       "      <td>-74.208490</td>\n",
       "      <td>9.262916e+05</td>\n",
       "      <td>132118.3995</td>\n",
       "      <td>51.0</td>\n",
       "      <td>20803.0</td>\n",
       "      <td>5085236.0</td>\n",
       "      <td>5.069460e+09</td>\n",
       "    </tr>\n",
       "    <tr>\n",
       "      <th>425911</th>\n",
       "      <td>Good</td>\n",
       "      <td>622000</td>\n",
       "      <td>203365</td>\n",
       "      <td>07/11/2016</td>\n",
       "      <td>4</td>\n",
       "      <td>0</td>\n",
       "      <td>OnCurb</td>\n",
       "      <td>Alive</td>\n",
       "      <td>Pyrus calleryana</td>\n",
       "      <td>Callery pear</td>\n",
       "      <td>...</td>\n",
       "      <td>3015200</td>\n",
       "      <td>New York</td>\n",
       "      <td>40.617057</td>\n",
       "      <td>-74.022391</td>\n",
       "      <td>9.780337e+05</td>\n",
       "      <td>164087.6033</td>\n",
       "      <td>43.0</td>\n",
       "      <td>152.0</td>\n",
       "      <td>3154380.0</td>\n",
       "      <td>3.060720e+09</td>\n",
       "    </tr>\n",
       "    <tr>\n",
       "      <th>519096</th>\n",
       "      <td>Good</td>\n",
       "      <td>11060</td>\n",
       "      <td>217449</td>\n",
       "      <td>06/05/2015</td>\n",
       "      <td>5</td>\n",
       "      <td>0</td>\n",
       "      <td>OnCurb</td>\n",
       "      <td>Alive</td>\n",
       "      <td>Pyrus calleryana</td>\n",
       "      <td>Callery pear</td>\n",
       "      <td>...</td>\n",
       "      <td>3048500</td>\n",
       "      <td>New York</td>\n",
       "      <td>40.709966</td>\n",
       "      <td>-73.937961</td>\n",
       "      <td>1.001450e+06</td>\n",
       "      <td>197942.2049</td>\n",
       "      <td>34.0</td>\n",
       "      <td>485.0</td>\n",
       "      <td>3070891.0</td>\n",
       "      <td>3.030370e+09</td>\n",
       "    </tr>\n",
       "  </tbody>\n",
       "</table>\n",
       "<p>7 rows × 45 columns</p>\n",
       "</div>"
      ],
      "text/plain": [
       "       health  tree_id  block_id  created_at  tree_dbh  stump_diam curb_loc  \\\n",
       "230245   Good   422314    210906  11/03/2015        32           0   OnCurb   \n",
       "560834   Fair    57671    405393  07/09/2015        14           0   OnCurb   \n",
       "102806   Good   297476    103065  10/08/2015        10           0   OnCurb   \n",
       "321802   Good   516432    213867  12/14/2015        22           0   OnCurb   \n",
       "301213   Fair   524313    412216  12/17/2015         5           0   OnCurb   \n",
       "425911   Good   622000    203365  07/11/2016         4           0   OnCurb   \n",
       "519096   Good    11060    217449  06/05/2015         5           0   OnCurb   \n",
       "\n",
       "       status               spc_latin         spc_common  ...  boro_ct  \\\n",
       "230245  Alive   Platanus x acerifolia   London planetree  ...  3092000   \n",
       "560834  Alive  Fraxinus pennsylvanica          green ash  ...  5012804   \n",
       "102806  Alive           Tilia cordata  littleleaf linden  ...  1003800   \n",
       "321802  Alive   Platanus x acerifolia   London planetree  ...  3072000   \n",
       "301213  Alive             Acer rubrum          red maple  ...  5020803   \n",
       "425911  Alive        Pyrus calleryana       Callery pear  ...  3015200   \n",
       "519096  Alive        Pyrus calleryana       Callery pear  ...  3048500   \n",
       "\n",
       "           state   latitude  longitude          x_sp         y_sp  \\\n",
       "230245  New York  40.659492 -73.902227  1.011377e+06  179562.1800   \n",
       "560834  New York  40.560784 -74.103389  9.555225e+05  143602.3333   \n",
       "102806  New York  40.725680 -73.988371  9.874734e+05  203661.5993   \n",
       "321802  New York  40.628686 -73.922199  1.005846e+06  168333.4088   \n",
       "301213  New York  40.529120 -74.208490  9.262916e+05  132118.3995   \n",
       "425911  New York  40.617057 -74.022391  9.780337e+05  164087.6033   \n",
       "519096  New York  40.709966 -73.937961  1.001450e+06  197942.2049   \n",
       "\n",
       "       council district census tract        bin           bbl  \n",
       "230245             42.0        920.0  3320032.0  3.038470e+09  \n",
       "560834             50.0      12804.0  5057108.0  5.040930e+09  \n",
       "102806              2.0         38.0  1006171.0  1.004450e+09  \n",
       "321802             46.0        720.0  3336787.0  3.077810e+09  \n",
       "301213             51.0      20803.0  5085236.0  5.069460e+09  \n",
       "425911             43.0        152.0  3154380.0  3.060720e+09  \n",
       "519096             34.0        485.0  3070891.0  3.030370e+09  \n",
       "\n",
       "[7 rows x 45 columns]"
      ]
     },
     "execution_count": 3,
     "metadata": {},
     "output_type": "execute_result"
    }
   ],
   "source": [
    "nyc_tree.sample(7)"
   ]
  },
  {
   "cell_type": "code",
   "execution_count": 4,
   "metadata": {},
   "outputs": [],
   "source": [
    "#nyc_tree.health = nyc_tree.health.apply(lambda x: 'Good' if x==2 else ('Fair' if x==1 else 'Poor'))"
   ]
  },
  {
   "cell_type": "code",
   "execution_count": 5,
   "metadata": {},
   "outputs": [
    {
     "data": {
      "text/plain": [
       "31616"
      ]
     },
     "execution_count": 5,
     "metadata": {},
     "output_type": "execute_result"
    }
   ],
   "source": [
    "nyc_tree.health.isna().sum()"
   ]
  },
  {
   "cell_type": "code",
   "execution_count": 6,
   "metadata": {},
   "outputs": [
    {
     "data": {
      "text/plain": [
       "Alive    652173\n",
       "Stump     17654\n",
       "Dead      13961\n",
       "Name: status, dtype: int64"
      ]
     },
     "execution_count": 6,
     "metadata": {},
     "output_type": "execute_result"
    }
   ],
   "source": [
    "nyc_tree.status.value_counts()"
   ]
  },
  {
   "cell_type": "code",
   "execution_count": 7,
   "metadata": {},
   "outputs": [
    {
     "data": {
      "text/plain": [
       "31615"
      ]
     },
     "execution_count": 7,
     "metadata": {},
     "output_type": "execute_result"
    }
   ],
   "source": [
    "17654 + 13961"
   ]
  },
  {
   "cell_type": "code",
   "execution_count": 8,
   "metadata": {},
   "outputs": [
    {
     "data": {
      "text/plain": [
       "<AxesSubplot:xlabel='tree_dbh', ylabel='health'>"
      ]
     },
     "execution_count": 8,
     "metadata": {},
     "output_type": "execute_result"
    },
    {
     "data": {
      "image/png": "[encoded data removed]",
      "text/plain": [
       "<Figure size 432x288 with 1 Axes>"
      ]
     },
     "metadata": {
      "needs_background": "light"
     },
     "output_type": "display_data"
    }
   ],
   "source": [
    "sns.scatterplot(x=nyc_tree.tree_dbh, y=nyc_tree.health)"
   ]
  },
  {
   "cell_type": "code",
   "execution_count": 9,
   "metadata": {},
   "outputs": [],
   "source": [
    "## Isolate columns with yes or no values\n",
    "yes_no_test = nyc_tree[['health', 'root_stone', 'root_grate', 'root_other',\n",
    "                        'trunk_wire', 'trnk_light',  'trnk_other',\n",
    "                        'brch_light', 'brch_shoe', 'brch_other']]"
   ]
  },
  {
   "cell_type": "code",
   "execution_count": 10,
   "metadata": {},
   "outputs": [
    {
     "data": {
      "image/png": "[encoded data removed]",
      "text/plain": [
       "<Figure size 432x288 with 1 Axes>"
      ]
     },
     "metadata": {
      "needs_background": "light"
     },
     "output_type": "display_data"
    }
   ],
   "source": [
    "sns.barplot(x=nyc_tree.health.value_counts().index, y=nyc_tree.health.value_counts(), palette='bright');"
   ]
  },
  {
   "cell_type": "code",
   "execution_count": 11,
   "metadata": {},
   "outputs": [
    {
     "data": {
      "image/png": "[encoded data removed]",
      "text/plain": [
       "<Figure size 422.125x360 with 1 Axes>"
      ]
     },
     "metadata": {
      "needs_background": "light"
     },
     "output_type": "display_data"
    },
    {
     "data": {
      "image/png": "[encoded data removed]",
      "text/plain": [
       "<Figure size 422.125x360 with 1 Axes>"
      ]
     },
     "metadata": {
      "needs_background": "light"
     },
     "output_type": "display_data"
    },
    {
     "data": {
      "image/png": "[encoded data removed]",
      "text/plain": [
       "<Figure size 422.125x360 with 1 Axes>"
      ]
     },
     "metadata": {
      "needs_background": "light"
     },
     "output_type": "display_data"
    },
    {
     "data": {
      "image/png": "[encoded data removed]",
      "text/plain": [
       "<Figure size 422.125x360 with 1 Axes>"
      ]
     },
     "metadata": {
      "needs_background": "light"
     },
     "output_type": "display_data"
    },
    {
     "data": {
      "image/png": "[encoded data removed]",
      "text/plain": [
       "<Figure size 422.125x360 with 1 Axes>"
      ]
     },
     "metadata": {
      "needs_background": "light"
     },
     "output_type": "display_data"
    },
    {
     "data": {
      "image/png": "[encoded data removed]",
      "text/plain": [
       "<Figure size 422.125x360 with 1 Axes>"
      ]
     },
     "metadata": {
      "needs_background": "light"
     },
     "output_type": "display_data"
    },
    {
     "data": {
      "image/png": "[encoded data removed]",
      "text/plain": [
       "<Figure size 422.125x360 with 1 Axes>"
      ]
     },
     "metadata": {
      "needs_background": "light"
     },
     "output_type": "display_data"
    },
    {
     "data": {
      "image/png": "[encoded data removed]",
      "text/plain": [
       "<Figure size 422.125x360 with 1 Axes>"
      ]
     },
     "metadata": {
      "needs_background": "light"
     },
     "output_type": "display_data"
    },
    {
     "data": {
      "image/png": "[encoded data removed]",
      "text/plain": [
       "<Figure size 422.125x360 with 1 Axes>"
      ]
     },
     "metadata": {
      "needs_background": "light"
     },
     "output_type": "display_data"
    }
   ],
   "source": [
    "for column in yes_no_test.drop('health', axis=1).columns:\n",
    "    sns.displot(yes_no_test, x=column, hue='health', multiple='dodge',\n",
    "                hue_order=['Good', 'Fair', 'Poor'], palette='bright')"
   ]
  },
  {
   "cell_type": "code",
   "execution_count": 12,
   "metadata": {},
   "outputs": [
    {
     "data": {
      "text/plain": [
       "None       487823\n",
       "1or2       143557\n",
       "NaN         31615\n",
       "3or4        19183\n",
       "4orMore      1610\n",
       "Name: steward, dtype: int64"
      ]
     },
     "execution_count": 12,
     "metadata": {},
     "output_type": "execute_result"
    }
   ],
   "source": [
    "nyc_tree.steward.value_counts(dropna=False)"
   ]
  },
  {
   "cell_type": "code",
   "execution_count": 13,
   "metadata": {},
   "outputs": [
    {
     "data": {
      "text/plain": [
       "array(['None', '1or2', '3or4', nan, '4orMore'], dtype=object)"
      ]
     },
     "execution_count": 13,
     "metadata": {},
     "output_type": "execute_result"
    }
   ],
   "source": [
    "nyc_tree.steward.unique()"
   ]
  },
  {
   "cell_type": "code",
   "execution_count": 14,
   "metadata": {},
   "outputs": [
    {
     "data": {
      "text/plain": [
       "numpy.ndarray"
      ]
     },
     "execution_count": 14,
     "metadata": {},
     "output_type": "execute_result"
    }
   ],
   "source": [
    "type(nyc_tree.steward.unique())"
   ]
  },
  {
   "cell_type": "code",
   "execution_count": 15,
   "metadata": {},
   "outputs": [
    {
     "name": "stdout",
     "output_type": "stream",
     "text": [
      "None\n",
      "1or2\n",
      "3or4\n",
      "nan\n",
      "4orMore\n"
     ]
    }
   ],
   "source": [
    "for each in nyc_tree.steward.unique():\n",
    "    print(each)"
   ]
  },
  {
   "cell_type": "code",
   "execution_count": 16,
   "metadata": {},
   "outputs": [
    {
     "data": {
      "text/plain": [
       "array(['None', '1or2', '3or4', '4orMore'], dtype=object)"
      ]
     },
     "execution_count": 16,
     "metadata": {},
     "output_type": "execute_result"
    }
   ],
   "source": [
    "nyc_tree.steward.dropna().unique()"
   ]
  },
  {
   "cell_type": "code",
   "execution_count": 17,
   "metadata": {},
   "outputs": [
    {
     "data": {
      "image/png": "[encoded data removed]",
      "text/plain": [
       "<Figure size 432x288 with 1 Axes>"
      ]
     },
     "metadata": {
      "needs_background": "light"
     },
     "output_type": "display_data"
    }
   ],
   "source": [
    "for value in nyc_tree.steward.dropna().unique():\n",
    "    sns.barplot(x=nyc_tree.loc[nyc_tree.steward == value].health.value_counts().index,\n",
    "                y=nyc_tree.loc[nyc_tree.steward == value].health.value_counts(), palette='bright')"
   ]
  },
  {
   "cell_type": "code",
   "execution_count": 20,
   "metadata": {},
   "outputs": [
    {
     "data": {
      "text/plain": [
       "<AxesSubplot:ylabel='health'>"
      ]
     },
     "execution_count": 20,
     "metadata": {},
     "output_type": "execute_result"
    },
    {
     "data": {
      "image/png": "[encoded data removed]",
      "text/plain": [
       "<Figure size 432x288 with 1 Axes>"
      ]
     },
     "metadata": {
      "needs_background": "light"
     },
     "output_type": "display_data"
    }
   ],
   "source": [
    "sns.barplot(x=nyc_tree.loc[nyc_tree.steward == '1or2'].health.value_counts().index,\n",
    "            y=nyc_tree.loc[nyc_tree.steward == '1or2'].health.value_counts(), palette='bright')"
   ]
  },
  {
   "cell_type": "code",
   "execution_count": 21,
   "metadata": {},
   "outputs": [
    {
     "data": {
      "text/plain": [
       "<AxesSubplot:ylabel='health'>"
      ]
     },
     "execution_count": 21,
     "metadata": {},
     "output_type": "execute_result"
    },
    {
     "data": {
      "image/png": "[encoded data removed]",
      "text/plain": [
       "<Figure size 432x288 with 1 Axes>"
      ]
     },
     "metadata": {
      "needs_background": "light"
     },
     "output_type": "display_data"
    }
   ],
   "source": [
    "sns.barplot(x=nyc_tree.loc[nyc_tree.steward == '3or4'].health.value_counts().index,\n",
    "            y=nyc_tree.loc[nyc_tree.steward == '3or4'].health.value_counts(), palette='bright')"
   ]
  },
  {
   "cell_type": "code",
   "execution_count": 22,
   "metadata": {},
   "outputs": [
    {
     "data": {
      "text/plain": [
       "<AxesSubplot:ylabel='health'>"
      ]
     },
     "execution_count": 22,
     "metadata": {},
     "output_type": "execute_result"
    },
    {
     "data": {
      "image/png": "[encoded data removed]",
      "text/plain": [
       "<Figure size 432x288 with 1 Axes>"
      ]
     },
     "metadata": {
      "needs_background": "light"
     },
     "output_type": "display_data"
    }
   ],
   "source": [
    "sns.barplot(x=nyc_tree.loc[nyc_tree.steward == '4orMore'].health.value_counts().index,\n",
    "            y=nyc_tree.loc[nyc_tree.steward == '4orMore'].health.value_counts(), palette='bright')"
   ]
  },
  {
   "cell_type": "code",
   "execution_count": null,
   "metadata": {},
   "outputs": [],
   "source": []
  }
 ],
 "metadata": {
  "kernelspec": {
   "display_name": "Python 3",
   "language": "python",
   "name": "python3"
  },
  "language_info": {
   "codemirror_mode": {
    "name": "ipython",
    "version": 3
   },
   "file_extension": ".py",
   "mimetype": "text/x-python",
   "name": "python",
   "nbconvert_exporter": "python",
   "pygments_lexer": "ipython3",
   "version": "3.8.5"
  }
 },
 "nbformat": 4,
 "nbformat_minor": 4
}
