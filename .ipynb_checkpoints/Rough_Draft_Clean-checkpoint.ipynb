{
 "cells": [
  {
   "cell_type": "code",
   "execution_count": 1,
   "metadata": {},
   "outputs": [],
   "source": [
    "import matplotlib.pyplot as plt\n",
    "import numpy as np\n",
    "import pandas as pd\n",
    "import seaborn as sns"
   ]
  },
  {
   "cell_type": "code",
   "execution_count": 2,
   "metadata": {},
   "outputs": [],
   "source": [
    "## Import data from https://data.cityofnewyork.us/Environment/2015-Street-Tree-Census-Tree-Data/uvpi-gqnh\n",
    "nyc_tree = pd.read_csv('data/2015_Street_Tree_Census_-_Tree_Data.csv')"
   ]
  },
  {
   "cell_type": "code",
   "execution_count": 3,
   "metadata": {},
   "outputs": [
    {
     "data": {
      "text/html": [
       "<div>\n",
       "<style scoped>\n",
       "    .dataframe tbody tr th:only-of-type {\n",
       "        vertical-align: middle;\n",
       "    }\n",
       "\n",
       "    .dataframe tbody tr th {\n",
       "        vertical-align: top;\n",
       "    }\n",
       "\n",
       "    .dataframe thead th {\n",
       "        text-align: right;\n",
       "    }\n",
       "</style>\n",
       "<table border=\"1\" class=\"dataframe\">\n",
       "  <thead>\n",
       "    <tr style=\"text-align: right;\">\n",
       "      <th></th>\n",
       "      <th>tree_id</th>\n",
       "      <th>block_id</th>\n",
       "      <th>created_at</th>\n",
       "      <th>tree_dbh</th>\n",
       "      <th>stump_diam</th>\n",
       "      <th>curb_loc</th>\n",
       "      <th>status</th>\n",
       "      <th>health</th>\n",
       "      <th>spc_latin</th>\n",
       "      <th>spc_common</th>\n",
       "      <th>...</th>\n",
       "      <th>boro_ct</th>\n",
       "      <th>state</th>\n",
       "      <th>latitude</th>\n",
       "      <th>longitude</th>\n",
       "      <th>x_sp</th>\n",
       "      <th>y_sp</th>\n",
       "      <th>council district</th>\n",
       "      <th>census tract</th>\n",
       "      <th>bin</th>\n",
       "      <th>bbl</th>\n",
       "    </tr>\n",
       "  </thead>\n",
       "  <tbody>\n",
       "    <tr>\n",
       "      <th>58073</th>\n",
       "      <td>242279</td>\n",
       "      <td>111782</td>\n",
       "      <td>09/20/2015</td>\n",
       "      <td>5</td>\n",
       "      <td>0</td>\n",
       "      <td>OffsetFromCurb</td>\n",
       "      <td>Alive</td>\n",
       "      <td>Good</td>\n",
       "      <td>Tilia cordata</td>\n",
       "      <td>littleleaf linden</td>\n",
       "      <td>...</td>\n",
       "      <td>1014300</td>\n",
       "      <td>New York</td>\n",
       "      <td>40.778240</td>\n",
       "      <td>-73.962954</td>\n",
       "      <td>9.945101e+05</td>\n",
       "      <td>222812.8408</td>\n",
       "      <td>6.0</td>\n",
       "      <td>143.0</td>\n",
       "      <td>1083810.0</td>\n",
       "      <td>1.011110e+09</td>\n",
       "    </tr>\n",
       "    <tr>\n",
       "      <th>20083</th>\n",
       "      <td>224618</td>\n",
       "      <td>314545</td>\n",
       "      <td>09/14/2015</td>\n",
       "      <td>10</td>\n",
       "      <td>0</td>\n",
       "      <td>OnCurb</td>\n",
       "      <td>Alive</td>\n",
       "      <td>Good</td>\n",
       "      <td>Pyrus calleryana</td>\n",
       "      <td>Callery pear</td>\n",
       "      <td>...</td>\n",
       "      <td>4092500</td>\n",
       "      <td>New York</td>\n",
       "      <td>40.782773</td>\n",
       "      <td>-73.844902</td>\n",
       "      <td>1.027202e+06</td>\n",
       "      <td>224500.2502</td>\n",
       "      <td>19.0</td>\n",
       "      <td>925.0</td>\n",
       "      <td>4308544.0</td>\n",
       "      <td>4.041298e+09</td>\n",
       "    </tr>\n",
       "    <tr>\n",
       "      <th>243361</th>\n",
       "      <td>450171</td>\n",
       "      <td>200757</td>\n",
       "      <td>11/12/2015</td>\n",
       "      <td>2</td>\n",
       "      <td>0</td>\n",
       "      <td>OnCurb</td>\n",
       "      <td>Alive</td>\n",
       "      <td>Good</td>\n",
       "      <td>Pyrus calleryana</td>\n",
       "      <td>Callery pear</td>\n",
       "      <td>...</td>\n",
       "      <td>3122000</td>\n",
       "      <td>New York</td>\n",
       "      <td>40.664301</td>\n",
       "      <td>-73.867326</td>\n",
       "      <td>1.021058e+06</td>\n",
       "      <td>181327.1663</td>\n",
       "      <td>42.0</td>\n",
       "      <td>1220.0</td>\n",
       "      <td>3098955.0</td>\n",
       "      <td>3.045280e+09</td>\n",
       "    </tr>\n",
       "    <tr>\n",
       "      <th>491186</th>\n",
       "      <td>689331</td>\n",
       "      <td>232044</td>\n",
       "      <td>08/30/2016</td>\n",
       "      <td>11</td>\n",
       "      <td>0</td>\n",
       "      <td>OnCurb</td>\n",
       "      <td>Alive</td>\n",
       "      <td>Good</td>\n",
       "      <td>Fraxinus pennsylvanica</td>\n",
       "      <td>green ash</td>\n",
       "      <td>...</td>\n",
       "      <td>3093400</td>\n",
       "      <td>New York</td>\n",
       "      <td>40.648744</td>\n",
       "      <td>-73.918091</td>\n",
       "      <td>1.006979e+06</td>\n",
       "      <td>175641.9591</td>\n",
       "      <td>45.0</td>\n",
       "      <td>934.0</td>\n",
       "      <td>3104656.0</td>\n",
       "      <td>3.047470e+09</td>\n",
       "    </tr>\n",
       "    <tr>\n",
       "      <th>144702</th>\n",
       "      <td>329825</td>\n",
       "      <td>401726</td>\n",
       "      <td>10/15/2015</td>\n",
       "      <td>35</td>\n",
       "      <td>0</td>\n",
       "      <td>OnCurb</td>\n",
       "      <td>Alive</td>\n",
       "      <td>Good</td>\n",
       "      <td>Platanus x acerifolia</td>\n",
       "      <td>London planetree</td>\n",
       "      <td>...</td>\n",
       "      <td>5015100</td>\n",
       "      <td>New York</td>\n",
       "      <td>40.621184</td>\n",
       "      <td>-74.128775</td>\n",
       "      <td>9.485011e+05</td>\n",
       "      <td>165616.8329</td>\n",
       "      <td>50.0</td>\n",
       "      <td>151.0</td>\n",
       "      <td>5010080.0</td>\n",
       "      <td>5.003620e+09</td>\n",
       "    </tr>\n",
       "    <tr>\n",
       "      <th>362911</th>\n",
       "      <td>569989</td>\n",
       "      <td>330119</td>\n",
       "      <td>05/30/2016</td>\n",
       "      <td>14</td>\n",
       "      <td>0</td>\n",
       "      <td>OnCurb</td>\n",
       "      <td>Alive</td>\n",
       "      <td>Fair</td>\n",
       "      <td>Acer platanoides</td>\n",
       "      <td>Norway maple</td>\n",
       "      <td>...</td>\n",
       "      <td>4048400</td>\n",
       "      <td>New York</td>\n",
       "      <td>40.716298</td>\n",
       "      <td>-73.756985</td>\n",
       "      <td>1.051617e+06</td>\n",
       "      <td>200336.4996</td>\n",
       "      <td>23.0</td>\n",
       "      <td>484.0</td>\n",
       "      <td>4223186.0</td>\n",
       "      <td>4.104860e+09</td>\n",
       "    </tr>\n",
       "    <tr>\n",
       "      <th>652847</th>\n",
       "      <td>166568</td>\n",
       "      <td>348544</td>\n",
       "      <td>08/22/2015</td>\n",
       "      <td>22</td>\n",
       "      <td>0</td>\n",
       "      <td>OnCurb</td>\n",
       "      <td>Alive</td>\n",
       "      <td>Good</td>\n",
       "      <td>Quercus palustris</td>\n",
       "      <td>pin oak</td>\n",
       "      <td>...</td>\n",
       "      <td>4069702</td>\n",
       "      <td>New York</td>\n",
       "      <td>40.720269</td>\n",
       "      <td>-73.859589</td>\n",
       "      <td>1.023171e+06</td>\n",
       "      <td>201721.2275</td>\n",
       "      <td>29.0</td>\n",
       "      <td>69702.0</td>\n",
       "      <td>4458680.0</td>\n",
       "      <td>4.031340e+09</td>\n",
       "    </tr>\n",
       "  </tbody>\n",
       "</table>\n",
       "<p>7 rows × 45 columns</p>\n",
       "</div>"
      ],
      "text/plain": [
       "        tree_id  block_id  created_at  tree_dbh  stump_diam        curb_loc  \\\n",
       "58073    242279    111782  09/20/2015         5           0  OffsetFromCurb   \n",
       "20083    224618    314545  09/14/2015        10           0          OnCurb   \n",
       "243361   450171    200757  11/12/2015         2           0          OnCurb   \n",
       "491186   689331    232044  08/30/2016        11           0          OnCurb   \n",
       "144702   329825    401726  10/15/2015        35           0          OnCurb   \n",
       "362911   569989    330119  05/30/2016        14           0          OnCurb   \n",
       "652847   166568    348544  08/22/2015        22           0          OnCurb   \n",
       "\n",
       "       status health               spc_latin         spc_common  ...  boro_ct  \\\n",
       "58073   Alive   Good           Tilia cordata  littleleaf linden  ...  1014300   \n",
       "20083   Alive   Good        Pyrus calleryana       Callery pear  ...  4092500   \n",
       "243361  Alive   Good        Pyrus calleryana       Callery pear  ...  3122000   \n",
       "491186  Alive   Good  Fraxinus pennsylvanica          green ash  ...  3093400   \n",
       "144702  Alive   Good   Platanus x acerifolia   London planetree  ...  5015100   \n",
       "362911  Alive   Fair        Acer platanoides       Norway maple  ...  4048400   \n",
       "652847  Alive   Good       Quercus palustris            pin oak  ...  4069702   \n",
       "\n",
       "           state   latitude  longitude          x_sp         y_sp  \\\n",
       "58073   New York  40.778240 -73.962954  9.945101e+05  222812.8408   \n",
       "20083   New York  40.782773 -73.844902  1.027202e+06  224500.2502   \n",
       "243361  New York  40.664301 -73.867326  1.021058e+06  181327.1663   \n",
       "491186  New York  40.648744 -73.918091  1.006979e+06  175641.9591   \n",
       "144702  New York  40.621184 -74.128775  9.485011e+05  165616.8329   \n",
       "362911  New York  40.716298 -73.756985  1.051617e+06  200336.4996   \n",
       "652847  New York  40.720269 -73.859589  1.023171e+06  201721.2275   \n",
       "\n",
       "       council district census tract        bin           bbl  \n",
       "58073               6.0        143.0  1083810.0  1.011110e+09  \n",
       "20083              19.0        925.0  4308544.0  4.041298e+09  \n",
       "243361             42.0       1220.0  3098955.0  3.045280e+09  \n",
       "491186             45.0        934.0  3104656.0  3.047470e+09  \n",
       "144702             50.0        151.0  5010080.0  5.003620e+09  \n",
       "362911             23.0        484.0  4223186.0  4.104860e+09  \n",
       "652847             29.0      69702.0  4458680.0  4.031340e+09  \n",
       "\n",
       "[7 rows x 45 columns]"
      ]
     },
     "execution_count": 3,
     "metadata": {},
     "output_type": "execute_result"
    }
   ],
   "source": [
    "nyc_tree.sample(7)"
   ]
  },
  {
   "cell_type": "code",
   "execution_count": 4,
   "metadata": {},
   "outputs": [
    {
     "data": {
      "text/plain": [
       "Index(['tree_id', 'block_id', 'created_at', 'tree_dbh', 'stump_diam',\n",
       "       'curb_loc', 'status', 'health', 'spc_latin', 'spc_common', 'steward',\n",
       "       'guards', 'sidewalk', 'user_type', 'problems', 'root_stone',\n",
       "       'root_grate', 'root_other', 'trunk_wire', 'trnk_light', 'trnk_other',\n",
       "       'brch_light', 'brch_shoe', 'brch_other', 'address', 'postcode',\n",
       "       'zip_city', 'community board', 'borocode', 'borough', 'cncldist',\n",
       "       'st_assem', 'st_senate', 'nta', 'nta_name', 'boro_ct', 'state',\n",
       "       'latitude', 'longitude', 'x_sp', 'y_sp', 'council district',\n",
       "       'census tract', 'bin', 'bbl'],\n",
       "      dtype='object')"
      ]
     },
     "execution_count": 4,
     "metadata": {},
     "output_type": "execute_result"
    }
   ],
   "source": [
    "nyc_tree.columns"
   ]
  },
  {
   "cell_type": "code",
   "execution_count": 5,
   "metadata": {},
   "outputs": [],
   "source": [
    "## Reorder columns making target variable 'health' the first\n",
    "column_headers = list(nyc_tree.columns)\n",
    "column_headers = [column_headers[7]] + column_headers[:7] + column_headers[8:]\n",
    "nyc_tree = nyc_tree[column_headers]"
   ]
  },
  {
   "cell_type": "code",
   "execution_count": 6,
   "metadata": {},
   "outputs": [],
   "source": [
    "nyc_tree_eda = nyc_tree\n",
    "nyc_tree_eda.to_csv('data/nyc_tree_eda.csv', index=False)"
   ]
  },
  {
   "cell_type": "code",
   "execution_count": 7,
   "metadata": {},
   "outputs": [],
   "source": [
    "def two_category_binarizer(first_option, series):\n",
    "    nyc_tree[series] = nyc_tree[series].apply(lambda x: 1 if x==first_option else 0)"
   ]
  },
  {
   "cell_type": "markdown",
   "metadata": {},
   "source": [
    "#### Column 2 of 45<br>&emsp;tree_id"
   ]
  },
  {
   "cell_type": "code",
   "execution_count": 8,
   "metadata": {},
   "outputs": [
    {
     "data": {
      "text/plain": [
       "True"
      ]
     },
     "execution_count": 8,
     "metadata": {},
     "output_type": "execute_result"
    }
   ],
   "source": [
    "len(nyc_tree[nyc_tree.duplicated(subset='tree_id', keep=False)]) == 0"
   ]
  },
  {
   "cell_type": "code",
   "execution_count": 9,
   "metadata": {},
   "outputs": [],
   "source": [
    "## After determining there are no duplicated tree ids this column is no longer necessary\n",
    "nyc_tree.drop('tree_id', axis=1, inplace=True)"
   ]
  },
  {
   "cell_type": "markdown",
   "metadata": {},
   "source": [
    "#### Column 3 of 45<br>&emsp;block_id"
   ]
  },
  {
   "cell_type": "code",
   "execution_count": 10,
   "metadata": {},
   "outputs": [],
   "source": [
    "## Drop block_id for now; too many unique values"
   ]
  },
  {
   "cell_type": "code",
   "execution_count": 11,
   "metadata": {},
   "outputs": [],
   "source": [
    "nyc_tree.drop('block_id', axis=1, inplace=True)"
   ]
  },
  {
   "cell_type": "markdown",
   "metadata": {},
   "source": [
    "#### Column 4 of 45<br>&emsp;created_at"
   ]
  },
  {
   "cell_type": "code",
   "execution_count": 12,
   "metadata": {},
   "outputs": [],
   "source": [
    "nyc_tree.drop('created_at', axis=1, inplace=True)"
   ]
  },
  {
   "cell_type": "markdown",
   "metadata": {},
   "source": [
    "#### Column 5 of 45<br>&emsp;tree_dbh"
   ]
  },
  {
   "cell_type": "code",
   "execution_count": 13,
   "metadata": {},
   "outputs": [
    {
     "data": {
      "text/plain": [
       "4      60372\n",
       "3      54454\n",
       "2      41977\n",
       "5      41642\n",
       "11     37978\n",
       "       ...  \n",
       "75         1\n",
       "151        1\n",
       "154        1\n",
       "159        1\n",
       "450        1\n",
       "Name: tree_dbh, Length: 146, dtype: int64"
      ]
     },
     "execution_count": 13,
     "metadata": {},
     "output_type": "execute_result"
    }
   ],
   "source": [
    "nyc_tree.tree_dbh.value_counts(dropna=False)"
   ]
  },
  {
   "cell_type": "code",
   "execution_count": 14,
   "metadata": {},
   "outputs": [
    {
     "data": {
      "image/png": "[encoded data removed]",
      "text/plain": [
       "<Figure size 360x360 with 1 Axes>"
      ]
     },
     "metadata": {
      "needs_background": "light"
     },
     "output_type": "display_data"
    }
   ],
   "source": [
    "sns.displot(nyc_tree.tree_dbh, bins=150);"
   ]
  },
  {
   "cell_type": "code",
   "execution_count": 15,
   "metadata": {},
   "outputs": [
    {
     "data": {
      "text/plain": [
       "count    652173.000000\n",
       "mean         11.709485\n",
       "std           8.634239\n",
       "min           0.000000\n",
       "25%           5.000000\n",
       "50%          10.000000\n",
       "75%          16.000000\n",
       "max         425.000000\n",
       "Name: tree_dbh, dtype: float64"
      ]
     },
     "execution_count": 15,
     "metadata": {},
     "output_type": "execute_result"
    }
   ],
   "source": [
    "nyc_tree.loc[nyc_tree.status == 'Alive'].tree_dbh.describe()"
   ]
  },
  {
   "cell_type": "code",
   "execution_count": 16,
   "metadata": {},
   "outputs": [],
   "source": [
    "svnty_fv_per = np.percentile(nyc_tree.loc[nyc_tree.status == 'Alive'].tree_dbh, 75)\n",
    "twnty_fv_per = np.percentile(nyc_tree.loc[nyc_tree.status == 'Alive'].tree_dbh, 25)\n",
    "alive_tree_diameter_iqr = svnty_fv_per - twnty_fv_per"
   ]
  },
  {
   "cell_type": "code",
   "execution_count": 17,
   "metadata": {},
   "outputs": [],
   "source": [
    "nyc_tree.drop(nyc_tree.loc[nyc_tree.status == 'Alive'].loc[(nyc_tree.tree_dbh < (twnty_fv_per - 1.5*alive_tree_diameter_iqr))\n",
    "                                    | (nyc_tree.tree_dbh > (svnty_fv_per + 1.5*alive_tree_diameter_iqr))].index, inplace=True)"
   ]
  },
  {
   "cell_type": "code",
   "execution_count": 18,
   "metadata": {},
   "outputs": [
    {
     "data": {
      "text/plain": [
       "count    636794.000000\n",
       "mean         11.080827\n",
       "std           7.501970\n",
       "min           0.000000\n",
       "25%           5.000000\n",
       "50%          10.000000\n",
       "75%          16.000000\n",
       "max          32.000000\n",
       "Name: tree_dbh, dtype: float64"
      ]
     },
     "execution_count": 18,
     "metadata": {},
     "output_type": "execute_result"
    }
   ],
   "source": [
    "nyc_tree.loc[nyc_tree.status == 'Alive'].tree_dbh.describe()"
   ]
  },
  {
   "cell_type": "markdown",
   "metadata": {},
   "source": [
    "#### Column 6 of 45<br>&emsp;stump_diam"
   ]
  },
  {
   "cell_type": "code",
   "execution_count": 19,
   "metadata": {},
   "outputs": [
    {
     "data": {
      "text/plain": [
       "(17654, 42)"
      ]
     },
     "execution_count": 19,
     "metadata": {},
     "output_type": "execute_result"
    }
   ],
   "source": [
    "nyc_tree.loc[nyc_tree.stump_diam > 0].shape"
   ]
  },
  {
   "cell_type": "code",
   "execution_count": 20,
   "metadata": {},
   "outputs": [
    {
     "data": {
      "text/plain": [
       "Alive    636794\n",
       "Stump     17654\n",
       "Dead      13961\n",
       "Name: status, dtype: int64"
      ]
     },
     "execution_count": 20,
     "metadata": {},
     "output_type": "execute_result"
    }
   ],
   "source": [
    "nyc_tree.status.value_counts(dropna=False)"
   ]
  },
  {
   "cell_type": "code",
   "execution_count": 21,
   "metadata": {},
   "outputs": [
    {
     "data": {
      "text/plain": [
       "Good    514974\n",
       "Fair     95200\n",
       "NaN      31616\n",
       "Poor     26619\n",
       "Name: health, dtype: int64"
      ]
     },
     "execution_count": 21,
     "metadata": {},
     "output_type": "execute_result"
    }
   ],
   "source": [
    "nyc_tree.health.value_counts(dropna=False)"
   ]
  },
  {
   "cell_type": "code",
   "execution_count": 22,
   "metadata": {},
   "outputs": [],
   "source": [
    "## Drop stump_diam column now and stumps later when addressing status column\n",
    "nyc_tree.drop('stump_diam', axis=1, inplace=True)"
   ]
  },
  {
   "cell_type": "markdown",
   "metadata": {},
   "source": [
    "#### Column 7 of 45<br>&emsp;curb_loc"
   ]
  },
  {
   "cell_type": "code",
   "execution_count": 23,
   "metadata": {},
   "outputs": [
    {
     "data": {
      "text/plain": [
       "OnCurb            642475\n",
       "OffsetFromCurb     25934\n",
       "Name: curb_loc, dtype: int64"
      ]
     },
     "execution_count": 23,
     "metadata": {},
     "output_type": "execute_result"
    }
   ],
   "source": [
    "nyc_tree.curb_loc.value_counts(dropna=False)"
   ]
  },
  {
   "cell_type": "code",
   "execution_count": 24,
   "metadata": {},
   "outputs": [],
   "source": [
    "nyc_tree.rename({'curb_loc': 'on_curb'}, axis=1, inplace=True)\n",
    "two_category_binarizer('OnCurb', 'on_curb')"
   ]
  },
  {
   "cell_type": "markdown",
   "metadata": {},
   "source": [
    "#### Column 8 of 45<br>&emsp;status"
   ]
  },
  {
   "cell_type": "code",
   "execution_count": 25,
   "metadata": {},
   "outputs": [
    {
     "data": {
      "text/plain": [
       "Alive    636794\n",
       "Stump     17654\n",
       "Dead      13961\n",
       "Name: status, dtype: int64"
      ]
     },
     "execution_count": 25,
     "metadata": {},
     "output_type": "execute_result"
    }
   ],
   "source": [
    "nyc_tree.status.value_counts()"
   ]
  },
  {
   "cell_type": "code",
   "execution_count": 26,
   "metadata": {},
   "outputs": [],
   "source": [
    "nyc_tree.drop(nyc_tree.loc[nyc_tree.status != 'Alive'].index, inplace=True)"
   ]
  },
  {
   "cell_type": "code",
   "execution_count": 27,
   "metadata": {},
   "outputs": [
    {
     "data": {
      "text/plain": [
       "(636794, 41)"
      ]
     },
     "execution_count": 27,
     "metadata": {},
     "output_type": "execute_result"
    }
   ],
   "source": [
    "nyc_tree.shape"
   ]
  },
  {
   "cell_type": "code",
   "execution_count": 28,
   "metadata": {},
   "outputs": [],
   "source": [
    "## Address one row still missing value for health\n",
    "nyc_tree.drop(nyc_tree.loc[nyc_tree.health.isna() == True].index, inplace=True)"
   ]
  },
  {
   "cell_type": "code",
   "execution_count": 29,
   "metadata": {},
   "outputs": [],
   "source": [
    "nyc_tree.drop('status', axis=1, inplace=True)"
   ]
  },
  {
   "cell_type": "markdown",
   "metadata": {},
   "source": [
    "<div class=\"alert alert-block alert-info\">\n",
    "Column 9 of 45<br>&emsp;spc_latin needs adjusting\n",
    "</div>"
   ]
  },
  {
   "cell_type": "code",
   "execution_count": 30,
   "metadata": {},
   "outputs": [
    {
     "data": {
      "text/plain": [
       "Platanus x acerifolia                 79028\n",
       "Gleditsia triacanthos var. inermis    64210\n",
       "Pyrus calleryana                      58896\n",
       "Quercus palustris                     50041\n",
       "Acer platanoides                      34032\n",
       "                                      ...  \n",
       "Pinus rigida                             33\n",
       "Maclura pomifera                         29\n",
       "Pinus sylvestris                         25\n",
       "Pinus virginiana                         10\n",
       "NaN                                       4\n",
       "Name: spc_latin, Length: 133, dtype: int64"
      ]
     },
     "execution_count": 30,
     "metadata": {},
     "output_type": "execute_result"
    }
   ],
   "source": [
    "nyc_tree.spc_latin.value_counts(dropna=False)"
   ]
  },
  {
   "cell_type": "code",
   "execution_count": 31,
   "metadata": {},
   "outputs": [],
   "source": [
    "## Temporarily drop 'spc_latin' column\n",
    "nyc_tree.drop('spc_latin', axis=1, inplace=True)"
   ]
  },
  {
   "cell_type": "markdown",
   "metadata": {},
   "source": [
    "#### Column 10 of 45<br>&emsp;spc_common"
   ]
  },
  {
   "cell_type": "code",
   "execution_count": 32,
   "metadata": {},
   "outputs": [
    {
     "data": {
      "text/plain": [
       "London planetree    79028\n",
       "honeylocust         64210\n",
       "Callery pear        58896\n",
       "pin oak             50041\n",
       "Norway maple        34032\n",
       "                    ...  \n",
       "pitch pine             33\n",
       "Osage-orange           29\n",
       "Scots pine             25\n",
       "Virginia pine          10\n",
       "NaN                     4\n",
       "Name: spc_common, Length: 133, dtype: int64"
      ]
     },
     "execution_count": 32,
     "metadata": {},
     "output_type": "execute_result"
    }
   ],
   "source": [
    "nyc_tree.spc_common.value_counts(dropna=False)"
   ]
  },
  {
   "cell_type": "code",
   "execution_count": 33,
   "metadata": {},
   "outputs": [],
   "source": [
    "nyc_tree.drop('spc_common', axis=1, inplace=True)"
   ]
  },
  {
   "cell_type": "markdown",
   "metadata": {},
   "source": [
    "#### Column 11 of 45<br>&emsp;steward"
   ]
  },
  {
   "cell_type": "code",
   "execution_count": 34,
   "metadata": {},
   "outputs": [
    {
     "data": {
      "text/plain": [
       "None       473821\n",
       "1or2       142314\n",
       "3or4        19061\n",
       "4orMore      1597\n",
       "Name: steward, dtype: int64"
      ]
     },
     "execution_count": 34,
     "metadata": {},
     "output_type": "execute_result"
    }
   ],
   "source": [
    "nyc_tree.steward.value_counts(dropna=False)"
   ]
  },
  {
   "cell_type": "code",
   "execution_count": 35,
   "metadata": {},
   "outputs": [],
   "source": [
    "#for value in"
   ]
  },
  {
   "cell_type": "markdown",
   "metadata": {},
   "source": [
    "#### Column 12 of 45<br>&emsp;"
   ]
  },
  {
   "cell_type": "code",
   "execution_count": 36,
   "metadata": {},
   "outputs": [
    {
     "data": {
      "text/plain": [
       "None       557419\n",
       "Helpful     51568\n",
       "Harmful     20140\n",
       "Unsure       7665\n",
       "NaN             1\n",
       "Name: guards, dtype: int64"
      ]
     },
     "execution_count": 36,
     "metadata": {},
     "output_type": "execute_result"
    }
   ],
   "source": [
    "nyc_tree.guards.value_counts(dropna=False)"
   ]
  },
  {
   "cell_type": "code",
   "execution_count": null,
   "metadata": {},
   "outputs": [],
   "source": []
  },
  {
   "cell_type": "code",
   "execution_count": 38,
   "metadata": {},
   "outputs": [],
   "source": [
    "nyc_tree.health = nyc_tree.health.apply(lambda x: 2 if x=='Good' else (1 if x=='Fair' else 0))"
   ]
  },
  {
   "cell_type": "code",
   "execution_count": 44,
   "metadata": {},
   "outputs": [],
   "source": [
    "## temporary data shrinkage\n",
    "nyc_tree_mini = nyc_tree[['health', 'tree_dbh', 'on_curb', 'steward', 'guards']].sample(500)\n",
    "nyc_tree_cleaned = nyc_tree.iloc[:, :5]"
   ]
  },
  {
   "cell_type": "code",
   "execution_count": 45,
   "metadata": {},
   "outputs": [],
   "source": [
    "nyc_tree_mini.to_csv('data/nyc_tree_mini.csv', index=False)\n",
    "nyc_tree_cleaned.to_csv('data/nyc_tree_cleaned.csv', index=False)"
   ]
  }
 ],
 "metadata": {
  "kernelspec": {
   "display_name": "Python 3",
   "language": "python",
   "name": "python3"
  },
  "language_info": {
   "codemirror_mode": {
    "name": "ipython",
    "version": 3
   },
   "file_extension": ".py",
   "mimetype": "text/x-python",
   "name": "python",
   "nbconvert_exporter": "python",
   "pygments_lexer": "ipython3",
   "version": "3.8.5"
  }
 },
 "nbformat": 4,
 "nbformat_minor": 4
}
