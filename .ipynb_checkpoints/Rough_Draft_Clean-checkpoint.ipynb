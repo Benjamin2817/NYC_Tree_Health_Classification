{
 "cells": [
  {
   "cell_type": "code",
   "execution_count": 1,
   "metadata": {},
   "outputs": [],
   "source": [
    "import matplotlib.pyplot as plt\n",
    "import numpy as np\n",
    "import pandas as pd\n",
    "import seaborn as sns"
   ]
  },
  {
   "cell_type": "code",
   "execution_count": 2,
   "metadata": {},
   "outputs": [],
   "source": [
    "## Import data from https://data.cityofnewyork.us/Environment/2015-Street-Tree-Census-Tree-Data/uvpi-gqnh\n",
    "nyc_tree = pd.read_csv('data/2015_Street_Tree_Census_-_Tree_Data.csv')"
   ]
  },
  {
   "cell_type": "code",
   "execution_count": 3,
   "metadata": {},
   "outputs": [
    {
     "data": {
      "text/html": [
       "<div>\n",
       "<style scoped>\n",
       "    .dataframe tbody tr th:only-of-type {\n",
       "        vertical-align: middle;\n",
       "    }\n",
       "\n",
       "    .dataframe tbody tr th {\n",
       "        vertical-align: top;\n",
       "    }\n",
       "\n",
       "    .dataframe thead th {\n",
       "        text-align: right;\n",
       "    }\n",
       "</style>\n",
       "<table border=\"1\" class=\"dataframe\">\n",
       "  <thead>\n",
       "    <tr style=\"text-align: right;\">\n",
       "      <th></th>\n",
       "      <th>tree_id</th>\n",
       "      <th>block_id</th>\n",
       "      <th>created_at</th>\n",
       "      <th>tree_dbh</th>\n",
       "      <th>stump_diam</th>\n",
       "      <th>curb_loc</th>\n",
       "      <th>status</th>\n",
       "      <th>health</th>\n",
       "      <th>spc_latin</th>\n",
       "      <th>spc_common</th>\n",
       "      <th>...</th>\n",
       "      <th>boro_ct</th>\n",
       "      <th>state</th>\n",
       "      <th>latitude</th>\n",
       "      <th>longitude</th>\n",
       "      <th>x_sp</th>\n",
       "      <th>y_sp</th>\n",
       "      <th>council district</th>\n",
       "      <th>census tract</th>\n",
       "      <th>bin</th>\n",
       "      <th>bbl</th>\n",
       "    </tr>\n",
       "  </thead>\n",
       "  <tbody>\n",
       "    <tr>\n",
       "      <th>41028</th>\n",
       "      <td>211432</td>\n",
       "      <td>515481</td>\n",
       "      <td>09/09/2015</td>\n",
       "      <td>9</td>\n",
       "      <td>0</td>\n",
       "      <td>OnCurb</td>\n",
       "      <td>Alive</td>\n",
       "      <td>Fair</td>\n",
       "      <td>Acer platanoides</td>\n",
       "      <td>Norway maple</td>\n",
       "      <td>...</td>\n",
       "      <td>2044400</td>\n",
       "      <td>New York</td>\n",
       "      <td>40.901921</td>\n",
       "      <td>-73.844734</td>\n",
       "      <td>1.027172e+06</td>\n",
       "      <td>267910.1942</td>\n",
       "      <td>12.0</td>\n",
       "      <td>444.0</td>\n",
       "      <td>2071442.0</td>\n",
       "      <td>2.050960e+09</td>\n",
       "    </tr>\n",
       "    <tr>\n",
       "      <th>635205</th>\n",
       "      <td>115108</td>\n",
       "      <td>301968</td>\n",
       "      <td>08/03/2015</td>\n",
       "      <td>3</td>\n",
       "      <td>0</td>\n",
       "      <td>OnCurb</td>\n",
       "      <td>Alive</td>\n",
       "      <td>Good</td>\n",
       "      <td>Quercus bicolor</td>\n",
       "      <td>swamp white oak</td>\n",
       "      <td>...</td>\n",
       "      <td>4012301</td>\n",
       "      <td>New York</td>\n",
       "      <td>40.774797</td>\n",
       "      <td>-73.897105</td>\n",
       "      <td>1.012749e+06</td>\n",
       "      <td>221572.9962</td>\n",
       "      <td>22.0</td>\n",
       "      <td>12301.0</td>\n",
       "      <td>4441806.0</td>\n",
       "      <td>4.007740e+09</td>\n",
       "    </tr>\n",
       "    <tr>\n",
       "      <th>354947</th>\n",
       "      <td>578755</td>\n",
       "      <td>412407</td>\n",
       "      <td>06/08/2016</td>\n",
       "      <td>18</td>\n",
       "      <td>0</td>\n",
       "      <td>OnCurb</td>\n",
       "      <td>Alive</td>\n",
       "      <td>Good</td>\n",
       "      <td>Fraxinus pennsylvanica</td>\n",
       "      <td>green ash</td>\n",
       "      <td>...</td>\n",
       "      <td>5020801</td>\n",
       "      <td>New York</td>\n",
       "      <td>40.542523</td>\n",
       "      <td>-74.208421</td>\n",
       "      <td>9.263223e+05</td>\n",
       "      <td>137001.3586</td>\n",
       "      <td>51.0</td>\n",
       "      <td>20801.0</td>\n",
       "      <td>5085754.0</td>\n",
       "      <td>5.070260e+09</td>\n",
       "    </tr>\n",
       "    <tr>\n",
       "      <th>658151</th>\n",
       "      <td>136682</td>\n",
       "      <td>415405</td>\n",
       "      <td>08/11/2015</td>\n",
       "      <td>13</td>\n",
       "      <td>0</td>\n",
       "      <td>OnCurb</td>\n",
       "      <td>Alive</td>\n",
       "      <td>Fair</td>\n",
       "      <td>Acer saccharinum</td>\n",
       "      <td>silver maple</td>\n",
       "      <td>...</td>\n",
       "      <td>5013800</td>\n",
       "      <td>New York</td>\n",
       "      <td>40.567289</td>\n",
       "      <td>-74.129949</td>\n",
       "      <td>9.481459e+05</td>\n",
       "      <td>145981.8108</td>\n",
       "      <td>50.0</td>\n",
       "      <td>138.0</td>\n",
       "      <td>5059887.0</td>\n",
       "      <td>5.043700e+09</td>\n",
       "    </tr>\n",
       "    <tr>\n",
       "      <th>565674</th>\n",
       "      <td>49140</td>\n",
       "      <td>414917</td>\n",
       "      <td>07/05/2015</td>\n",
       "      <td>4</td>\n",
       "      <td>0</td>\n",
       "      <td>OnCurb</td>\n",
       "      <td>Alive</td>\n",
       "      <td>Good</td>\n",
       "      <td>Acer rubrum</td>\n",
       "      <td>red maple</td>\n",
       "      <td>...</td>\n",
       "      <td>5013204</td>\n",
       "      <td>New York</td>\n",
       "      <td>40.559836</td>\n",
       "      <td>-74.121656</td>\n",
       "      <td>9.504463e+05</td>\n",
       "      <td>143263.3805</td>\n",
       "      <td>50.0</td>\n",
       "      <td>13204.0</td>\n",
       "      <td>5164119.0</td>\n",
       "      <td>5.046720e+09</td>\n",
       "    </tr>\n",
       "    <tr>\n",
       "      <th>215464</th>\n",
       "      <td>412035</td>\n",
       "      <td>330471</td>\n",
       "      <td>11/01/2015</td>\n",
       "      <td>15</td>\n",
       "      <td>0</td>\n",
       "      <td>OnCurb</td>\n",
       "      <td>Alive</td>\n",
       "      <td>Good</td>\n",
       "      <td>Gleditsia triacanthos var. inermis</td>\n",
       "      <td>honeylocust</td>\n",
       "      <td>...</td>\n",
       "      <td>4066400</td>\n",
       "      <td>New York</td>\n",
       "      <td>40.649977</td>\n",
       "      <td>-73.736206</td>\n",
       "      <td>1.057450e+06</td>\n",
       "      <td>176190.6385</td>\n",
       "      <td>31.0</td>\n",
       "      <td>664.0</td>\n",
       "      <td>4290171.0</td>\n",
       "      <td>4.136570e+09</td>\n",
       "    </tr>\n",
       "    <tr>\n",
       "      <th>191436</th>\n",
       "      <td>394250</td>\n",
       "      <td>412597</td>\n",
       "      <td>10/28/2015</td>\n",
       "      <td>9</td>\n",
       "      <td>0</td>\n",
       "      <td>OnCurb</td>\n",
       "      <td>Alive</td>\n",
       "      <td>Good</td>\n",
       "      <td>Pyrus calleryana</td>\n",
       "      <td>Callery pear</td>\n",
       "      <td>...</td>\n",
       "      <td>5017011</td>\n",
       "      <td>New York</td>\n",
       "      <td>40.542144</td>\n",
       "      <td>-74.168448</td>\n",
       "      <td>9.374321e+05</td>\n",
       "      <td>136839.3179</td>\n",
       "      <td>51.0</td>\n",
       "      <td>17011.0</td>\n",
       "      <td>5130671.0</td>\n",
       "      <td>5.055930e+09</td>\n",
       "    </tr>\n",
       "  </tbody>\n",
       "</table>\n",
       "<p>7 rows × 45 columns</p>\n",
       "</div>"
      ],
      "text/plain": [
       "        tree_id  block_id  created_at  tree_dbh  stump_diam curb_loc status  \\\n",
       "41028    211432    515481  09/09/2015         9           0   OnCurb  Alive   \n",
       "635205   115108    301968  08/03/2015         3           0   OnCurb  Alive   \n",
       "354947   578755    412407  06/08/2016        18           0   OnCurb  Alive   \n",
       "658151   136682    415405  08/11/2015        13           0   OnCurb  Alive   \n",
       "565674    49140    414917  07/05/2015         4           0   OnCurb  Alive   \n",
       "215464   412035    330471  11/01/2015        15           0   OnCurb  Alive   \n",
       "191436   394250    412597  10/28/2015         9           0   OnCurb  Alive   \n",
       "\n",
       "       health                           spc_latin       spc_common  ...  \\\n",
       "41028    Fair                    Acer platanoides     Norway maple  ...   \n",
       "635205   Good                     Quercus bicolor  swamp white oak  ...   \n",
       "354947   Good              Fraxinus pennsylvanica        green ash  ...   \n",
       "658151   Fair                    Acer saccharinum     silver maple  ...   \n",
       "565674   Good                         Acer rubrum        red maple  ...   \n",
       "215464   Good  Gleditsia triacanthos var. inermis      honeylocust  ...   \n",
       "191436   Good                    Pyrus calleryana     Callery pear  ...   \n",
       "\n",
       "        boro_ct     state   latitude  longitude          x_sp         y_sp  \\\n",
       "41028   2044400  New York  40.901921 -73.844734  1.027172e+06  267910.1942   \n",
       "635205  4012301  New York  40.774797 -73.897105  1.012749e+06  221572.9962   \n",
       "354947  5020801  New York  40.542523 -74.208421  9.263223e+05  137001.3586   \n",
       "658151  5013800  New York  40.567289 -74.129949  9.481459e+05  145981.8108   \n",
       "565674  5013204  New York  40.559836 -74.121656  9.504463e+05  143263.3805   \n",
       "215464  4066400  New York  40.649977 -73.736206  1.057450e+06  176190.6385   \n",
       "191436  5017011  New York  40.542144 -74.168448  9.374321e+05  136839.3179   \n",
       "\n",
       "       council district census tract        bin           bbl  \n",
       "41028              12.0        444.0  2071442.0  2.050960e+09  \n",
       "635205             22.0      12301.0  4441806.0  4.007740e+09  \n",
       "354947             51.0      20801.0  5085754.0  5.070260e+09  \n",
       "658151             50.0        138.0  5059887.0  5.043700e+09  \n",
       "565674             50.0      13204.0  5164119.0  5.046720e+09  \n",
       "215464             31.0        664.0  4290171.0  4.136570e+09  \n",
       "191436             51.0      17011.0  5130671.0  5.055930e+09  \n",
       "\n",
       "[7 rows x 45 columns]"
      ]
     },
     "execution_count": 3,
     "metadata": {},
     "output_type": "execute_result"
    }
   ],
   "source": [
    "nyc_tree.sample(7)"
   ]
  },
  {
   "cell_type": "code",
   "execution_count": 4,
   "metadata": {},
   "outputs": [
    {
     "data": {
      "text/plain": [
       "Index(['tree_id', 'block_id', 'created_at', 'tree_dbh', 'stump_diam',\n",
       "       'curb_loc', 'status', 'health', 'spc_latin', 'spc_common', 'steward',\n",
       "       'guards', 'sidewalk', 'user_type', 'problems', 'root_stone',\n",
       "       'root_grate', 'root_other', 'trunk_wire', 'trnk_light', 'trnk_other',\n",
       "       'brch_light', 'brch_shoe', 'brch_other', 'address', 'postcode',\n",
       "       'zip_city', 'community board', 'borocode', 'borough', 'cncldist',\n",
       "       'st_assem', 'st_senate', 'nta', 'nta_name', 'boro_ct', 'state',\n",
       "       'latitude', 'longitude', 'x_sp', 'y_sp', 'council district',\n",
       "       'census tract', 'bin', 'bbl'],\n",
       "      dtype='object')"
      ]
     },
     "execution_count": 4,
     "metadata": {},
     "output_type": "execute_result"
    }
   ],
   "source": [
    "nyc_tree.columns"
   ]
  },
  {
   "cell_type": "code",
   "execution_count": 5,
   "metadata": {},
   "outputs": [],
   "source": [
    "## Reorder columns making target variable 'health' the first\n",
    "column_headers = list(nyc_tree.columns)\n",
    "column_headers = [column_headers[7]] + column_headers[:7] + column_headers[8:]\n",
    "nyc_tree = nyc_tree[column_headers]"
   ]
  },
  {
   "cell_type": "code",
   "execution_count": 6,
   "metadata": {},
   "outputs": [],
   "source": [
    "nyc_tree_eda = nyc_tree\n",
    "nyc_tree_eda.to_csv('data/nyc_tree_eda.csv', index=False)"
   ]
  },
  {
   "cell_type": "code",
   "execution_count": 7,
   "metadata": {},
   "outputs": [],
   "source": [
    "def two_category_binarizer(first_option, series):\n",
    "    nyc_tree[series] = nyc_tree[series].apply(lambda x: 1 if x==first_option else 0)"
   ]
  },
  {
   "cell_type": "markdown",
   "metadata": {},
   "source": [
    "#### Column 2 of 45<br>&emsp;tree_id"
   ]
  },
  {
   "cell_type": "code",
   "execution_count": 8,
   "metadata": {},
   "outputs": [
    {
     "data": {
      "text/plain": [
       "True"
      ]
     },
     "execution_count": 8,
     "metadata": {},
     "output_type": "execute_result"
    }
   ],
   "source": [
    "len(nyc_tree[nyc_tree.duplicated(subset='tree_id', keep=False)]) == 0"
   ]
  },
  {
   "cell_type": "code",
   "execution_count": 9,
   "metadata": {},
   "outputs": [],
   "source": [
    "## After determining there are no duplicated tree ids this column is no longer necessary\n",
    "nyc_tree.drop('tree_id', axis=1, inplace=True)"
   ]
  },
  {
   "cell_type": "markdown",
   "metadata": {},
   "source": [
    "#### Column 3 of 45<br>&emsp;block_id"
   ]
  },
  {
   "cell_type": "code",
   "execution_count": 10,
   "metadata": {},
   "outputs": [],
   "source": [
    "## Drop block_id for now; too many unique values"
   ]
  },
  {
   "cell_type": "code",
   "execution_count": 11,
   "metadata": {},
   "outputs": [],
   "source": [
    "nyc_tree.drop('block_id', axis=1, inplace=True)"
   ]
  },
  {
   "cell_type": "markdown",
   "metadata": {},
   "source": [
    "#### Column 4 of 45<br>&emsp;created_at"
   ]
  },
  {
   "cell_type": "code",
   "execution_count": 12,
   "metadata": {},
   "outputs": [],
   "source": [
    "nyc_tree.drop('created_at', axis=1, inplace=True)"
   ]
  },
  {
   "cell_type": "markdown",
   "metadata": {},
   "source": [
    "#### Column 5 of 45<br>&emsp;tree_dbh"
   ]
  },
  {
   "cell_type": "code",
   "execution_count": 13,
   "metadata": {},
   "outputs": [
    {
     "data": {
      "text/plain": [
       "4      60372\n",
       "3      54454\n",
       "2      41977\n",
       "5      41642\n",
       "11     37978\n",
       "       ...  \n",
       "75         1\n",
       "151        1\n",
       "154        1\n",
       "159        1\n",
       "450        1\n",
       "Name: tree_dbh, Length: 146, dtype: int64"
      ]
     },
     "execution_count": 13,
     "metadata": {},
     "output_type": "execute_result"
    }
   ],
   "source": [
    "nyc_tree.tree_dbh.value_counts(dropna=False)"
   ]
  },
  {
   "cell_type": "code",
   "execution_count": 14,
   "metadata": {},
   "outputs": [
    {
     "data": {
      "image/png": "[encoded data removed]",
      "text/plain": [
       "<Figure size 360x360 with 1 Axes>"
      ]
     },
     "metadata": {
      "needs_background": "light"
     },
     "output_type": "display_data"
    }
   ],
   "source": [
    "sns.displot(nyc_tree.tree_dbh, bins=150);"
   ]
  },
  {
   "cell_type": "code",
   "execution_count": 15,
   "metadata": {},
   "outputs": [
    {
     "data": {
      "text/plain": [
       "count    652173.000000\n",
       "mean         11.709485\n",
       "std           8.634239\n",
       "min           0.000000\n",
       "25%           5.000000\n",
       "50%          10.000000\n",
       "75%          16.000000\n",
       "max         425.000000\n",
       "Name: tree_dbh, dtype: float64"
      ]
     },
     "execution_count": 15,
     "metadata": {},
     "output_type": "execute_result"
    }
   ],
   "source": [
    "nyc_tree.loc[nyc_tree.status == 'Alive'].tree_dbh.describe()"
   ]
  },
  {
   "cell_type": "code",
   "execution_count": 16,
   "metadata": {},
   "outputs": [],
   "source": [
    "svnty_fv_per = np.percentile(nyc_tree.loc[nyc_tree.status == 'Alive'].tree_dbh, 75)\n",
    "twnty_fv_per = np.percentile(nyc_tree.loc[nyc_tree.status == 'Alive'].tree_dbh, 25)\n",
    "alive_tree_diameter_iqr = svnty_fv_per - twnty_fv_per"
   ]
  },
  {
   "cell_type": "code",
   "execution_count": 17,
   "metadata": {},
   "outputs": [],
   "source": [
    "nyc_tree.drop(nyc_tree.loc[nyc_tree.status == 'Alive'].loc[(nyc_tree.tree_dbh < (twnty_fv_per - 1.5*alive_tree_diameter_iqr))\n",
    "                                    | (nyc_tree.tree_dbh > (svnty_fv_per + 1.5*alive_tree_diameter_iqr))].index, inplace=True)"
   ]
  },
  {
   "cell_type": "code",
   "execution_count": 18,
   "metadata": {},
   "outputs": [
    {
     "data": {
      "text/plain": [
       "count    636794.000000\n",
       "mean         11.080827\n",
       "std           7.501970\n",
       "min           0.000000\n",
       "25%           5.000000\n",
       "50%          10.000000\n",
       "75%          16.000000\n",
       "max          32.000000\n",
       "Name: tree_dbh, dtype: float64"
      ]
     },
     "execution_count": 18,
     "metadata": {},
     "output_type": "execute_result"
    }
   ],
   "source": [
    "nyc_tree.loc[nyc_tree.status == 'Alive'].tree_dbh.describe()"
   ]
  },
  {
   "cell_type": "markdown",
   "metadata": {},
   "source": [
    "#### Column 6 of 45<br>&emsp;stump_diam"
   ]
  },
  {
   "cell_type": "code",
   "execution_count": 19,
   "metadata": {},
   "outputs": [
    {
     "data": {
      "text/plain": [
       "(17654, 42)"
      ]
     },
     "execution_count": 19,
     "metadata": {},
     "output_type": "execute_result"
    }
   ],
   "source": [
    "nyc_tree.loc[nyc_tree.stump_diam > 0].shape"
   ]
  },
  {
   "cell_type": "code",
   "execution_count": 20,
   "metadata": {},
   "outputs": [
    {
     "data": {
      "text/plain": [
       "Alive    636794\n",
       "Stump     17654\n",
       "Dead      13961\n",
       "Name: status, dtype: int64"
      ]
     },
     "execution_count": 20,
     "metadata": {},
     "output_type": "execute_result"
    }
   ],
   "source": [
    "nyc_tree.status.value_counts(dropna=False)"
   ]
  },
  {
   "cell_type": "code",
   "execution_count": 21,
   "metadata": {},
   "outputs": [
    {
     "data": {
      "text/plain": [
       "Good    514974\n",
       "Fair     95200\n",
       "NaN      31616\n",
       "Poor     26619\n",
       "Name: health, dtype: int64"
      ]
     },
     "execution_count": 21,
     "metadata": {},
     "output_type": "execute_result"
    }
   ],
   "source": [
    "nyc_tree.health.value_counts(dropna=False)"
   ]
  },
  {
   "cell_type": "code",
   "execution_count": 22,
   "metadata": {},
   "outputs": [],
   "source": [
    "## Drop stump_diam column now and stumps later when addressing status column\n",
    "nyc_tree.drop('stump_diam', axis=1, inplace=True)"
   ]
  },
  {
   "cell_type": "markdown",
   "metadata": {},
   "source": [
    "#### Column 7 of 45<br>&emsp;curb_loc"
   ]
  },
  {
   "cell_type": "code",
   "execution_count": 23,
   "metadata": {},
   "outputs": [
    {
     "data": {
      "text/plain": [
       "OnCurb            642475\n",
       "OffsetFromCurb     25934\n",
       "Name: curb_loc, dtype: int64"
      ]
     },
     "execution_count": 23,
     "metadata": {},
     "output_type": "execute_result"
    }
   ],
   "source": [
    "nyc_tree.curb_loc.value_counts(dropna=False)"
   ]
  },
  {
   "cell_type": "code",
   "execution_count": 24,
   "metadata": {},
   "outputs": [],
   "source": [
    "nyc_tree.rename({'curb_loc': 'on_curb'}, axis=1, inplace=True)\n",
    "two_category_binarizer('OnCurb', 'on_curb')"
   ]
  },
  {
   "cell_type": "markdown",
   "metadata": {},
   "source": [
    "#### Column 8 of 45<br>&emsp;status"
   ]
  },
  {
   "cell_type": "code",
   "execution_count": 25,
   "metadata": {},
   "outputs": [
    {
     "data": {
      "text/plain": [
       "Alive    636794\n",
       "Stump     17654\n",
       "Dead      13961\n",
       "Name: status, dtype: int64"
      ]
     },
     "execution_count": 25,
     "metadata": {},
     "output_type": "execute_result"
    }
   ],
   "source": [
    "nyc_tree.status.value_counts()"
   ]
  },
  {
   "cell_type": "code",
   "execution_count": 26,
   "metadata": {},
   "outputs": [],
   "source": [
    "nyc_tree.drop(nyc_tree.loc[nyc_tree.status != 'Alive'].index, inplace=True)"
   ]
  },
  {
   "cell_type": "code",
   "execution_count": 27,
   "metadata": {},
   "outputs": [
    {
     "data": {
      "text/plain": [
       "(636794, 41)"
      ]
     },
     "execution_count": 27,
     "metadata": {},
     "output_type": "execute_result"
    }
   ],
   "source": [
    "nyc_tree.shape"
   ]
  },
  {
   "cell_type": "code",
   "execution_count": 28,
   "metadata": {},
   "outputs": [],
   "source": [
    "## Address one row still missing value for health\n",
    "nyc_tree.drop(nyc_tree.loc[nyc_tree.health.isna() == True].index, inplace=True)"
   ]
  },
  {
   "cell_type": "code",
   "execution_count": 29,
   "metadata": {},
   "outputs": [],
   "source": [
    "nyc_tree.drop('status', axis=1, inplace=True)"
   ]
  },
  {
   "cell_type": "markdown",
   "metadata": {},
   "source": [
    "<div class=\"alert alert-block alert-info\">\n",
    "Column 9 of 45<br>&emsp;spc_latin needs adjusting\n",
    "</div>"
   ]
  },
  {
   "cell_type": "code",
   "execution_count": 30,
   "metadata": {},
   "outputs": [
    {
     "data": {
      "text/plain": [
       "Platanus x acerifolia                 79028\n",
       "Gleditsia triacanthos var. inermis    64210\n",
       "Pyrus calleryana                      58896\n",
       "Quercus palustris                     50041\n",
       "Acer platanoides                      34032\n",
       "                                      ...  \n",
       "Pinus rigida                             33\n",
       "Maclura pomifera                         29\n",
       "Pinus sylvestris                         25\n",
       "Pinus virginiana                         10\n",
       "NaN                                       4\n",
       "Name: spc_latin, Length: 133, dtype: int64"
      ]
     },
     "execution_count": 30,
     "metadata": {},
     "output_type": "execute_result"
    }
   ],
   "source": [
    "nyc_tree.spc_latin.value_counts(dropna=False)"
   ]
  },
  {
   "cell_type": "code",
   "execution_count": 31,
   "metadata": {},
   "outputs": [],
   "source": [
    "## Temporarily drop 'spc_latin' column\n",
    "nyc_tree.drop('spc_latin', axis=1, inplace=True)"
   ]
  },
  {
   "cell_type": "markdown",
   "metadata": {},
   "source": [
    "#### Column 10 of 45<br>&emsp;spc_common"
   ]
  },
  {
   "cell_type": "code",
   "execution_count": 32,
   "metadata": {},
   "outputs": [
    {
     "data": {
      "text/plain": [
       "London planetree    79028\n",
       "honeylocust         64210\n",
       "Callery pear        58896\n",
       "pin oak             50041\n",
       "Norway maple        34032\n",
       "                    ...  \n",
       "pitch pine             33\n",
       "Osage-orange           29\n",
       "Scots pine             25\n",
       "Virginia pine          10\n",
       "NaN                     4\n",
       "Name: spc_common, Length: 133, dtype: int64"
      ]
     },
     "execution_count": 32,
     "metadata": {},
     "output_type": "execute_result"
    }
   ],
   "source": [
    "nyc_tree.spc_common.value_counts(dropna=False)"
   ]
  },
  {
   "cell_type": "code",
   "execution_count": 33,
   "metadata": {},
   "outputs": [],
   "source": [
    "nyc_tree.drop('spc_common', axis=1, inplace=True)"
   ]
  },
  {
   "cell_type": "markdown",
   "metadata": {},
   "source": [
    "#### Column 11 of 45<br>&emsp;steward"
   ]
  },
  {
   "cell_type": "code",
   "execution_count": 34,
   "metadata": {},
   "outputs": [
    {
     "data": {
      "text/plain": [
       "None       473821\n",
       "1or2       142314\n",
       "3or4        19061\n",
       "4orMore      1597\n",
       "Name: steward, dtype: int64"
      ]
     },
     "execution_count": 34,
     "metadata": {},
     "output_type": "execute_result"
    }
   ],
   "source": [
    "nyc_tree.steward.value_counts(dropna=False)"
   ]
  },
  {
   "cell_type": "code",
   "execution_count": 35,
   "metadata": {},
   "outputs": [],
   "source": [
    "#for value in"
   ]
  },
  {
   "cell_type": "markdown",
   "metadata": {},
   "source": [
    "#### Column 12 of 45<br>&emsp;guards"
   ]
  },
  {
   "cell_type": "code",
   "execution_count": 36,
   "metadata": {},
   "outputs": [
    {
     "data": {
      "text/plain": [
       "None       557419\n",
       "Helpful     51568\n",
       "Harmful     20140\n",
       "Unsure       7665\n",
       "NaN             1\n",
       "Name: guards, dtype: int64"
      ]
     },
     "execution_count": 36,
     "metadata": {},
     "output_type": "execute_result"
    }
   ],
   "source": [
    "nyc_tree.guards.value_counts(dropna=False)"
   ]
  },
  {
   "cell_type": "markdown",
   "metadata": {},
   "source": [
    "#### Column 13 of 45<br>&emsp;sidewalk"
   ]
  },
  {
   "cell_type": "code",
   "execution_count": 37,
   "metadata": {},
   "outputs": [
    {
     "data": {
      "text/plain": [
       "NoDamage    457121\n",
       "Damage      179671\n",
       "NaN              1\n",
       "Name: sidewalk, dtype: int64"
      ]
     },
     "execution_count": 37,
     "metadata": {},
     "output_type": "execute_result"
    }
   ],
   "source": [
    "nyc_tree.sidewalk.value_counts(dropna=False)"
   ]
  },
  {
   "cell_type": "code",
   "execution_count": 38,
   "metadata": {},
   "outputs": [],
   "source": [
    "nyc_tree.health = nyc_tree.health.apply(lambda x: 2 if x=='Good' else (1 if x=='Fair' else 0))"
   ]
  },
  {
   "cell_type": "code",
   "execution_count": 39,
   "metadata": {},
   "outputs": [],
   "source": [
    "## temporary data shrinkage\n",
    "nyc_tree_mini = nyc_tree[['health', 'tree_dbh', 'on_curb', 'steward', 'guards']].sample(500)\n",
    "nyc_tree_cleaned = nyc_tree.iloc[:, :5]"
   ]
  },
  {
   "cell_type": "code",
   "execution_count": 40,
   "metadata": {},
   "outputs": [],
   "source": [
    "nyc_tree_mini.to_csv('data/nyc_tree_mini.csv', index=False)\n",
    "nyc_tree_cleaned.to_csv('data/nyc_tree_cleaned.csv', index=False)"
   ]
  }
 ],
 "metadata": {
  "kernelspec": {
   "display_name": "Python 3",
   "language": "python",
   "name": "python3"
  },
  "language_info": {
   "codemirror_mode": {
    "name": "ipython",
    "version": 3
   },
   "file_extension": ".py",
   "mimetype": "text/x-python",
   "name": "python",
   "nbconvert_exporter": "python",
   "pygments_lexer": "ipython3",
   "version": "3.8.5"
  }
 },
 "nbformat": 4,
 "nbformat_minor": 4
}
