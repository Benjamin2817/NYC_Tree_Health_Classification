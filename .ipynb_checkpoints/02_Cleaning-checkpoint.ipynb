{
 "cells": [
  {
   "cell_type": "markdown",
   "metadata": {},
   "source": [
    "### NYC Tree Census Data Cleaning\n",
    "\n",
    "<div>\n",
    "<br>\n",
    "- Removal of unuseful columns<br>\n",
    "- Renaming of column header<br>\n",
    "- Removal of outliers in only continuous feature<br>\n",
    "- Revaluing of two category columns(excluding NaN category) to binary values\n",
    "</div>"
   ]
  },
  {
   "cell_type": "code",
   "execution_count": 92,
   "metadata": {},
   "outputs": [],
   "source": [
    "import matplotlib.pyplot as plt\n",
    "import numpy as np\n",
    "import pandas as pd\n",
    "import seaborn as sns"
   ]
  },
  {
   "cell_type": "code",
   "execution_count": 93,
   "metadata": {},
   "outputs": [],
   "source": [
    "## Import data from https://data.cityofnewyork.us/Environment/2015-Street-Tree-Census-Tree-Data/uvpi-gqnh\n",
    "nyc_tree = pd.read_csv('data/2015_Street_Tree_Census_-_Tree_Data.csv')"
   ]
  },
  {
   "cell_type": "code",
   "execution_count": 94,
   "metadata": {},
   "outputs": [
    {
     "data": {
      "text/html": [
       "<div>\n",
       "<style scoped>\n",
       "    .dataframe tbody tr th:only-of-type {\n",
       "        vertical-align: middle;\n",
       "    }\n",
       "\n",
       "    .dataframe tbody tr th {\n",
       "        vertical-align: top;\n",
       "    }\n",
       "\n",
       "    .dataframe thead th {\n",
       "        text-align: right;\n",
       "    }\n",
       "</style>\n",
       "<table border=\"1\" class=\"dataframe\">\n",
       "  <thead>\n",
       "    <tr style=\"text-align: right;\">\n",
       "      <th></th>\n",
       "      <th>tree_id</th>\n",
       "      <th>block_id</th>\n",
       "      <th>created_at</th>\n",
       "      <th>tree_dbh</th>\n",
       "      <th>stump_diam</th>\n",
       "      <th>curb_loc</th>\n",
       "      <th>status</th>\n",
       "      <th>health</th>\n",
       "      <th>spc_latin</th>\n",
       "      <th>spc_common</th>\n",
       "      <th>...</th>\n",
       "      <th>boro_ct</th>\n",
       "      <th>state</th>\n",
       "      <th>latitude</th>\n",
       "      <th>longitude</th>\n",
       "      <th>x_sp</th>\n",
       "      <th>y_sp</th>\n",
       "      <th>council district</th>\n",
       "      <th>census tract</th>\n",
       "      <th>bin</th>\n",
       "      <th>bbl</th>\n",
       "    </tr>\n",
       "  </thead>\n",
       "  <tbody>\n",
       "    <tr>\n",
       "      <th>16906</th>\n",
       "      <td>222677</td>\n",
       "      <td>219069</td>\n",
       "      <td>09/14/2015</td>\n",
       "      <td>16</td>\n",
       "      <td>0</td>\n",
       "      <td>OnCurb</td>\n",
       "      <td>Alive</td>\n",
       "      <td>Good</td>\n",
       "      <td>Styphnolobium japonicum</td>\n",
       "      <td>Sophora</td>\n",
       "      <td>...</td>\n",
       "      <td>3019700</td>\n",
       "      <td>New York</td>\n",
       "      <td>40.687713</td>\n",
       "      <td>-73.963059</td>\n",
       "      <td>9.944950e+05</td>\n",
       "      <td>189830.8123</td>\n",
       "      <td>35.0</td>\n",
       "      <td>197.0</td>\n",
       "      <td>3055724.0</td>\n",
       "      <td>3.019510e+09</td>\n",
       "    </tr>\n",
       "    <tr>\n",
       "      <th>130630</th>\n",
       "      <td>311290</td>\n",
       "      <td>301419</td>\n",
       "      <td>10/11/2015</td>\n",
       "      <td>4</td>\n",
       "      <td>0</td>\n",
       "      <td>OnCurb</td>\n",
       "      <td>Alive</td>\n",
       "      <td>Good</td>\n",
       "      <td>Quercus imbricaria</td>\n",
       "      <td>shingle oak</td>\n",
       "      <td>...</td>\n",
       "      <td>4014100</td>\n",
       "      <td>New York</td>\n",
       "      <td>40.766574</td>\n",
       "      <td>-73.907380</td>\n",
       "      <td>1.009906e+06</td>\n",
       "      <td>218574.0534</td>\n",
       "      <td>22.0</td>\n",
       "      <td>141.0</td>\n",
       "      <td>4012864.0</td>\n",
       "      <td>4.007170e+09</td>\n",
       "    </tr>\n",
       "    <tr>\n",
       "      <th>387611</th>\n",
       "      <td>608204</td>\n",
       "      <td>227253</td>\n",
       "      <td>06/29/2016</td>\n",
       "      <td>28</td>\n",
       "      <td>0</td>\n",
       "      <td>OnCurb</td>\n",
       "      <td>Alive</td>\n",
       "      <td>Good</td>\n",
       "      <td>Platanus x acerifolia</td>\n",
       "      <td>London planetree</td>\n",
       "      <td>...</td>\n",
       "      <td>3033500</td>\n",
       "      <td>New York</td>\n",
       "      <td>40.667586</td>\n",
       "      <td>-73.943061</td>\n",
       "      <td>1.000046e+06</td>\n",
       "      <td>182501.1203</td>\n",
       "      <td>35.0</td>\n",
       "      <td>335.0</td>\n",
       "      <td>3033661.0</td>\n",
       "      <td>3.012850e+09</td>\n",
       "    </tr>\n",
       "    <tr>\n",
       "      <th>17678</th>\n",
       "      <td>202827</td>\n",
       "      <td>414470</td>\n",
       "      <td>09/04/2015</td>\n",
       "      <td>11</td>\n",
       "      <td>0</td>\n",
       "      <td>OnCurb</td>\n",
       "      <td>Alive</td>\n",
       "      <td>Good</td>\n",
       "      <td>Acer campestre</td>\n",
       "      <td>hedge maple</td>\n",
       "      <td>...</td>\n",
       "      <td>5013204</td>\n",
       "      <td>New York</td>\n",
       "      <td>40.556918</td>\n",
       "      <td>-74.133311</td>\n",
       "      <td>9.472061e+05</td>\n",
       "      <td>142204.8423</td>\n",
       "      <td>51.0</td>\n",
       "      <td>13204.0</td>\n",
       "      <td>5064350.0</td>\n",
       "      <td>5.050220e+09</td>\n",
       "    </tr>\n",
       "    <tr>\n",
       "      <th>375565</th>\n",
       "      <td>573515</td>\n",
       "      <td>332491</td>\n",
       "      <td>06/02/2016</td>\n",
       "      <td>3</td>\n",
       "      <td>0</td>\n",
       "      <td>OnCurb</td>\n",
       "      <td>Alive</td>\n",
       "      <td>Good</td>\n",
       "      <td>Gleditsia triacanthos var. inermis</td>\n",
       "      <td>honeylocust</td>\n",
       "      <td>...</td>\n",
       "      <td>4062600</td>\n",
       "      <td>New York</td>\n",
       "      <td>40.679879</td>\n",
       "      <td>-73.751107</td>\n",
       "      <td>1.053284e+06</td>\n",
       "      <td>187072.9189</td>\n",
       "      <td>31.0</td>\n",
       "      <td>626.0</td>\n",
       "      <td>4279235.0</td>\n",
       "      <td>4.129580e+09</td>\n",
       "    </tr>\n",
       "    <tr>\n",
       "      <th>242630</th>\n",
       "      <td>454729</td>\n",
       "      <td>200945</td>\n",
       "      <td>11/13/2015</td>\n",
       "      <td>3</td>\n",
       "      <td>0</td>\n",
       "      <td>OnCurb</td>\n",
       "      <td>Alive</td>\n",
       "      <td>Good</td>\n",
       "      <td>Gleditsia triacanthos var. inermis</td>\n",
       "      <td>honeylocust</td>\n",
       "      <td>...</td>\n",
       "      <td>3113400</td>\n",
       "      <td>New York</td>\n",
       "      <td>40.667105</td>\n",
       "      <td>-73.899257</td>\n",
       "      <td>1.012198e+06</td>\n",
       "      <td>182336.7226</td>\n",
       "      <td>42.0</td>\n",
       "      <td>1134.0</td>\n",
       "      <td>3084260.0</td>\n",
       "      <td>3.037670e+09</td>\n",
       "    </tr>\n",
       "    <tr>\n",
       "      <th>293883</th>\n",
       "      <td>513898</td>\n",
       "      <td>224456</td>\n",
       "      <td>12/12/2015</td>\n",
       "      <td>2</td>\n",
       "      <td>0</td>\n",
       "      <td>OnCurb</td>\n",
       "      <td>Alive</td>\n",
       "      <td>Good</td>\n",
       "      <td>Ginkgo biloba</td>\n",
       "      <td>ginkgo</td>\n",
       "      <td>...</td>\n",
       "      <td>3005900</td>\n",
       "      <td>New York</td>\n",
       "      <td>40.677270</td>\n",
       "      <td>-74.002772</td>\n",
       "      <td>9.834810e+05</td>\n",
       "      <td>186024.2402</td>\n",
       "      <td>38.0</td>\n",
       "      <td>59.0</td>\n",
       "      <td>3008354.0</td>\n",
       "      <td>3.005260e+09</td>\n",
       "    </tr>\n",
       "  </tbody>\n",
       "</table>\n",
       "<p>7 rows × 45 columns</p>\n",
       "</div>"
      ],
      "text/plain": [
       "        tree_id  block_id  created_at  tree_dbh  stump_diam curb_loc status  \\\n",
       "16906    222677    219069  09/14/2015        16           0   OnCurb  Alive   \n",
       "130630   311290    301419  10/11/2015         4           0   OnCurb  Alive   \n",
       "387611   608204    227253  06/29/2016        28           0   OnCurb  Alive   \n",
       "17678    202827    414470  09/04/2015        11           0   OnCurb  Alive   \n",
       "375565   573515    332491  06/02/2016         3           0   OnCurb  Alive   \n",
       "242630   454729    200945  11/13/2015         3           0   OnCurb  Alive   \n",
       "293883   513898    224456  12/12/2015         2           0   OnCurb  Alive   \n",
       "\n",
       "       health                           spc_latin        spc_common  ...  \\\n",
       "16906    Good             Styphnolobium japonicum           Sophora  ...   \n",
       "130630   Good                  Quercus imbricaria       shingle oak  ...   \n",
       "387611   Good               Platanus x acerifolia  London planetree  ...   \n",
       "17678    Good                      Acer campestre       hedge maple  ...   \n",
       "375565   Good  Gleditsia triacanthos var. inermis       honeylocust  ...   \n",
       "242630   Good  Gleditsia triacanthos var. inermis       honeylocust  ...   \n",
       "293883   Good                       Ginkgo biloba            ginkgo  ...   \n",
       "\n",
       "        boro_ct     state   latitude  longitude          x_sp         y_sp  \\\n",
       "16906   3019700  New York  40.687713 -73.963059  9.944950e+05  189830.8123   \n",
       "130630  4014100  New York  40.766574 -73.907380  1.009906e+06  218574.0534   \n",
       "387611  3033500  New York  40.667586 -73.943061  1.000046e+06  182501.1203   \n",
       "17678   5013204  New York  40.556918 -74.133311  9.472061e+05  142204.8423   \n",
       "375565  4062600  New York  40.679879 -73.751107  1.053284e+06  187072.9189   \n",
       "242630  3113400  New York  40.667105 -73.899257  1.012198e+06  182336.7226   \n",
       "293883  3005900  New York  40.677270 -74.002772  9.834810e+05  186024.2402   \n",
       "\n",
       "       council district census tract        bin           bbl  \n",
       "16906              35.0        197.0  3055724.0  3.019510e+09  \n",
       "130630             22.0        141.0  4012864.0  4.007170e+09  \n",
       "387611             35.0        335.0  3033661.0  3.012850e+09  \n",
       "17678              51.0      13204.0  5064350.0  5.050220e+09  \n",
       "375565             31.0        626.0  4279235.0  4.129580e+09  \n",
       "242630             42.0       1134.0  3084260.0  3.037670e+09  \n",
       "293883             38.0         59.0  3008354.0  3.005260e+09  \n",
       "\n",
       "[7 rows x 45 columns]"
      ]
     },
     "execution_count": 94,
     "metadata": {},
     "output_type": "execute_result"
    }
   ],
   "source": [
    "nyc_tree.sample(7)"
   ]
  },
  {
   "cell_type": "code",
   "execution_count": 95,
   "metadata": {},
   "outputs": [
    {
     "data": {
      "text/plain": [
       "Index(['tree_id', 'block_id', 'created_at', 'tree_dbh', 'stump_diam',\n",
       "       'curb_loc', 'status', 'health', 'spc_latin', 'spc_common', 'steward',\n",
       "       'guards', 'sidewalk', 'user_type', 'problems', 'root_stone',\n",
       "       'root_grate', 'root_other', 'trunk_wire', 'trnk_light', 'trnk_other',\n",
       "       'brch_light', 'brch_shoe', 'brch_other', 'address', 'postcode',\n",
       "       'zip_city', 'community board', 'borocode', 'borough', 'cncldist',\n",
       "       'st_assem', 'st_senate', 'nta', 'nta_name', 'boro_ct', 'state',\n",
       "       'latitude', 'longitude', 'x_sp', 'y_sp', 'council district',\n",
       "       'census tract', 'bin', 'bbl'],\n",
       "      dtype='object')"
      ]
     },
     "execution_count": 95,
     "metadata": {},
     "output_type": "execute_result"
    }
   ],
   "source": [
    "nyc_tree.columns"
   ]
  },
  {
   "cell_type": "code",
   "execution_count": 96,
   "metadata": {},
   "outputs": [],
   "source": [
    "## Reorder columns making target variable 'health' the first\n",
    "column_headers = list(nyc_tree.columns)\n",
    "column_headers = [column_headers[7]] + column_headers[:7] + column_headers[8:]\n",
    "nyc_tree = nyc_tree[column_headers]"
   ]
  },
  {
   "cell_type": "code",
   "execution_count": 97,
   "metadata": {},
   "outputs": [],
   "source": [
    "nyc_tree_eda = nyc_tree\n",
    "nyc_tree_eda.to_csv('data/nyc_tree_eda.csv', index=False)"
   ]
  },
  {
   "cell_type": "code",
   "execution_count": 98,
   "metadata": {},
   "outputs": [],
   "source": [
    "def two_category_binarizer(desirable_option, series):\n",
    "    nyc_tree[series] = nyc_tree[series].apply(lambda x: None if pd.isnull(x)==True else (1 if x==desirable_option else 0))"
   ]
  },
  {
   "cell_type": "markdown",
   "metadata": {},
   "source": [
    "#### Column 2 of 45<br>&emsp;tree_id"
   ]
  },
  {
   "cell_type": "code",
   "execution_count": 99,
   "metadata": {},
   "outputs": [
    {
     "data": {
      "text/plain": [
       "True"
      ]
     },
     "execution_count": 99,
     "metadata": {},
     "output_type": "execute_result"
    }
   ],
   "source": [
    "len(nyc_tree[nyc_tree.duplicated(subset='tree_id', keep=False)]) == 0"
   ]
  },
  {
   "cell_type": "code",
   "execution_count": 100,
   "metadata": {},
   "outputs": [],
   "source": [
    "## After determining there are no duplicated tree ids this column is no longer necessary\n",
    "nyc_tree.drop('tree_id', axis=1, inplace=True)"
   ]
  },
  {
   "cell_type": "markdown",
   "metadata": {},
   "source": [
    "#### Column 3 of 45<br>&emsp;block_id"
   ]
  },
  {
   "cell_type": "code",
   "execution_count": 101,
   "metadata": {},
   "outputs": [],
   "source": [
    "## Drop block_id for now; too many unique values"
   ]
  },
  {
   "cell_type": "code",
   "execution_count": 102,
   "metadata": {},
   "outputs": [],
   "source": [
    "nyc_tree.drop('block_id', axis=1, inplace=True)"
   ]
  },
  {
   "cell_type": "markdown",
   "metadata": {},
   "source": [
    "#### Column 4 of 45<br>&emsp;created_at"
   ]
  },
  {
   "cell_type": "code",
   "execution_count": 103,
   "metadata": {},
   "outputs": [],
   "source": [
    "nyc_tree.drop('created_at', axis=1, inplace=True)"
   ]
  },
  {
   "cell_type": "markdown",
   "metadata": {},
   "source": [
    "#### Column 5 of 45<br>&emsp;tree_dbh"
   ]
  },
  {
   "cell_type": "code",
   "execution_count": 104,
   "metadata": {},
   "outputs": [
    {
     "data": {
      "text/plain": [
       "4      60372\n",
       "3      54454\n",
       "2      41977\n",
       "5      41642\n",
       "11     37978\n",
       "       ...  \n",
       "142        1\n",
       "98         1\n",
       "147        1\n",
       "154        1\n",
       "281        1\n",
       "Name: tree_dbh, Length: 146, dtype: int64"
      ]
     },
     "execution_count": 104,
     "metadata": {},
     "output_type": "execute_result"
    }
   ],
   "source": [
    "nyc_tree.tree_dbh.value_counts(dropna=False)"
   ]
  },
  {
   "cell_type": "code",
   "execution_count": 105,
   "metadata": {},
   "outputs": [
    {
     "data": {
      "image/png": "[encoded data removed]",
      "text/plain": [
       "<Figure size 360x360 with 1 Axes>"
      ]
     },
     "metadata": {
      "needs_background": "light"
     },
     "output_type": "display_data"
    }
   ],
   "source": [
    "sns.displot(nyc_tree.tree_dbh, bins=150);"
   ]
  },
  {
   "cell_type": "code",
   "execution_count": 106,
   "metadata": {},
   "outputs": [
    {
     "data": {
      "text/plain": [
       "count    652173.000000\n",
       "mean         11.709485\n",
       "std           8.634239\n",
       "min           0.000000\n",
       "25%           5.000000\n",
       "50%          10.000000\n",
       "75%          16.000000\n",
       "max         425.000000\n",
       "Name: tree_dbh, dtype: float64"
      ]
     },
     "execution_count": 106,
     "metadata": {},
     "output_type": "execute_result"
    }
   ],
   "source": [
    "nyc_tree.loc[nyc_tree.status == 'Alive'].tree_dbh.describe()"
   ]
  },
  {
   "cell_type": "code",
   "execution_count": 107,
   "metadata": {},
   "outputs": [],
   "source": [
    "## Initialize 25th and 75th percentiles and the interquartile range for living trees\n",
    "svnty_fv_per = np.percentile(nyc_tree.loc[nyc_tree.status == 'Alive'].tree_dbh, 75)\n",
    "twnty_fv_per = np.percentile(nyc_tree.loc[nyc_tree.status == 'Alive'].tree_dbh, 25)\n",
    "alive_tree_diameter_iqr = svnty_fv_per - twnty_fv_per"
   ]
  },
  {
   "cell_type": "code",
   "execution_count": 108,
   "metadata": {},
   "outputs": [],
   "source": [
    "## After brief research some tree diameters seem too large, remove outliers of living trees\n",
    "nyc_tree.drop(nyc_tree.loc[nyc_tree.status == 'Alive'].loc[(nyc_tree.tree_dbh < (twnty_fv_per - 1.5*alive_tree_diameter_iqr))\n",
    "                                    | (nyc_tree.tree_dbh > (svnty_fv_per + 1.5*alive_tree_diameter_iqr))].index, inplace=True)"
   ]
  },
  {
   "cell_type": "code",
   "execution_count": 109,
   "metadata": {},
   "outputs": [
    {
     "data": {
      "text/plain": [
       "count    636794.000000\n",
       "mean         11.080827\n",
       "std           7.501970\n",
       "min           0.000000\n",
       "25%           5.000000\n",
       "50%          10.000000\n",
       "75%          16.000000\n",
       "max          32.000000\n",
       "Name: tree_dbh, dtype: float64"
      ]
     },
     "execution_count": 109,
     "metadata": {},
     "output_type": "execute_result"
    }
   ],
   "source": [
    "nyc_tree.loc[nyc_tree.status == 'Alive'].tree_dbh.describe()"
   ]
  },
  {
   "cell_type": "markdown",
   "metadata": {},
   "source": [
    "#### Column 6 of 45<br>&emsp;stump_diam"
   ]
  },
  {
   "cell_type": "code",
   "execution_count": 110,
   "metadata": {},
   "outputs": [
    {
     "data": {
      "text/plain": [
       "(17654, 42)"
      ]
     },
     "execution_count": 110,
     "metadata": {},
     "output_type": "execute_result"
    }
   ],
   "source": [
    "nyc_tree.loc[nyc_tree.stump_diam > 0].shape"
   ]
  },
  {
   "cell_type": "code",
   "execution_count": 111,
   "metadata": {},
   "outputs": [
    {
     "data": {
      "text/plain": [
       "Alive    636794\n",
       "Stump     17654\n",
       "Dead      13961\n",
       "Name: status, dtype: int64"
      ]
     },
     "execution_count": 111,
     "metadata": {},
     "output_type": "execute_result"
    }
   ],
   "source": [
    "nyc_tree.status.value_counts(dropna=False)"
   ]
  },
  {
   "cell_type": "code",
   "execution_count": 112,
   "metadata": {},
   "outputs": [
    {
     "data": {
      "text/plain": [
       "Good    514974\n",
       "Fair     95200\n",
       "NaN      31616\n",
       "Poor     26619\n",
       "Name: health, dtype: int64"
      ]
     },
     "execution_count": 112,
     "metadata": {},
     "output_type": "execute_result"
    }
   ],
   "source": [
    "nyc_tree.health.value_counts(dropna=False)"
   ]
  },
  {
   "cell_type": "code",
   "execution_count": 113,
   "metadata": {},
   "outputs": [],
   "source": [
    "## Drop 'stump_diam' column now and stumps later when addressing status column\n",
    "nyc_tree.drop('stump_diam', axis=1, inplace=True)"
   ]
  },
  {
   "cell_type": "markdown",
   "metadata": {},
   "source": [
    "#### Column 7 of 45<br>&emsp;curb_loc"
   ]
  },
  {
   "cell_type": "code",
   "execution_count": 114,
   "metadata": {},
   "outputs": [
    {
     "data": {
      "text/plain": [
       "OnCurb            642475\n",
       "OffsetFromCurb     25934\n",
       "Name: curb_loc, dtype: int64"
      ]
     },
     "execution_count": 114,
     "metadata": {},
     "output_type": "execute_result"
    }
   ],
   "source": [
    "nyc_tree.curb_loc.value_counts(dropna=False)"
   ]
  },
  {
   "cell_type": "code",
   "execution_count": 115,
   "metadata": {},
   "outputs": [],
   "source": [
    "## Rename 'curb_loc' 'on_curb'.  Replace 'OnCurb' values with 1,\n",
    "## replace 'OffsetFromCurb' values with 0, and ignore missing values\n",
    "nyc_tree.rename({'curb_loc': 'on_curb'}, axis=1, inplace=True)\n",
    "two_category_binarizer('OnCurb', 'on_curb')"
   ]
  },
  {
   "cell_type": "markdown",
   "metadata": {},
   "source": [
    "#### Column 8 of 45<br>&emsp;status"
   ]
  },
  {
   "cell_type": "code",
   "execution_count": 116,
   "metadata": {},
   "outputs": [
    {
     "data": {
      "text/plain": [
       "Alive    636794\n",
       "Stump     17654\n",
       "Dead      13961\n",
       "Name: status, dtype: int64"
      ]
     },
     "execution_count": 116,
     "metadata": {},
     "output_type": "execute_result"
    }
   ],
   "source": [
    "nyc_tree.status.value_counts()"
   ]
  },
  {
   "cell_type": "code",
   "execution_count": 117,
   "metadata": {},
   "outputs": [],
   "source": [
    "## Restrict data to only living trees\n",
    "nyc_tree.drop(nyc_tree.loc[nyc_tree.status != 'Alive'].index, inplace=True)"
   ]
  },
  {
   "cell_type": "code",
   "execution_count": 118,
   "metadata": {},
   "outputs": [
    {
     "data": {
      "text/plain": [
       "(636794, 41)"
      ]
     },
     "execution_count": 118,
     "metadata": {},
     "output_type": "execute_result"
    }
   ],
   "source": [
    "nyc_tree.shape"
   ]
  },
  {
   "cell_type": "code",
   "execution_count": 119,
   "metadata": {},
   "outputs": [],
   "source": [
    "## Address one row still missing value for health\n",
    "nyc_tree.drop(nyc_tree.loc[nyc_tree.health.isna() == True].index, inplace=True)"
   ]
  },
  {
   "cell_type": "code",
   "execution_count": 120,
   "metadata": {},
   "outputs": [],
   "source": [
    "nyc_tree.drop('status', axis=1, inplace=True)"
   ]
  },
  {
   "cell_type": "markdown",
   "metadata": {},
   "source": [
    "<div class=\"alert alert-block alert-info\">\n",
    "Column 9 of 45<br>&emsp;spc_latin needs adjusting\n",
    "</div>"
   ]
  },
  {
   "cell_type": "code",
   "execution_count": 121,
   "metadata": {},
   "outputs": [
    {
     "data": {
      "text/plain": [
       "Platanus x acerifolia                 79028\n",
       "Gleditsia triacanthos var. inermis    64210\n",
       "Pyrus calleryana                      58896\n",
       "Quercus palustris                     50041\n",
       "Acer platanoides                      34032\n",
       "                                      ...  \n",
       "Pinus rigida                             33\n",
       "Maclura pomifera                         29\n",
       "Pinus sylvestris                         25\n",
       "Pinus virginiana                         10\n",
       "NaN                                       4\n",
       "Name: spc_latin, Length: 133, dtype: int64"
      ]
     },
     "execution_count": 121,
     "metadata": {},
     "output_type": "execute_result"
    }
   ],
   "source": [
    "nyc_tree.spc_latin.value_counts(dropna=False)"
   ]
  },
  {
   "cell_type": "code",
   "execution_count": 122,
   "metadata": {},
   "outputs": [],
   "source": [
    "## Temporarily drop 'spc_latin' column\n",
    "nyc_tree.drop('spc_latin', axis=1, inplace=True)"
   ]
  },
  {
   "cell_type": "markdown",
   "metadata": {},
   "source": [
    "#### Column 10 of 45<br>&emsp;spc_common"
   ]
  },
  {
   "cell_type": "code",
   "execution_count": 123,
   "metadata": {},
   "outputs": [
    {
     "data": {
      "text/plain": [
       "London planetree    79028\n",
       "honeylocust         64210\n",
       "Callery pear        58896\n",
       "pin oak             50041\n",
       "Norway maple        34032\n",
       "                    ...  \n",
       "pitch pine             33\n",
       "Osage-orange           29\n",
       "Scots pine             25\n",
       "Virginia pine          10\n",
       "NaN                     4\n",
       "Name: spc_common, Length: 133, dtype: int64"
      ]
     },
     "execution_count": 123,
     "metadata": {},
     "output_type": "execute_result"
    }
   ],
   "source": [
    "nyc_tree.spc_common.value_counts(dropna=False)"
   ]
  },
  {
   "cell_type": "code",
   "execution_count": 124,
   "metadata": {},
   "outputs": [],
   "source": [
    "## No need for both 'spc_latin' and 'spc_common'\n",
    "nyc_tree.drop('spc_common', axis=1, inplace=True)"
   ]
  },
  {
   "cell_type": "markdown",
   "metadata": {},
   "source": [
    "#### Column 11 of 45<br>&emsp;steward"
   ]
  },
  {
   "cell_type": "code",
   "execution_count": 125,
   "metadata": {},
   "outputs": [
    {
     "data": {
      "text/plain": [
       "None       473821\n",
       "1or2       142314\n",
       "3or4        19061\n",
       "4orMore      1597\n",
       "Name: steward, dtype: int64"
      ]
     },
     "execution_count": 125,
     "metadata": {},
     "output_type": "execute_result"
    }
   ],
   "source": [
    "nyc_tree.steward.value_counts(dropna=False)"
   ]
  },
  {
   "cell_type": "code",
   "execution_count": 126,
   "metadata": {},
   "outputs": [
    {
     "name": "stdout",
     "output_type": "stream",
     "text": [
      "None\n",
      "Good    0.810179\n",
      "Fair    0.148560\n",
      "Poor    0.041260\n",
      "Name: health, dtype: float64\n",
      "1or2\n",
      "Good    0.802823\n",
      "Fair    0.153084\n",
      "Poor    0.044093\n",
      "Name: health, dtype: float64\n",
      "3or4\n",
      "Good    0.812707\n",
      "Fair    0.148156\n",
      "Poor    0.039138\n",
      "Name: health, dtype: float64\n",
      "4orMore\n",
      "Good    0.845335\n",
      "Fair    0.124609\n",
      "Poor    0.030056\n",
      "Name: health, dtype: float64\n"
     ]
    }
   ],
   "source": [
    "for value in nyc_tree.steward.value_counts(dropna=False).index:\n",
    "    print(value)\n",
    "    print(nyc_tree.loc[nyc_tree.steward == value].health.value_counts(normalize=True, dropna=False))"
   ]
  },
  {
   "cell_type": "markdown",
   "metadata": {},
   "source": [
    "#### Column 12 of 45<br>&emsp;guards"
   ]
  },
  {
   "cell_type": "code",
   "execution_count": 127,
   "metadata": {},
   "outputs": [
    {
     "data": {
      "text/plain": [
       "None       557419\n",
       "Helpful     51568\n",
       "Harmful     20140\n",
       "Unsure       7665\n",
       "NaN             1\n",
       "Name: guards, dtype: int64"
      ]
     },
     "execution_count": 127,
     "metadata": {},
     "output_type": "execute_result"
    }
   ],
   "source": [
    "nyc_tree.guards.value_counts(dropna=False)"
   ]
  },
  {
   "cell_type": "markdown",
   "metadata": {},
   "source": [
    "#### Column 13 of 45<br>&emsp;sidewalk"
   ]
  },
  {
   "cell_type": "code",
   "execution_count": 128,
   "metadata": {},
   "outputs": [
    {
     "data": {
      "text/plain": [
       "NoDamage    457121\n",
       "Damage      179671\n",
       "NaN              1\n",
       "Name: sidewalk, dtype: int64"
      ]
     },
     "execution_count": 128,
     "metadata": {},
     "output_type": "execute_result"
    }
   ],
   "source": [
    "nyc_tree.sidewalk.value_counts(dropna=False)"
   ]
  },
  {
   "cell_type": "code",
   "execution_count": 129,
   "metadata": {},
   "outputs": [],
   "source": [
    "## Replace 'NoDamage' values with 1, replace 'Damage' values with 0, and ignore missing values\n",
    "two_category_binarizer('NoDamage', 'sidewalk')"
   ]
  },
  {
   "cell_type": "markdown",
   "metadata": {},
   "source": [
    "#### Column 14 of 45<br>&emsp;user_type"
   ]
  },
  {
   "cell_type": "code",
   "execution_count": 130,
   "metadata": {},
   "outputs": [],
   "source": [
    "## This data does not seem to have a relationship with the target variable\n",
    "nyc_tree.drop('user_type', axis=1, inplace=True)"
   ]
  },
  {
   "cell_type": "markdown",
   "metadata": {},
   "source": [
    "#### Column 15 of 45<br>&emsp;problems"
   ]
  },
  {
   "cell_type": "code",
   "execution_count": 131,
   "metadata": {},
   "outputs": [
    {
     "data": {
      "text/plain": [
       "None                                                                          420414\n",
       "Stones                                                                         90458\n",
       "BranchLights                                                                   28825\n",
       "Stones,BranchLights                                                            16525\n",
       "RootOther                                                                      11155\n",
       "                                                                               ...  \n",
       "Stones,MetalGrates,RootOther,BranchLights                                          1\n",
       "Stones,RootOther,WiresRope,TrunkLights,TrunkOther,BranchLights,BranchOther         1\n",
       "MetalGrates,RootOther,WiresRope,TrunkLights,BranchLights,BranchOther               1\n",
       "MetalGrates,RootOther,TrunkLights,BranchLights                                     1\n",
       "MetalGrates,TrunkOther,Sneakers                                                    1\n",
       "Name: problems, Length: 232, dtype: int64"
      ]
     },
     "execution_count": 131,
     "metadata": {},
     "output_type": "execute_result"
    }
   ],
   "source": [
    "nyc_tree.problems.value_counts(dropna=False)"
   ]
  },
  {
   "cell_type": "code",
   "execution_count": 132,
   "metadata": {},
   "outputs": [],
   "source": [
    "## Drop 'problems' column as it is a summary of the following nine columns\n",
    "nyc_tree.drop('problems', axis=1, inplace=True)"
   ]
  },
  {
   "cell_type": "markdown",
   "metadata": {},
   "source": [
    "#### Column 16 of 45<br>&emsp;root_stone"
   ]
  },
  {
   "cell_type": "code",
   "execution_count": 133,
   "metadata": {},
   "outputs": [
    {
     "data": {
      "text/plain": [
       "No     504544\n",
       "Yes    132249\n",
       "Name: root_stone, dtype: int64"
      ]
     },
     "execution_count": 133,
     "metadata": {},
     "output_type": "execute_result"
    }
   ],
   "source": [
    "nyc_tree.root_stone.value_counts(dropna=False)"
   ]
  },
  {
   "cell_type": "code",
   "execution_count": 134,
   "metadata": {},
   "outputs": [],
   "source": [
    "## Replace 'No' values with 1 and replace 'Yes' values with 0\n",
    "two_category_binarizer('No', 'root_stone')"
   ]
  },
  {
   "cell_type": "markdown",
   "metadata": {},
   "source": [
    "#### Column 17 of 45<br>&emsp;root_grate"
   ]
  },
  {
   "cell_type": "code",
   "execution_count": 135,
   "metadata": {},
   "outputs": [
    {
     "data": {
      "text/plain": [
       "No     633268\n",
       "Yes      3525\n",
       "Name: root_grate, dtype: int64"
      ]
     },
     "execution_count": 135,
     "metadata": {},
     "output_type": "execute_result"
    }
   ],
   "source": [
    "nyc_tree.root_grate.value_counts(dropna=False)"
   ]
  },
  {
   "cell_type": "code",
   "execution_count": 136,
   "metadata": {},
   "outputs": [],
   "source": [
    "## Replace 'No' values with 1 and replace 'Yes' values with 0\n",
    "two_category_binarizer('No', 'root_grate')"
   ]
  },
  {
   "cell_type": "markdown",
   "metadata": {},
   "source": [
    "#### Column 18 of 45<br>&emsp;root_other"
   ]
  },
  {
   "cell_type": "code",
   "execution_count": 137,
   "metadata": {},
   "outputs": [
    {
     "data": {
      "text/plain": [
       "No     607514\n",
       "Yes     29279\n",
       "Name: root_other, dtype: int64"
      ]
     },
     "execution_count": 137,
     "metadata": {},
     "output_type": "execute_result"
    }
   ],
   "source": [
    "nyc_tree.root_other.value_counts(dropna=False)"
   ]
  },
  {
   "cell_type": "code",
   "execution_count": 138,
   "metadata": {},
   "outputs": [],
   "source": [
    "## Replace 'No' values with 1 and replace 'Yes' values with 0\n",
    "two_category_binarizer('No', 'root_other')"
   ]
  },
  {
   "cell_type": "markdown",
   "metadata": {},
   "source": [
    "#### Column 19 of 45<br>&emsp;trunk_wire"
   ]
  },
  {
   "cell_type": "code",
   "execution_count": 139,
   "metadata": {},
   "outputs": [
    {
     "data": {
      "text/plain": [
       "No     624207\n",
       "Yes     12586\n",
       "Name: trunk_wire, dtype: int64"
      ]
     },
     "execution_count": 139,
     "metadata": {},
     "output_type": "execute_result"
    }
   ],
   "source": [
    "nyc_tree.trunk_wire.value_counts(dropna=False)"
   ]
  },
  {
   "cell_type": "code",
   "execution_count": 140,
   "metadata": {},
   "outputs": [],
   "source": [
    "## Replace 'No' values with 1 and replace 'Yes' values with 0\n",
    "nyc_tree.rename({'trunk_wire': 'trnk_wire'}, axis=1, inplace=True)\n",
    "two_category_binarizer('No', 'trnk_wire')"
   ]
  },
  {
   "cell_type": "markdown",
   "metadata": {},
   "source": [
    "#### Column 20 of 45<br>&emsp;trnk_light"
   ]
  },
  {
   "cell_type": "code",
   "execution_count": 141,
   "metadata": {},
   "outputs": [
    {
     "data": {
      "text/plain": [
       "No     635772\n",
       "Yes      1021\n",
       "Name: trnk_light, dtype: int64"
      ]
     },
     "execution_count": 141,
     "metadata": {},
     "output_type": "execute_result"
    }
   ],
   "source": [
    "nyc_tree.trnk_light.value_counts(dropna=False)"
   ]
  },
  {
   "cell_type": "code",
   "execution_count": 142,
   "metadata": {},
   "outputs": [],
   "source": [
    "## Replace 'No' values with 1 and replace 'Yes' values with 0\n",
    "two_category_binarizer('No', 'trnk_light')"
   ]
  },
  {
   "cell_type": "markdown",
   "metadata": {},
   "source": [
    "#### Column 21 of 45<br>&emsp;trnk_other"
   ]
  },
  {
   "cell_type": "code",
   "execution_count": 143,
   "metadata": {},
   "outputs": [
    {
     "data": {
      "text/plain": [
       "No     605165\n",
       "Yes     31628\n",
       "Name: trnk_other, dtype: int64"
      ]
     },
     "execution_count": 143,
     "metadata": {},
     "output_type": "execute_result"
    }
   ],
   "source": [
    "nyc_tree.trnk_other.value_counts(dropna=False)"
   ]
  },
  {
   "cell_type": "code",
   "execution_count": 144,
   "metadata": {},
   "outputs": [],
   "source": [
    "## Replace 'No' values with 1 and replace 'Yes' values with 0\n",
    "two_category_binarizer('No', 'trnk_other')"
   ]
  },
  {
   "cell_type": "markdown",
   "metadata": {},
   "source": [
    "#### Column 22 of 45<br>&emsp;brch_light"
   ]
  },
  {
   "cell_type": "code",
   "execution_count": 145,
   "metadata": {},
   "outputs": [
    {
     "data": {
      "text/plain": [
       "No     577178\n",
       "Yes     59615\n",
       "Name: brch_light, dtype: int64"
      ]
     },
     "execution_count": 145,
     "metadata": {},
     "output_type": "execute_result"
    }
   ],
   "source": [
    "nyc_tree.brch_light.value_counts(dropna=False)"
   ]
  },
  {
   "cell_type": "code",
   "execution_count": 146,
   "metadata": {},
   "outputs": [],
   "source": [
    "## Replace 'No' values with 1 and replace 'Yes' values with 0\n",
    "two_category_binarizer('No', 'brch_light')"
   ]
  },
  {
   "cell_type": "markdown",
   "metadata": {},
   "source": [
    "#### Column 23 of 45<br>&emsp;brch_shoe"
   ]
  },
  {
   "cell_type": "code",
   "execution_count": 147,
   "metadata": {},
   "outputs": [
    {
     "data": {
      "text/plain": [
       "No     636387\n",
       "Yes       406\n",
       "Name: brch_shoe, dtype: int64"
      ]
     },
     "execution_count": 147,
     "metadata": {},
     "output_type": "execute_result"
    }
   ],
   "source": [
    "nyc_tree.brch_shoe.value_counts(dropna=False)"
   ]
  },
  {
   "cell_type": "code",
   "execution_count": 148,
   "metadata": {},
   "outputs": [],
   "source": [
    "## Replace 'No' values with 1 and replace 'Yes' values with 0\n",
    "two_category_binarizer('No', 'brch_shoe')"
   ]
  },
  {
   "cell_type": "markdown",
   "metadata": {},
   "source": [
    "#### Column 24 of 45<br>&emsp;brch_other"
   ]
  },
  {
   "cell_type": "code",
   "execution_count": 149,
   "metadata": {},
   "outputs": [
    {
     "data": {
      "text/plain": [
       "No     612844\n",
       "Yes     23949\n",
       "Name: brch_other, dtype: int64"
      ]
     },
     "execution_count": 149,
     "metadata": {},
     "output_type": "execute_result"
    }
   ],
   "source": [
    "nyc_tree.brch_other.value_counts(dropna=False)"
   ]
  },
  {
   "cell_type": "code",
   "execution_count": 150,
   "metadata": {},
   "outputs": [],
   "source": [
    "## Replace 'No' values with 1 and replace 'Yes' values with 0\n",
    "two_category_binarizer('No', 'brch_other')"
   ]
  },
  {
   "cell_type": "markdown",
   "metadata": {},
   "source": [
    "#### Column 25 of 45<br>&emsp;address"
   ]
  },
  {
   "cell_type": "code",
   "execution_count": 151,
   "metadata": {},
   "outputs": [
    {
     "data": {
      "text/plain": [
       "106 CROSS BAY BOULEVARD    210\n",
       "2350 FOREST HILL ROAD      130\n",
       "2 TELEPORT DRIVE           124\n",
       "900 SOUTH AVENUE            88\n",
       "2750 VETERANS ROAD WEST     78\n",
       "                          ... \n",
       "66-006 78 STREET             1\n",
       "6624 DURYEA COURT            1\n",
       "116-051 146 STREET           1\n",
       "66-023 79 STREET             1\n",
       "69-069 183 STREET            1\n",
       "Name: address, Length: 385952, dtype: int64"
      ]
     },
     "execution_count": 151,
     "metadata": {},
     "output_type": "execute_result"
    }
   ],
   "source": [
    "nyc_tree.address.value_counts(dropna=False)"
   ]
  },
  {
   "cell_type": "code",
   "execution_count": 152,
   "metadata": {},
   "outputs": [],
   "source": [
    "## Unable to use this data in modeling\n",
    "nyc_tree.drop('address', axis=1, inplace=True)"
   ]
  },
  {
   "cell_type": "markdown",
   "metadata": {},
   "source": [
    "#### Column 26 of 45<br>&emsp;postcode"
   ]
  },
  {
   "cell_type": "code",
   "execution_count": 153,
   "metadata": {},
   "outputs": [
    {
     "data": {
      "text/plain": [
       "10312    21241\n",
       "10314    16060\n",
       "10309    12070\n",
       "10306    11996\n",
       "11234    10537\n",
       "         ...  \n",
       "11697       24\n",
       "10048       11\n",
       "11096        9\n",
       "11451        9\n",
       "10115        7\n",
       "Name: postcode, Length: 191, dtype: int64"
      ]
     },
     "execution_count": 153,
     "metadata": {},
     "output_type": "execute_result"
    }
   ],
   "source": [
    "nyc_tree.postcode.value_counts(dropna=False)"
   ]
  },
  {
   "cell_type": "code",
   "execution_count": 154,
   "metadata": {},
   "outputs": [],
   "source": [
    "## Unable to use this data in modeling\n",
    "nyc_tree.drop('postcode', axis=1, inplace=True)"
   ]
  },
  {
   "cell_type": "markdown",
   "metadata": {},
   "source": [
    "#### Column 27 of 45<br>&emsp;zip_city"
   ]
  },
  {
   "cell_type": "code",
   "execution_count": 157,
   "metadata": {},
   "outputs": [],
   "source": [
    "## Seems to be a combination of boroughs and neighborhoods, not useful\n",
    "nyc_tree.drop('zip_city', axis=1, inplace=True)"
   ]
  },
  {
   "cell_type": "markdown",
   "metadata": {},
   "source": [
    "#### Column 28 of 45<br>&emsp;community board"
   ]
  },
  {
   "cell_type": "code",
   "execution_count": 160,
   "metadata": {},
   "outputs": [],
   "source": [
    "## Unable to use this data in modeling\n",
    "nyc_tree.drop('community board', axis=1, inplace=True)"
   ]
  },
  {
   "cell_type": "markdown",
   "metadata": {},
   "source": [
    "#### Column 29 of 45<br>&emsp;borocode"
   ]
  },
  {
   "cell_type": "code",
   "execution_count": 163,
   "metadata": {},
   "outputs": [],
   "source": [
    "## Provides same information as 'borough'\n",
    "nyc_tree.drop('borocode', axis=1, inplace=True)"
   ]
  },
  {
   "cell_type": "markdown",
   "metadata": {},
   "source": [
    "#### Column 30 of 45<br>&emsp;borough"
   ]
  },
  {
   "cell_type": "code",
   "execution_count": 164,
   "metadata": {},
   "outputs": [
    {
     "data": {
      "text/plain": [
       "Queens           229714\n",
       "Brooklyn         165967\n",
       "Staten Island     99330\n",
       "Bronx             79555\n",
       "Manhattan         62227\n",
       "Name: borough, dtype: int64"
      ]
     },
     "execution_count": 164,
     "metadata": {},
     "output_type": "execute_result"
    }
   ],
   "source": [
    "nyc_tree.borough.value_counts(dropna=False)"
   ]
  },
  {
   "cell_type": "code",
   "execution_count": 165,
   "metadata": {},
   "outputs": [],
   "source": [
    "nyc_tree.health = nyc_tree.health.apply(lambda x: 2 if x=='Good' else (1 if x=='Fair' else 0))"
   ]
  },
  {
   "cell_type": "code",
   "execution_count": 63,
   "metadata": {},
   "outputs": [],
   "source": [
    "## temporary data shrinkage\n",
    "nyc_tree_mini = nyc_tree[['health', 'tree_dbh', 'on_curb', 'steward', 'guards']].sample(500)\n",
    "nyc_tree_cleaned = nyc_tree.iloc[:, :16]"
   ]
  },
  {
   "cell_type": "code",
   "execution_count": 64,
   "metadata": {},
   "outputs": [],
   "source": [
    "nyc_tree_mini.to_csv('data/nyc_tree_mini.csv', index=False)\n",
    "nyc_tree_cleaned.to_csv('data/nyc_tree_cleaned.csv', index=False)"
   ]
  }
 ],
 "metadata": {
  "kernelspec": {
   "display_name": "Python 3 (ipykernel)",
   "language": "python",
   "name": "python3"
  },
  "language_info": {
   "codemirror_mode": {
    "name": "ipython",
    "version": 3
   },
   "file_extension": ".py",
   "mimetype": "text/x-python",
   "name": "python",
   "nbconvert_exporter": "python",
   "pygments_lexer": "ipython3",
   "version": "3.9.7"
  }
 },
 "nbformat": 4,
 "nbformat_minor": 4
}
