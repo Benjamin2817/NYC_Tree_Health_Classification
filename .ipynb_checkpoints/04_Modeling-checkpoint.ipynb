{
 "cells": [
  {
   "cell_type": "code",
   "execution_count": 1,
   "metadata": {},
   "outputs": [],
   "source": [
    "# from imblearn.over_sampling import SMOTE\n",
    "from sklearn.ensemble import RandomForestClassifier\n",
    "from sklearn.metrics import (accuracy_score, classification_report, confusion_matrix, ConfusionMatrixDisplay,\n",
    "                             f1_score, precision_score, recall_score)\n",
    "from sklearn.model_selection import cross_val_score, GridSearchCV\n",
    "from sklearn.tree import DecisionTreeClassifier\n",
    "from xgboost import XGBClassifier\n",
    "import matplotlib.pyplot as plt\n",
    "import numpy as np\n",
    "import pandas as pd\n",
    "import seaborn as sns\n",
    "import warnings\n",
    "\n",
    "warnings.filterwarnings('ignore')"
   ]
  },
  {
   "cell_type": "code",
   "execution_count": 2,
   "metadata": {},
   "outputs": [],
   "source": [
    "## Import data split and preprocessed in attached notebooks\n",
    "X_train = pd.read_csv('data/X_train.csv')\n",
    "y_train = pd.read_csv('data/y_train.csv')\n",
    "X_test = pd.read_csv('data/X_test.csv')\n",
    "y_test = pd.read_csv('data/y_test.csv')"
   ]
  },
  {
   "cell_type": "code",
   "execution_count": 3,
   "metadata": {},
   "outputs": [],
   "source": [
    "# X_train, y_train = SMOTE().fit_resample(X_train, y_train)"
   ]
  },
  {
   "cell_type": "code",
   "execution_count": 4,
   "metadata": {},
   "outputs": [],
   "source": [
    "def score_retriever(true_results, predictions):\n",
    "    precision = precision_score(true_results, predictions, average='weighted') * 100\n",
    "    recall = recall_score(true_results, predictions, average='weighted') * 100\n",
    "    accuracy = accuracy_score(true_results, predictions) * 100\n",
    "    f1 = f1_score(true_results, predictions, average='weighted') * 100\n",
    "    return precision, recall, accuracy, f1"
   ]
  },
  {
   "cell_type": "code",
   "execution_count": 5,
   "metadata": {},
   "outputs": [],
   "source": [
    "## Initialize dataframe containing only column names to store metrics for each model\n",
    "algorithm_scores = pd.DataFrame(columns=['Model', 'Train Precision', 'Train Recall', 'Train Accuracy', 'Train F1_Score',\n",
    "                                         'Test Precision', 'Test Recall', 'Test Accuracy', 'Test F1_Score'])"
   ]
  },
  {
   "cell_type": "markdown",
   "metadata": {},
   "source": [
    "### Decision Tree"
   ]
  },
  {
   "cell_type": "code",
   "execution_count": 6,
   "metadata": {},
   "outputs": [
    {
     "data": {
      "text/plain": [
       "0.7867623965125189"
      ]
     },
     "execution_count": 6,
     "metadata": {},
     "output_type": "execute_result"
    }
   ],
   "source": [
    "## Initialize decision tree classifier with default hyperparameters\n",
    "dt_classifier_default_params = DecisionTreeClassifier(random_state=42)\n",
    "dt_classifier_baseline_score = np.mean(cross_val_score(dt_classifier_default_params,\n",
    "                                                       X_train, y_train.values.ravel(), cv=3))\n",
    "dt_classifier_baseline_score"
   ]
  },
  {
   "cell_type": "code",
   "execution_count": 7,
   "metadata": {},
   "outputs": [],
   "source": [
    "dt_classifier_default_params.fit(X_train, y_train.values.ravel())\n",
    "dt_classifier_baseline_predictions_trn = dt_classifier_default_params.predict(X_train)\n",
    "dt_classifier_baseline_predictions = dt_classifier_default_params.predict(X_test)"
   ]
  },
  {
   "cell_type": "code",
   "execution_count": 8,
   "metadata": {},
   "outputs": [
    {
     "name": "stdout",
     "output_type": "stream",
     "text": [
      "              precision    recall  f1-score   support\n",
      "\n",
      "           0       0.69      0.20      0.30      6710\n",
      "           1       0.72      0.17      0.28     23735\n",
      "           2       0.84      0.99      0.91    128753\n",
      "\n",
      "    accuracy                           0.83    159198\n",
      "   macro avg       0.75      0.45      0.50    159198\n",
      "weighted avg       0.81      0.83      0.79    159198\n",
      "\n",
      "              precision    recall  f1-score   support\n",
      "\n",
      "           0       0.16      0.05      0.08      2232\n",
      "           1       0.26      0.07      0.11      7874\n",
      "           2       0.82      0.96      0.88     42960\n",
      "\n",
      "    accuracy                           0.79     53066\n",
      "   macro avg       0.42      0.36      0.36     53066\n",
      "weighted avg       0.71      0.79      0.74     53066\n",
      "\n"
     ]
    }
   ],
   "source": [
    "print(classification_report(y_train, dt_classifier_baseline_predictions_trn))\n",
    "print(classification_report(y_test, dt_classifier_baseline_predictions))"
   ]
  },
  {
   "cell_type": "code",
   "execution_count": 9,
   "metadata": {},
   "outputs": [
    {
     "data": {
      "image/png": "[encoded data removed]",
      "text/plain": [
       "<Figure size 432x288 with 2 Axes>"
      ]
     },
     "metadata": {
      "needs_background": "light"
     },
     "output_type": "display_data"
    }
   ],
   "source": [
    "ConfusionMatrixDisplay(confusion_matrix=confusion_matrix(y_test, dt_classifier_baseline_predictions)).plot();"
   ]
  },
  {
   "cell_type": "code",
   "execution_count": 10,
   "metadata": {},
   "outputs": [],
   "source": [
    "algorithm_scores = algorithm_scores.append({'Model': 'Decision Tree Baseline',\n",
    "                                        'Train Precision': score_retriever(y_train, dt_classifier_baseline_predictions_trn)[0],\n",
    "                                        'Train Recall': score_retriever(y_train, dt_classifier_baseline_predictions_trn)[1],\n",
    "                                        'Train Accuracy': score_retriever(y_train, dt_classifier_baseline_predictions_trn)[2],\n",
    "                                        'Train F1_Score': score_retriever(y_train, dt_classifier_baseline_predictions_trn)[3],\n",
    "                                        'Test Precision': score_retriever(y_test, dt_classifier_baseline_predictions)[0],\n",
    "                                        'Test Recall': score_retriever(y_test, dt_classifier_baseline_predictions)[1],\n",
    "                                        'Test Accuracy': score_retriever(y_test, dt_classifier_baseline_predictions)[2],\n",
    "                                        'Test F1_Score': score_retriever(y_test, dt_classifier_baseline_predictions)[3]},\n",
    "                                        ignore_index=True)"
   ]
  },
  {
   "cell_type": "code",
   "execution_count": 11,
   "metadata": {},
   "outputs": [
    {
     "data": {
      "text/plain": [
       "0.4907787786278723"
      ]
     },
     "execution_count": 11,
     "metadata": {},
     "output_type": "execute_result"
    }
   ],
   "source": [
    "## Initialize decision tree classifier with default hyperparameters except for class weight which is set to balanced\n",
    "dt_classifier_balanced = DecisionTreeClassifier(class_weight='balanced', random_state=42)\n",
    "dt_classifier_balanced_score = np.mean(cross_val_score(dt_classifier_balanced,\n",
    "                                                       X_train, y_train.values.ravel(), cv=3))\n",
    "dt_classifier_balanced_score"
   ]
  },
  {
   "cell_type": "code",
   "execution_count": 12,
   "metadata": {},
   "outputs": [],
   "source": [
    "dt_classifier_balanced.fit(X_train, y_train.values.ravel())\n",
    "dt_classifier_balanced_predictions_trn = dt_classifier_balanced.predict(X_train)\n",
    "dt_classifier_balanced_predictions = dt_classifier_balanced.predict(X_test)"
   ]
  },
  {
   "cell_type": "code",
   "execution_count": 13,
   "metadata": {},
   "outputs": [
    {
     "name": "stdout",
     "output_type": "stream",
     "text": [
      "              precision    recall  f1-score   support\n",
      "\n",
      "           0       0.10      0.66      0.17      6710\n",
      "           1       0.30      0.41      0.35     23735\n",
      "           2       0.89      0.57      0.70    128753\n",
      "\n",
      "    accuracy                           0.55    159198\n",
      "   macro avg       0.43      0.55      0.41    159198\n",
      "weighted avg       0.77      0.55      0.62    159198\n",
      "\n",
      "              precision    recall  f1-score   support\n",
      "\n",
      "           0       0.06      0.38      0.10      2232\n",
      "           1       0.19      0.25      0.21      7874\n",
      "           2       0.84      0.54      0.66     42960\n",
      "\n",
      "    accuracy                           0.49     53066\n",
      "   macro avg       0.36      0.39      0.33     53066\n",
      "weighted avg       0.71      0.49      0.57     53066\n",
      "\n"
     ]
    }
   ],
   "source": [
    "print(classification_report(y_train, dt_classifier_balanced_predictions_trn))\n",
    "print(classification_report(y_test, dt_classifier_balanced_predictions))"
   ]
  },
  {
   "cell_type": "code",
   "execution_count": 14,
   "metadata": {},
   "outputs": [
    {
     "data": {
      "image/png": "[encoded data removed]",
      "text/plain": [
       "<Figure size 432x288 with 2 Axes>"
      ]
     },
     "metadata": {
      "needs_background": "light"
     },
     "output_type": "display_data"
    }
   ],
   "source": [
    "ConfusionMatrixDisplay(confusion_matrix=confusion_matrix(y_test, dt_classifier_balanced_predictions)).plot();"
   ]
  },
  {
   "cell_type": "code",
   "execution_count": 15,
   "metadata": {},
   "outputs": [],
   "source": [
    "algorithm_scores = algorithm_scores.append({'Model': 'Decision Tree Balanced',\n",
    "                                        'Train Precision': score_retriever(y_train, dt_classifier_balanced_predictions_trn)[0],\n",
    "                                        'Train Recall': score_retriever(y_train, dt_classifier_balanced_predictions_trn)[1],\n",
    "                                        'Train Accuracy': score_retriever(y_train, dt_classifier_balanced_predictions_trn)[2],\n",
    "                                        'Train F1_Score': score_retriever(y_train, dt_classifier_balanced_predictions_trn)[3],\n",
    "                                        'Test Precision': score_retriever(y_test, dt_classifier_balanced_predictions)[0],\n",
    "                                        'Test Recall': score_retriever(y_test, dt_classifier_balanced_predictions)[1],\n",
    "                                        'Test Accuracy': score_retriever(y_test, dt_classifier_balanced_predictions)[2],\n",
    "                                        'Test F1_Score': score_retriever(y_test, dt_classifier_balanced_predictions)[3]},\n",
    "                                        ignore_index=True)"
   ]
  },
  {
   "cell_type": "code",
   "execution_count": 16,
   "metadata": {},
   "outputs": [],
   "source": [
    "dt_param_grid = {\n",
    "    'criterion': ['entropy', 'gini'],\n",
    "    'max_depth': [5, 10, 20],\n",
    "    'min_samples_leaf': [1, 5, 10],\n",
    "    'min_samples_split': [2, 5, 10],\n",
    "}"
   ]
  },
  {
   "cell_type": "code",
   "execution_count": 17,
   "metadata": {},
   "outputs": [],
   "source": [
    "dt_grid_search = GridSearchCV(DecisionTreeClassifier(class_weight='balanced', random_state=42), dt_param_grid, cv=3, n_jobs=-1)\n",
    "dt_grid_search = dt_grid_search.fit(X_train, y_train.values.ravel())"
   ]
  },
  {
   "cell_type": "code",
   "execution_count": 18,
   "metadata": {},
   "outputs": [
    {
     "data": {
      "text/plain": [
       "{'criterion': 'gini',\n",
       " 'max_depth': 5,\n",
       " 'min_samples_leaf': 10,\n",
       " 'min_samples_split': 2}"
      ]
     },
     "execution_count": 18,
     "metadata": {},
     "output_type": "execute_result"
    }
   ],
   "source": [
    "dt_grid_search.best_params_"
   ]
  },
  {
   "cell_type": "code",
   "execution_count": 19,
   "metadata": {},
   "outputs": [],
   "source": [
    "## Initialize decision tree classifier with hyperparameters determined by gridsearch\n",
    "dt_classifier_best_params = DecisionTreeClassifier(class_weight='balanced',\n",
    "                                                   criterion=dt_grid_search.best_params_['criterion'],\n",
    "                                                   max_depth=dt_grid_search.best_params_['max_depth'],\n",
    "                                                   min_samples_leaf=dt_grid_search.best_params_['min_samples_leaf'],\n",
    "                                                   min_samples_split=dt_grid_search.best_params_['min_samples_split'],\n",
    "                                                   random_state=42)"
   ]
  },
  {
   "cell_type": "code",
   "execution_count": 20,
   "metadata": {},
   "outputs": [],
   "source": [
    "dt_classifier_best_params.fit(X_train, y_train.values.ravel())\n",
    "dt_best_parameters_predictions_trn = dt_classifier_best_params.predict(X_train)\n",
    "dt_best_parameters_predictions = dt_classifier_best_params.predict(X_test)"
   ]
  },
  {
   "cell_type": "code",
   "execution_count": 21,
   "metadata": {},
   "outputs": [
    {
     "name": "stdout",
     "output_type": "stream",
     "text": [
      "              precision    recall  f1-score   support\n",
      "\n",
      "           0       0.08      0.36      0.13      6710\n",
      "           1       0.20      0.17      0.19     23735\n",
      "           2       0.84      0.71      0.77    128753\n",
      "\n",
      "    accuracy                           0.62    159198\n",
      "   macro avg       0.38      0.42      0.36    159198\n",
      "weighted avg       0.71      0.62      0.66    159198\n",
      "\n",
      "              precision    recall  f1-score   support\n",
      "\n",
      "           0       0.08      0.37      0.14      2232\n",
      "           1       0.20      0.17      0.18      7874\n",
      "           2       0.84      0.72      0.77     42960\n",
      "\n",
      "    accuracy                           0.62     53066\n",
      "   macro avg       0.37      0.42      0.36     53066\n",
      "weighted avg       0.71      0.62      0.66     53066\n",
      "\n"
     ]
    }
   ],
   "source": [
    "print(classification_report(y_train, dt_best_parameters_predictions_trn))\n",
    "print(classification_report(y_test, dt_best_parameters_predictions))"
   ]
  },
  {
   "cell_type": "code",
   "execution_count": 22,
   "metadata": {},
   "outputs": [
    {
     "data": {
      "image/png": "[encoded data removed]",
      "text/plain": [
       "<Figure size 432x288 with 2 Axes>"
      ]
     },
     "metadata": {
      "needs_background": "light"
     },
     "output_type": "display_data"
    }
   ],
   "source": [
    "ConfusionMatrixDisplay(confusion_matrix=confusion_matrix(y_test, dt_best_parameters_predictions)).plot();"
   ]
  },
  {
   "cell_type": "code",
   "execution_count": 23,
   "metadata": {},
   "outputs": [],
   "source": [
    "algorithm_scores = algorithm_scores.append({'Model': 'Decision Tree Tuned',\n",
    "                                        'Train Precision': score_retriever(y_train, dt_best_parameters_predictions_trn)[0],\n",
    "                                        'Train Recall': score_retriever(y_train, dt_best_parameters_predictions_trn)[1],\n",
    "                                        'Train Accuracy': score_retriever(y_train, dt_best_parameters_predictions_trn)[2],\n",
    "                                        'Train F1_Score': score_retriever(y_train, dt_best_parameters_predictions_trn)[3],\n",
    "                                        'Test Precision': score_retriever(y_test, dt_best_parameters_predictions)[0],\n",
    "                                        'Test Recall': score_retriever(y_test, dt_best_parameters_predictions)[1],\n",
    "                                        'Test Accuracy': score_retriever(y_test, dt_best_parameters_predictions)[2],\n",
    "                                        'Test F1_Score': score_retriever(y_test, dt_best_parameters_predictions)[3]},\n",
    "                                        ignore_index=True)"
   ]
  },
  {
   "cell_type": "markdown",
   "metadata": {},
   "source": [
    "### Random Forest "
   ]
  },
  {
   "cell_type": "code",
   "execution_count": 24,
   "metadata": {},
   "outputs": [
    {
     "data": {
      "text/plain": [
       "0.7975916782874157"
      ]
     },
     "execution_count": 24,
     "metadata": {},
     "output_type": "execute_result"
    }
   ],
   "source": [
    "## Initialize random forest classifier with default hyperparameters\n",
    "rf_classifier_default_params = RandomForestClassifier(random_state=42)\n",
    "rf_classifier_baseline_score = np.mean(cross_val_score(rf_classifier_default_params,\n",
    "                                                       X_train, y_train.values.ravel(), cv=3))\n",
    "rf_classifier_baseline_score"
   ]
  },
  {
   "cell_type": "code",
   "execution_count": 25,
   "metadata": {},
   "outputs": [],
   "source": [
    "rf_classifier_default_params.fit(X_train, y_train.values.ravel())\n",
    "rf_classifier_baseline_predictions_trn = rf_classifier_default_params.predict(X_train)\n",
    "rf_classifier_baseline_predictions = rf_classifier_default_params.predict(X_test)"
   ]
  },
  {
   "cell_type": "code",
   "execution_count": 26,
   "metadata": {},
   "outputs": [
    {
     "name": "stdout",
     "output_type": "stream",
     "text": [
      "              precision    recall  f1-score   support\n",
      "\n",
      "           0       0.80      0.16      0.26      6710\n",
      "           1       0.77      0.15      0.25     23735\n",
      "           2       0.83      0.99      0.91    128753\n",
      "\n",
      "    accuracy                           0.83    159198\n",
      "   macro avg       0.80      0.43      0.47    159198\n",
      "weighted avg       0.82      0.83      0.78    159198\n",
      "\n",
      "              precision    recall  f1-score   support\n",
      "\n",
      "           0       0.21      0.04      0.06      2232\n",
      "           1       0.30      0.05      0.09      7874\n",
      "           2       0.82      0.98      0.89     42960\n",
      "\n",
      "    accuracy                           0.80     53066\n",
      "   macro avg       0.44      0.36      0.35     53066\n",
      "weighted avg       0.72      0.80      0.74     53066\n",
      "\n"
     ]
    }
   ],
   "source": [
    "print(classification_report(y_train, rf_classifier_baseline_predictions_trn))\n",
    "print(classification_report(y_test, rf_classifier_baseline_predictions))"
   ]
  },
  {
   "cell_type": "code",
   "execution_count": 27,
   "metadata": {},
   "outputs": [
    {
     "data": {
      "image/png": "[encoded data removed]",
      "text/plain": [
       "<Figure size 432x288 with 2 Axes>"
      ]
     },
     "metadata": {
      "needs_background": "light"
     },
     "output_type": "display_data"
    }
   ],
   "source": [
    "ConfusionMatrixDisplay(confusion_matrix=confusion_matrix(y_test, rf_classifier_baseline_predictions)).plot();"
   ]
  },
  {
   "cell_type": "code",
   "execution_count": 28,
   "metadata": {},
   "outputs": [],
   "source": [
    "algorithm_scores = algorithm_scores.append({'Model': 'Random Forest Baseline',\n",
    "                                        'Train Precision': score_retriever(y_train, rf_classifier_baseline_predictions_trn)[0],\n",
    "                                        'Train Recall': score_retriever(y_train, rf_classifier_baseline_predictions_trn)[1],\n",
    "                                        'Train Accuracy': score_retriever(y_train, rf_classifier_baseline_predictions_trn)[2],\n",
    "                                        'Train F1_Score': score_retriever(y_train, rf_classifier_baseline_predictions_trn)[3],\n",
    "                                        'Test Precision': score_retriever(y_test, rf_classifier_baseline_predictions)[0],\n",
    "                                        'Test Recall': score_retriever(y_test, rf_classifier_baseline_predictions)[1],\n",
    "                                        'Test Accuracy': score_retriever(y_test, rf_classifier_baseline_predictions)[2],\n",
    "                                        'Test F1_Score': score_retriever(y_test, rf_classifier_baseline_predictions)[3]},\n",
    "                                                        ignore_index=True)"
   ]
  },
  {
   "cell_type": "code",
   "execution_count": 29,
   "metadata": {},
   "outputs": [
    {
     "data": {
      "text/plain": [
       "0.5320481413083079"
      ]
     },
     "execution_count": 29,
     "metadata": {},
     "output_type": "execute_result"
    }
   ],
   "source": [
    "## Initialize random forest classifier with default hyperparameters except for class weight which is set to balanced\n",
    "rf_classifier_balanced = RandomForestClassifier(random_state=42, class_weight='balanced')\n",
    "rf_classifier_balanced_score = np.mean(cross_val_score(rf_classifier_balanced,\n",
    "                                                       X_train, y_train.values.ravel(), cv=3))\n",
    "rf_classifier_balanced_score"
   ]
  },
  {
   "cell_type": "code",
   "execution_count": 30,
   "metadata": {},
   "outputs": [],
   "source": [
    "rf_classifier_balanced.fit(X_train, y_train.values.ravel())\n",
    "rf_classifier_balanced_predictions_trn = rf_classifier_balanced.predict(X_train)\n",
    "rf_classifier_balanced_predictions = rf_classifier_balanced.predict(X_test)"
   ]
  },
  {
   "cell_type": "code",
   "execution_count": 31,
   "metadata": {},
   "outputs": [
    {
     "name": "stdout",
     "output_type": "stream",
     "text": [
      "              precision    recall  f1-score   support\n",
      "\n",
      "           0       0.10      0.61      0.18      6710\n",
      "           1       0.32      0.39      0.35     23735\n",
      "           2       0.88      0.62      0.73    128753\n",
      "\n",
      "    accuracy                           0.58    159198\n",
      "   macro avg       0.44      0.54      0.42    159198\n",
      "weighted avg       0.77      0.58      0.65    159198\n",
      "\n",
      "              precision    recall  f1-score   support\n",
      "\n",
      "           0       0.06      0.35      0.10      2232\n",
      "           1       0.19      0.23      0.21      7874\n",
      "           2       0.84      0.60      0.70     42960\n",
      "\n",
      "    accuracy                           0.53     53066\n",
      "   macro avg       0.36      0.39      0.34     53066\n",
      "weighted avg       0.71      0.53      0.60     53066\n",
      "\n"
     ]
    }
   ],
   "source": [
    "print(classification_report(y_train, rf_classifier_balanced_predictions_trn))\n",
    "print(classification_report(y_test, rf_classifier_balanced_predictions))"
   ]
  },
  {
   "cell_type": "code",
   "execution_count": 32,
   "metadata": {},
   "outputs": [
    {
     "data": {
      "image/png": "[encoded data removed]",
      "text/plain": [
       "<Figure size 432x288 with 2 Axes>"
      ]
     },
     "metadata": {
      "needs_background": "light"
     },
     "output_type": "display_data"
    }
   ],
   "source": [
    "ConfusionMatrixDisplay(confusion_matrix=confusion_matrix(y_test, rf_classifier_balanced_predictions)).plot();"
   ]
  },
  {
   "cell_type": "code",
   "execution_count": 33,
   "metadata": {},
   "outputs": [],
   "source": [
    "algorithm_scores = algorithm_scores.append({'Model': 'Random Forest Balanced',\n",
    "                                        'Train Precision': score_retriever(y_train, rf_classifier_balanced_predictions_trn)[0],\n",
    "                                        'Train Recall': score_retriever(y_train, rf_classifier_balanced_predictions_trn)[1],\n",
    "                                        'Train Accuracy': score_retriever(y_train, rf_classifier_balanced_predictions_trn)[2],\n",
    "                                        'Train F1_Score': score_retriever(y_train, rf_classifier_balanced_predictions_trn)[3],\n",
    "                                        'Test Precision': score_retriever(y_test, rf_classifier_balanced_predictions)[0],\n",
    "                                        'Test Recall': score_retriever(y_test, rf_classifier_balanced_predictions)[1],\n",
    "                                        'Test Accuracy': score_retriever(y_test, rf_classifier_balanced_predictions)[2],\n",
    "                                        'Test F1_Score': score_retriever(y_test, rf_classifier_balanced_predictions)[3]},\n",
    "                                        ignore_index=True)"
   ]
  },
  {
   "cell_type": "code",
   "execution_count": 34,
   "metadata": {},
   "outputs": [],
   "source": [
    "rf_param_grid = {\n",
    "    'criterion': ['entropy', 'gini'],\n",
    "    'max_depth': [5, 10, 20],\n",
    "    'min_samples_leaf': [1, 5, 10],\n",
    "    'min_samples_split': [2, 5, 10],\n",
    "    'n_estimators': [10, 50, 100]\n",
    "}"
   ]
  },
  {
   "cell_type": "code",
   "execution_count": 35,
   "metadata": {},
   "outputs": [],
   "source": [
    "rf_grid_search = GridSearchCV(RandomForestClassifier(random_state=42, class_weight='balanced'), rf_param_grid, cv=3, n_jobs=-1)\n",
    "rf_grid_search = rf_grid_search.fit(X_train, y_train.values.ravel())"
   ]
  },
  {
   "cell_type": "code",
   "execution_count": 36,
   "metadata": {},
   "outputs": [
    {
     "data": {
      "text/plain": [
       "{'criterion': 'gini',\n",
       " 'max_depth': 5,\n",
       " 'min_samples_leaf': 10,\n",
       " 'min_samples_split': 2,\n",
       " 'n_estimators': 50}"
      ]
     },
     "execution_count": 36,
     "metadata": {},
     "output_type": "execute_result"
    }
   ],
   "source": [
    "rf_grid_search.best_params_"
   ]
  },
  {
   "cell_type": "code",
   "execution_count": 37,
   "metadata": {},
   "outputs": [],
   "source": [
    "## Initialize random forest classifier with hyperparameters determined by gridsearch\n",
    "rf_classifier_best_params = RandomForestClassifier(class_weight='balanced',\n",
    "                                                   criterion=rf_grid_search.best_params_['criterion'],\n",
    "                                                   max_depth=rf_grid_search.best_params_['max_depth'],\n",
    "                                                   min_samples_leaf=rf_grid_search.best_params_['min_samples_leaf'],\n",
    "                                                   min_samples_split=rf_grid_search.best_params_['min_samples_split'],\n",
    "                                                   n_estimators=rf_grid_search.best_params_['n_estimators'],\n",
    "                                                   random_state=42)"
   ]
  },
  {
   "cell_type": "code",
   "execution_count": 38,
   "metadata": {},
   "outputs": [],
   "source": [
    "rf_classifier_best_params.fit(X_train, y_train.values.ravel())\n",
    "rf_best_parameters_predictions_trn = rf_classifier_best_params.predict(X_train)\n",
    "rf_best_parameters_predictions = rf_classifier_best_params.predict(X_test)"
   ]
  },
  {
   "cell_type": "code",
   "execution_count": 39,
   "metadata": {},
   "outputs": [
    {
     "name": "stdout",
     "output_type": "stream",
     "text": [
      "              precision    recall  f1-score   support\n",
      "\n",
      "           0       0.08      0.41      0.13      6710\n",
      "           1       0.20      0.16      0.18     23735\n",
      "           2       0.84      0.70      0.76    128753\n",
      "\n",
      "    accuracy                           0.60    159198\n",
      "   macro avg       0.37      0.42      0.36    159198\n",
      "weighted avg       0.72      0.60      0.65    159198\n",
      "\n",
      "              precision    recall  f1-score   support\n",
      "\n",
      "           0       0.08      0.41      0.13      2232\n",
      "           1       0.19      0.15      0.17      7874\n",
      "           2       0.84      0.70      0.77     42960\n",
      "\n",
      "    accuracy                           0.61     53066\n",
      "   macro avg       0.37      0.42      0.36     53066\n",
      "weighted avg       0.71      0.61      0.65     53066\n",
      "\n"
     ]
    }
   ],
   "source": [
    "print(classification_report(y_train, rf_best_parameters_predictions_trn))\n",
    "print(classification_report(y_test, rf_best_parameters_predictions))"
   ]
  },
  {
   "cell_type": "code",
   "execution_count": 40,
   "metadata": {},
   "outputs": [
    {
     "data": {
      "image/png": "[encoded data removed]",
      "text/plain": [
       "<Figure size 432x288 with 2 Axes>"
      ]
     },
     "metadata": {
      "needs_background": "light"
     },
     "output_type": "display_data"
    }
   ],
   "source": [
    "ConfusionMatrixDisplay(confusion_matrix=confusion_matrix(y_test, rf_best_parameters_predictions)).plot();"
   ]
  },
  {
   "cell_type": "code",
   "execution_count": 41,
   "metadata": {},
   "outputs": [],
   "source": [
    "algorithm_scores = algorithm_scores.append({'Model': 'Random Forest Tuned',\n",
    "                                        'Train Precision': score_retriever(y_train, rf_best_parameters_predictions_trn)[0],\n",
    "                                        'Train Recall': score_retriever(y_train, rf_best_parameters_predictions_trn)[1],\n",
    "                                        'Train Accuracy': score_retriever(y_train, rf_best_parameters_predictions_trn)[2],\n",
    "                                        'Train F1_Score': score_retriever(y_train, rf_best_parameters_predictions_trn)[3],\n",
    "                                        'Test Precision': score_retriever(y_test, rf_best_parameters_predictions)[0],\n",
    "                                        'Test Recall': score_retriever(y_test, rf_best_parameters_predictions)[1],\n",
    "                                        'Test Accuracy': score_retriever(y_test, rf_best_parameters_predictions)[2],\n",
    "                                        'Test F1_Score': score_retriever(y_test, rf_best_parameters_predictions)[3]},\n",
    "                                        ignore_index=True)"
   ]
  },
  {
   "cell_type": "code",
   "execution_count": 42,
   "metadata": {},
   "outputs": [],
   "source": [
    "rf_feature_importance_dict = dict(zip(X_train.columns, rf_classifier_best_params.feature_importances_))"
   ]
  },
  {
   "cell_type": "code",
   "execution_count": 43,
   "metadata": {},
   "outputs": [],
   "source": [
    "## Put back together the categories split during dummy creation in preprocessing stage \n",
    "dummied_categories = ['steward', 'guards', 'borough']\n",
    "for name in dummied_categories:\n",
    "    category_sum = sum([value for key, value in rf_feature_importance_dict.items() if name in key])\n",
    "    remove_keys = [key for key in rf_feature_importance_dict.keys() if name in key]\n",
    "    for key in remove_keys:\n",
    "        rf_feature_importance_dict.pop(key)\n",
    "    rf_feature_importance_dict[name] = category_sum"
   ]
  },
  {
   "cell_type": "code",
   "execution_count": 44,
   "metadata": {},
   "outputs": [
    {
     "data": {
      "image/png": "[encoded data removed]",
      "text/plain": [
       "<Figure size 432x288 with 1 Axes>"
      ]
     },
     "metadata": {
      "needs_background": "light"
     },
     "output_type": "display_data"
    }
   ],
   "source": [
    "importances = pd.Series(rf_feature_importance_dict.values(), \n",
    "                        index=rf_feature_importance_dict.keys()).sort_values(ascending=False)\n",
    "sns.barplot(x=importances, y=importances.index);"
   ]
  },
  {
   "cell_type": "markdown",
   "metadata": {},
   "source": [
    "### eXtreme Gradient Boosting"
   ]
  },
  {
   "cell_type": "code",
   "execution_count": 45,
   "metadata": {},
   "outputs": [
    {
     "data": {
      "text/plain": [
       "0.8088732270505911"
      ]
     },
     "execution_count": 45,
     "metadata": {},
     "output_type": "execute_result"
    }
   ],
   "source": [
    "## Initialize decision tree classifier with default hyperparameters except for eval_metric which is set to mlogloss and \n",
    "## use_label_encoder which is set to False\n",
    "xgb_classifier_default_params = XGBClassifier(eval_metric='mlogloss', random_state=42, use_label_encoder=False)\n",
    "xgb_classifier_baseline_score = np.mean(cross_val_score(xgb_classifier_default_params,\n",
    "                                                        X_train, y_train.values.ravel(), cv=3))\n",
    "xgb_classifier_baseline_score"
   ]
  },
  {
   "cell_type": "code",
   "execution_count": 46,
   "metadata": {},
   "outputs": [],
   "source": [
    "xgb_classifier_default_params.fit(X_train, y_train.values.ravel())\n",
    "xgb_classifier_baseline_predictions_trn = xgb_classifier_default_params.predict(X_train)\n",
    "xgb_classifier_baseline_predictions = xgb_classifier_default_params.predict(X_test)"
   ]
  },
  {
   "cell_type": "code",
   "execution_count": 47,
   "metadata": {},
   "outputs": [
    {
     "name": "stdout",
     "output_type": "stream",
     "text": [
      "Model: XGBoost Baseline\n",
      "              precision    recall  f1-score   support\n",
      "\n",
      "           0       0.65      0.05      0.10      6710\n",
      "           1       0.63      0.04      0.07     23735\n",
      "           2       0.82      1.00      0.90    128753\n",
      "\n",
      "    accuracy                           0.81    159198\n",
      "   macro avg       0.70      0.36      0.36    159198\n",
      "weighted avg       0.78      0.81      0.74    159198\n",
      "\n",
      "              precision    recall  f1-score   support\n",
      "\n",
      "           0       0.46      0.03      0.06      2232\n",
      "           1       0.39      0.02      0.04      7874\n",
      "           2       0.81      1.00      0.90     42960\n",
      "\n",
      "    accuracy                           0.81     53066\n",
      "   macro avg       0.56      0.35      0.33     53066\n",
      "weighted avg       0.74      0.81      0.73     53066\n",
      "\n"
     ]
    }
   ],
   "source": [
    "print('Model: XGBoost Baseline')\n",
    "print(classification_report(y_train, xgb_classifier_baseline_predictions_trn))\n",
    "print(classification_report(y_test, xgb_classifier_baseline_predictions))"
   ]
  },
  {
   "cell_type": "code",
   "execution_count": 48,
   "metadata": {},
   "outputs": [
    {
     "data": {
      "image/png": "[encoded data removed]",
      "text/plain": [
       "<Figure size 432x288 with 2 Axes>"
      ]
     },
     "metadata": {
      "needs_background": "light"
     },
     "output_type": "display_data"
    }
   ],
   "source": [
    "ConfusionMatrixDisplay(confusion_matrix=confusion_matrix(y_test, xgb_classifier_baseline_predictions)).plot();"
   ]
  },
  {
   "cell_type": "code",
   "execution_count": 49,
   "metadata": {},
   "outputs": [],
   "source": [
    "algorithm_scores = algorithm_scores.append({'Model': 'XGBoost Baseline',\n",
    "                                        'Train Precision': score_retriever(y_train, xgb_classifier_baseline_predictions_trn)[0],\n",
    "                                        'Train Recall': score_retriever(y_train, xgb_classifier_baseline_predictions_trn)[1],\n",
    "                                        'Train Accuracy': score_retriever(y_train, xgb_classifier_baseline_predictions_trn)[2],\n",
    "                                        'Train F1_Score': score_retriever(y_train, xgb_classifier_baseline_predictions_trn)[3],\n",
    "                                        'Test Precision': score_retriever(y_test, xgb_classifier_baseline_predictions)[0],\n",
    "                                        'Test Recall': score_retriever(y_test, xgb_classifier_baseline_predictions)[1],\n",
    "                                        'Test Accuracy': score_retriever(y_test, xgb_classifier_baseline_predictions)[2],\n",
    "                                        'Test F1_Score': score_retriever(y_test, xgb_classifier_baseline_predictions)[3]},\n",
    "                                        ignore_index=True)"
   ]
  },
  {
   "cell_type": "code",
   "execution_count": 50,
   "metadata": {},
   "outputs": [
    {
     "name": "stdout",
     "output_type": "stream",
     "text": [
      "[19:28:59] WARNING: ..\\src\\learner.cc:541: \n",
      "Parameters: { class_weight } might not be used.\n",
      "\n",
      "  This may not be accurate due to some parameters are only used in language bindings but\n",
      "  passed down to XGBoost core.  Or some parameters are not used but slip through this\n",
      "  verification. Please open an issue if you find above cases.\n",
      "\n",
      "\n",
      "[19:29:26] WARNING: ..\\src\\learner.cc:541: \n",
      "Parameters: { class_weight } might not be used.\n",
      "\n",
      "  This may not be accurate due to some parameters are only used in language bindings but\n",
      "  passed down to XGBoost core.  Or some parameters are not used but slip through this\n",
      "  verification. Please open an issue if you find above cases.\n",
      "\n",
      "\n",
      "[19:29:52] WARNING: ..\\src\\learner.cc:541: \n",
      "Parameters: { class_weight } might not be used.\n",
      "\n",
      "  This may not be accurate due to some parameters are only used in language bindings but\n",
      "  passed down to XGBoost core.  Or some parameters are not used but slip through this\n",
      "  verification. Please open an issue if you find above cases.\n",
      "\n",
      "\n"
     ]
    },
    {
     "data": {
      "text/plain": [
       "0.8088732270505911"
      ]
     },
     "execution_count": 50,
     "metadata": {},
     "output_type": "execute_result"
    }
   ],
   "source": [
    "xgb_classifier_balanced = XGBClassifier(class_weight='balanced', eval_metric='mlogloss',\n",
    "                                        random_state=42, use_label_encoder=False)\n",
    "xgb_classifier_balanced_score = np.mean(cross_val_score(xgb_classifier_balanced,\n",
    "                                                       X_train, y_train.values.ravel(), cv=3))\n",
    "xgb_classifier_balanced_score"
   ]
  },
  {
   "cell_type": "code",
   "execution_count": 51,
   "metadata": {},
   "outputs": [
    {
     "name": "stdout",
     "output_type": "stream",
     "text": [
      "[19:30:19] WARNING: ..\\src\\learner.cc:541: \n",
      "Parameters: { class_weight } might not be used.\n",
      "\n",
      "  This may not be accurate due to some parameters are only used in language bindings but\n",
      "  passed down to XGBoost core.  Or some parameters are not used but slip through this\n",
      "  verification. Please open an issue if you find above cases.\n",
      "\n",
      "\n"
     ]
    }
   ],
   "source": [
    "xgb_classifier_balanced.fit(X_train, y_train.values.ravel())\n",
    "xgb_classifier_balanced_predictions_trn = xgb_classifier_balanced.predict(X_train)\n",
    "xgb_classifier_balanced_predictions = xgb_classifier_balanced.predict(X_test)"
   ]
  },
  {
   "cell_type": "code",
   "execution_count": 52,
   "metadata": {},
   "outputs": [
    {
     "name": "stdout",
     "output_type": "stream",
     "text": [
      "              precision    recall  f1-score   support\n",
      "\n",
      "           0       0.65      0.05      0.10      6710\n",
      "           1       0.63      0.04      0.07     23735\n",
      "           2       0.82      1.00      0.90    128753\n",
      "\n",
      "    accuracy                           0.81    159198\n",
      "   macro avg       0.70      0.36      0.36    159198\n",
      "weighted avg       0.78      0.81      0.74    159198\n",
      "\n",
      "              precision    recall  f1-score   support\n",
      "\n",
      "           0       0.46      0.03      0.06      2232\n",
      "           1       0.39      0.02      0.04      7874\n",
      "           2       0.81      1.00      0.90     42960\n",
      "\n",
      "    accuracy                           0.81     53066\n",
      "   macro avg       0.56      0.35      0.33     53066\n",
      "weighted avg       0.74      0.81      0.73     53066\n",
      "\n"
     ]
    }
   ],
   "source": [
    "print(classification_report(y_train, xgb_classifier_balanced_predictions_trn))\n",
    "print(classification_report(y_test, xgb_classifier_balanced_predictions))"
   ]
  },
  {
   "cell_type": "code",
   "execution_count": 53,
   "metadata": {},
   "outputs": [
    {
     "data": {
      "image/png": "[encoded data removed]",
      "text/plain": [
       "<Figure size 432x288 with 2 Axes>"
      ]
     },
     "metadata": {
      "needs_background": "light"
     },
     "output_type": "display_data"
    }
   ],
   "source": [
    "ConfusionMatrixDisplay(confusion_matrix=confusion_matrix(y_test, xgb_classifier_balanced_predictions)).plot();"
   ]
  },
  {
   "cell_type": "code",
   "execution_count": 54,
   "metadata": {},
   "outputs": [],
   "source": [
    "algorithm_scores = algorithm_scores.append({'Model': 'XGBoost Balanced',\n",
    "                                        'Train Precision': score_retriever(y_train, xgb_classifier_balanced_predictions_trn)[0],\n",
    "                                        'Train Recall': score_retriever(y_train, xgb_classifier_balanced_predictions_trn)[1],\n",
    "                                        'Train Accuracy': score_retriever(y_train, xgb_classifier_balanced_predictions_trn)[2],\n",
    "                                        'Train F1_Score': score_retriever(y_train, xgb_classifier_balanced_predictions_trn)[3],\n",
    "                                        'Test Precision': score_retriever(y_test, xgb_classifier_balanced_predictions)[0],\n",
    "                                        'Test Recall': score_retriever(y_test, xgb_classifier_balanced_predictions)[1],\n",
    "                                        'Test Accuracy': score_retriever(y_test, xgb_classifier_balanced_predictions)[2],\n",
    "                                        'Test F1_Score': score_retriever(y_test, xgb_classifier_balanced_predictions)[3]},\n",
    "                                        ignore_index=True)"
   ]
  },
  {
   "cell_type": "code",
   "execution_count": 55,
   "metadata": {},
   "outputs": [],
   "source": [
    "xgb_param_grid = {\n",
    "    'learning_rate': [0.1, 0.2],\n",
    "    'max_depth': [6],\n",
    "    'min_child_weight': [1, 2],\n",
    "    'n_estimators': [100],\n",
    "    'subsample': [0.5, 0.7]\n",
    "}"
   ]
  },
  {
   "cell_type": "code",
   "execution_count": 65,
   "metadata": {},
   "outputs": [
    {
     "name": "stdout",
     "output_type": "stream",
     "text": [
      "[00:44:21] WARNING: ..\\src\\learner.cc:541: \n",
      "Parameters: { class_weight } might not be used.\n",
      "\n",
      "  This may not be accurate due to some parameters are only used in language bindings but\n",
      "  passed down to XGBoost core.  Or some parameters are not used but slip through this\n",
      "  verification. Please open an issue if you find above cases.\n",
      "\n",
      "\n"
     ]
    },
    {
     "ename": "KeyboardInterrupt",
     "evalue": "",
     "output_type": "error",
     "traceback": [
      "\u001b[1;31m---------------------------------------------------------------------------\u001b[0m",
      "\u001b[1;31mKeyboardInterrupt\u001b[0m                         Traceback (most recent call last)",
      "\u001b[1;32m<ipython-input-65-e96c2a75a319>\u001b[0m in \u001b[0;36m<module>\u001b[1;34m\u001b[0m\n\u001b[0;32m      2\u001b[0m                                              random_state=42, use_label_encoder=False),\n\u001b[0;32m      3\u001b[0m                                              xgb_param_grid, scoring='accuracy', cv=3)\n\u001b[1;32m----> 4\u001b[1;33m \u001b[0mxgb_grid_search\u001b[0m \u001b[1;33m=\u001b[0m \u001b[0mxgb_grid_search\u001b[0m\u001b[1;33m.\u001b[0m\u001b[0mfit\u001b[0m\u001b[1;33m(\u001b[0m\u001b[0mX_train\u001b[0m\u001b[1;33m,\u001b[0m \u001b[0my_train\u001b[0m\u001b[1;33m.\u001b[0m\u001b[0mvalues\u001b[0m\u001b[1;33m.\u001b[0m\u001b[0mravel\u001b[0m\u001b[1;33m(\u001b[0m\u001b[1;33m)\u001b[0m\u001b[1;33m)\u001b[0m\u001b[1;33m\u001b[0m\u001b[1;33m\u001b[0m\u001b[0m\n\u001b[0m",
      "\u001b[1;32m~\\anaconda3\\lib\\site-packages\\sklearn\\model_selection\\_search.py\u001b[0m in \u001b[0;36mfit\u001b[1;34m(self, X, y, groups, **fit_params)\u001b[0m\n\u001b[0;32m    889\u001b[0m                 \u001b[1;32mreturn\u001b[0m \u001b[0mresults\u001b[0m\u001b[1;33m\u001b[0m\u001b[1;33m\u001b[0m\u001b[0m\n\u001b[0;32m    890\u001b[0m \u001b[1;33m\u001b[0m\u001b[0m\n\u001b[1;32m--> 891\u001b[1;33m             \u001b[0mself\u001b[0m\u001b[1;33m.\u001b[0m\u001b[0m_run_search\u001b[0m\u001b[1;33m(\u001b[0m\u001b[0mevaluate_candidates\u001b[0m\u001b[1;33m)\u001b[0m\u001b[1;33m\u001b[0m\u001b[1;33m\u001b[0m\u001b[0m\n\u001b[0m\u001b[0;32m    892\u001b[0m \u001b[1;33m\u001b[0m\u001b[0m\n\u001b[0;32m    893\u001b[0m             \u001b[1;31m# multimetric is determined here because in the case of a callable\u001b[0m\u001b[1;33m\u001b[0m\u001b[1;33m\u001b[0m\u001b[1;33m\u001b[0m\u001b[0m\n",
      "\u001b[1;32m~\\anaconda3\\lib\\site-packages\\sklearn\\model_selection\\_search.py\u001b[0m in \u001b[0;36m_run_search\u001b[1;34m(self, evaluate_candidates)\u001b[0m\n\u001b[0;32m   1390\u001b[0m     \u001b[1;32mdef\u001b[0m \u001b[0m_run_search\u001b[0m\u001b[1;33m(\u001b[0m\u001b[0mself\u001b[0m\u001b[1;33m,\u001b[0m \u001b[0mevaluate_candidates\u001b[0m\u001b[1;33m)\u001b[0m\u001b[1;33m:\u001b[0m\u001b[1;33m\u001b[0m\u001b[1;33m\u001b[0m\u001b[0m\n\u001b[0;32m   1391\u001b[0m         \u001b[1;34m\"\"\"Search all candidates in param_grid\"\"\"\u001b[0m\u001b[1;33m\u001b[0m\u001b[1;33m\u001b[0m\u001b[0m\n\u001b[1;32m-> 1392\u001b[1;33m         \u001b[0mevaluate_candidates\u001b[0m\u001b[1;33m(\u001b[0m\u001b[0mParameterGrid\u001b[0m\u001b[1;33m(\u001b[0m\u001b[0mself\u001b[0m\u001b[1;33m.\u001b[0m\u001b[0mparam_grid\u001b[0m\u001b[1;33m)\u001b[0m\u001b[1;33m)\u001b[0m\u001b[1;33m\u001b[0m\u001b[1;33m\u001b[0m\u001b[0m\n\u001b[0m\u001b[0;32m   1393\u001b[0m \u001b[1;33m\u001b[0m\u001b[0m\n\u001b[0;32m   1394\u001b[0m \u001b[1;33m\u001b[0m\u001b[0m\n",
      "\u001b[1;32m~\\anaconda3\\lib\\site-packages\\sklearn\\model_selection\\_search.py\u001b[0m in \u001b[0;36mevaluate_candidates\u001b[1;34m(candidate_params, cv, more_results)\u001b[0m\n\u001b[0;32m    836\u001b[0m                     )\n\u001b[0;32m    837\u001b[0m \u001b[1;33m\u001b[0m\u001b[0m\n\u001b[1;32m--> 838\u001b[1;33m                 out = parallel(\n\u001b[0m\u001b[0;32m    839\u001b[0m                     delayed(_fit_and_score)(\n\u001b[0;32m    840\u001b[0m                         \u001b[0mclone\u001b[0m\u001b[1;33m(\u001b[0m\u001b[0mbase_estimator\u001b[0m\u001b[1;33m)\u001b[0m\u001b[1;33m,\u001b[0m\u001b[1;33m\u001b[0m\u001b[1;33m\u001b[0m\u001b[0m\n",
      "\u001b[1;32m~\\anaconda3\\lib\\site-packages\\joblib\\parallel.py\u001b[0m in \u001b[0;36m__call__\u001b[1;34m(self, iterable)\u001b[0m\n\u001b[0;32m   1046\u001b[0m             \u001b[1;31m# remaining jobs.\u001b[0m\u001b[1;33m\u001b[0m\u001b[1;33m\u001b[0m\u001b[1;33m\u001b[0m\u001b[0m\n\u001b[0;32m   1047\u001b[0m             \u001b[0mself\u001b[0m\u001b[1;33m.\u001b[0m\u001b[0m_iterating\u001b[0m \u001b[1;33m=\u001b[0m \u001b[1;32mFalse\u001b[0m\u001b[1;33m\u001b[0m\u001b[1;33m\u001b[0m\u001b[0m\n\u001b[1;32m-> 1048\u001b[1;33m             \u001b[1;32mif\u001b[0m \u001b[0mself\u001b[0m\u001b[1;33m.\u001b[0m\u001b[0mdispatch_one_batch\u001b[0m\u001b[1;33m(\u001b[0m\u001b[0miterator\u001b[0m\u001b[1;33m)\u001b[0m\u001b[1;33m:\u001b[0m\u001b[1;33m\u001b[0m\u001b[1;33m\u001b[0m\u001b[0m\n\u001b[0m\u001b[0;32m   1049\u001b[0m                 \u001b[0mself\u001b[0m\u001b[1;33m.\u001b[0m\u001b[0m_iterating\u001b[0m \u001b[1;33m=\u001b[0m \u001b[0mself\u001b[0m\u001b[1;33m.\u001b[0m\u001b[0m_original_iterator\u001b[0m \u001b[1;32mis\u001b[0m \u001b[1;32mnot\u001b[0m \u001b[1;32mNone\u001b[0m\u001b[1;33m\u001b[0m\u001b[1;33m\u001b[0m\u001b[0m\n\u001b[0;32m   1050\u001b[0m \u001b[1;33m\u001b[0m\u001b[0m\n",
      "\u001b[1;32m~\\anaconda3\\lib\\site-packages\\joblib\\parallel.py\u001b[0m in \u001b[0;36mdispatch_one_batch\u001b[1;34m(self, iterator)\u001b[0m\n\u001b[0;32m    864\u001b[0m                 \u001b[1;32mreturn\u001b[0m \u001b[1;32mFalse\u001b[0m\u001b[1;33m\u001b[0m\u001b[1;33m\u001b[0m\u001b[0m\n\u001b[0;32m    865\u001b[0m             \u001b[1;32melse\u001b[0m\u001b[1;33m:\u001b[0m\u001b[1;33m\u001b[0m\u001b[1;33m\u001b[0m\u001b[0m\n\u001b[1;32m--> 866\u001b[1;33m                 \u001b[0mself\u001b[0m\u001b[1;33m.\u001b[0m\u001b[0m_dispatch\u001b[0m\u001b[1;33m(\u001b[0m\u001b[0mtasks\u001b[0m\u001b[1;33m)\u001b[0m\u001b[1;33m\u001b[0m\u001b[1;33m\u001b[0m\u001b[0m\n\u001b[0m\u001b[0;32m    867\u001b[0m                 \u001b[1;32mreturn\u001b[0m \u001b[1;32mTrue\u001b[0m\u001b[1;33m\u001b[0m\u001b[1;33m\u001b[0m\u001b[0m\n\u001b[0;32m    868\u001b[0m \u001b[1;33m\u001b[0m\u001b[0m\n",
      "\u001b[1;32m~\\anaconda3\\lib\\site-packages\\joblib\\parallel.py\u001b[0m in \u001b[0;36m_dispatch\u001b[1;34m(self, batch)\u001b[0m\n\u001b[0;32m    782\u001b[0m         \u001b[1;32mwith\u001b[0m \u001b[0mself\u001b[0m\u001b[1;33m.\u001b[0m\u001b[0m_lock\u001b[0m\u001b[1;33m:\u001b[0m\u001b[1;33m\u001b[0m\u001b[1;33m\u001b[0m\u001b[0m\n\u001b[0;32m    783\u001b[0m             \u001b[0mjob_idx\u001b[0m \u001b[1;33m=\u001b[0m \u001b[0mlen\u001b[0m\u001b[1;33m(\u001b[0m\u001b[0mself\u001b[0m\u001b[1;33m.\u001b[0m\u001b[0m_jobs\u001b[0m\u001b[1;33m)\u001b[0m\u001b[1;33m\u001b[0m\u001b[1;33m\u001b[0m\u001b[0m\n\u001b[1;32m--> 784\u001b[1;33m             \u001b[0mjob\u001b[0m \u001b[1;33m=\u001b[0m \u001b[0mself\u001b[0m\u001b[1;33m.\u001b[0m\u001b[0m_backend\u001b[0m\u001b[1;33m.\u001b[0m\u001b[0mapply_async\u001b[0m\u001b[1;33m(\u001b[0m\u001b[0mbatch\u001b[0m\u001b[1;33m,\u001b[0m \u001b[0mcallback\u001b[0m\u001b[1;33m=\u001b[0m\u001b[0mcb\u001b[0m\u001b[1;33m)\u001b[0m\u001b[1;33m\u001b[0m\u001b[1;33m\u001b[0m\u001b[0m\n\u001b[0m\u001b[0;32m    785\u001b[0m             \u001b[1;31m# A job can complete so quickly than its callback is\u001b[0m\u001b[1;33m\u001b[0m\u001b[1;33m\u001b[0m\u001b[1;33m\u001b[0m\u001b[0m\n\u001b[0;32m    786\u001b[0m             \u001b[1;31m# called before we get here, causing self._jobs to\u001b[0m\u001b[1;33m\u001b[0m\u001b[1;33m\u001b[0m\u001b[1;33m\u001b[0m\u001b[0m\n",
      "\u001b[1;32m~\\anaconda3\\lib\\site-packages\\joblib\\_parallel_backends.py\u001b[0m in \u001b[0;36mapply_async\u001b[1;34m(self, func, callback)\u001b[0m\n\u001b[0;32m    206\u001b[0m     \u001b[1;32mdef\u001b[0m \u001b[0mapply_async\u001b[0m\u001b[1;33m(\u001b[0m\u001b[0mself\u001b[0m\u001b[1;33m,\u001b[0m \u001b[0mfunc\u001b[0m\u001b[1;33m,\u001b[0m \u001b[0mcallback\u001b[0m\u001b[1;33m=\u001b[0m\u001b[1;32mNone\u001b[0m\u001b[1;33m)\u001b[0m\u001b[1;33m:\u001b[0m\u001b[1;33m\u001b[0m\u001b[1;33m\u001b[0m\u001b[0m\n\u001b[0;32m    207\u001b[0m         \u001b[1;34m\"\"\"Schedule a func to be run\"\"\"\u001b[0m\u001b[1;33m\u001b[0m\u001b[1;33m\u001b[0m\u001b[0m\n\u001b[1;32m--> 208\u001b[1;33m         \u001b[0mresult\u001b[0m \u001b[1;33m=\u001b[0m \u001b[0mImmediateResult\u001b[0m\u001b[1;33m(\u001b[0m\u001b[0mfunc\u001b[0m\u001b[1;33m)\u001b[0m\u001b[1;33m\u001b[0m\u001b[1;33m\u001b[0m\u001b[0m\n\u001b[0m\u001b[0;32m    209\u001b[0m         \u001b[1;32mif\u001b[0m \u001b[0mcallback\u001b[0m\u001b[1;33m:\u001b[0m\u001b[1;33m\u001b[0m\u001b[1;33m\u001b[0m\u001b[0m\n\u001b[0;32m    210\u001b[0m             \u001b[0mcallback\u001b[0m\u001b[1;33m(\u001b[0m\u001b[0mresult\u001b[0m\u001b[1;33m)\u001b[0m\u001b[1;33m\u001b[0m\u001b[1;33m\u001b[0m\u001b[0m\n",
      "\u001b[1;32m~\\anaconda3\\lib\\site-packages\\joblib\\_parallel_backends.py\u001b[0m in \u001b[0;36m__init__\u001b[1;34m(self, batch)\u001b[0m\n\u001b[0;32m    570\u001b[0m         \u001b[1;31m# Don't delay the application, to avoid keeping the input\u001b[0m\u001b[1;33m\u001b[0m\u001b[1;33m\u001b[0m\u001b[1;33m\u001b[0m\u001b[0m\n\u001b[0;32m    571\u001b[0m         \u001b[1;31m# arguments in memory\u001b[0m\u001b[1;33m\u001b[0m\u001b[1;33m\u001b[0m\u001b[1;33m\u001b[0m\u001b[0m\n\u001b[1;32m--> 572\u001b[1;33m         \u001b[0mself\u001b[0m\u001b[1;33m.\u001b[0m\u001b[0mresults\u001b[0m \u001b[1;33m=\u001b[0m \u001b[0mbatch\u001b[0m\u001b[1;33m(\u001b[0m\u001b[1;33m)\u001b[0m\u001b[1;33m\u001b[0m\u001b[1;33m\u001b[0m\u001b[0m\n\u001b[0m\u001b[0;32m    573\u001b[0m \u001b[1;33m\u001b[0m\u001b[0m\n\u001b[0;32m    574\u001b[0m     \u001b[1;32mdef\u001b[0m \u001b[0mget\u001b[0m\u001b[1;33m(\u001b[0m\u001b[0mself\u001b[0m\u001b[1;33m)\u001b[0m\u001b[1;33m:\u001b[0m\u001b[1;33m\u001b[0m\u001b[1;33m\u001b[0m\u001b[0m\n",
      "\u001b[1;32m~\\anaconda3\\lib\\site-packages\\joblib\\parallel.py\u001b[0m in \u001b[0;36m__call__\u001b[1;34m(self)\u001b[0m\n\u001b[0;32m    260\u001b[0m         \u001b[1;31m# change the default number of processes to -1\u001b[0m\u001b[1;33m\u001b[0m\u001b[1;33m\u001b[0m\u001b[1;33m\u001b[0m\u001b[0m\n\u001b[0;32m    261\u001b[0m         \u001b[1;32mwith\u001b[0m \u001b[0mparallel_backend\u001b[0m\u001b[1;33m(\u001b[0m\u001b[0mself\u001b[0m\u001b[1;33m.\u001b[0m\u001b[0m_backend\u001b[0m\u001b[1;33m,\u001b[0m \u001b[0mn_jobs\u001b[0m\u001b[1;33m=\u001b[0m\u001b[0mself\u001b[0m\u001b[1;33m.\u001b[0m\u001b[0m_n_jobs\u001b[0m\u001b[1;33m)\u001b[0m\u001b[1;33m:\u001b[0m\u001b[1;33m\u001b[0m\u001b[1;33m\u001b[0m\u001b[0m\n\u001b[1;32m--> 262\u001b[1;33m             return [func(*args, **kwargs)\n\u001b[0m\u001b[0;32m    263\u001b[0m                     for func, args, kwargs in self.items]\n\u001b[0;32m    264\u001b[0m \u001b[1;33m\u001b[0m\u001b[0m\n",
      "\u001b[1;32m~\\anaconda3\\lib\\site-packages\\joblib\\parallel.py\u001b[0m in \u001b[0;36m<listcomp>\u001b[1;34m(.0)\u001b[0m\n\u001b[0;32m    260\u001b[0m         \u001b[1;31m# change the default number of processes to -1\u001b[0m\u001b[1;33m\u001b[0m\u001b[1;33m\u001b[0m\u001b[1;33m\u001b[0m\u001b[0m\n\u001b[0;32m    261\u001b[0m         \u001b[1;32mwith\u001b[0m \u001b[0mparallel_backend\u001b[0m\u001b[1;33m(\u001b[0m\u001b[0mself\u001b[0m\u001b[1;33m.\u001b[0m\u001b[0m_backend\u001b[0m\u001b[1;33m,\u001b[0m \u001b[0mn_jobs\u001b[0m\u001b[1;33m=\u001b[0m\u001b[0mself\u001b[0m\u001b[1;33m.\u001b[0m\u001b[0m_n_jobs\u001b[0m\u001b[1;33m)\u001b[0m\u001b[1;33m:\u001b[0m\u001b[1;33m\u001b[0m\u001b[1;33m\u001b[0m\u001b[0m\n\u001b[1;32m--> 262\u001b[1;33m             return [func(*args, **kwargs)\n\u001b[0m\u001b[0;32m    263\u001b[0m                     for func, args, kwargs in self.items]\n\u001b[0;32m    264\u001b[0m \u001b[1;33m\u001b[0m\u001b[0m\n",
      "\u001b[1;32m~\\anaconda3\\lib\\site-packages\\sklearn\\utils\\fixes.py\u001b[0m in \u001b[0;36m__call__\u001b[1;34m(self, *args, **kwargs)\u001b[0m\n\u001b[0;32m    209\u001b[0m     \u001b[1;32mdef\u001b[0m \u001b[0m__call__\u001b[0m\u001b[1;33m(\u001b[0m\u001b[0mself\u001b[0m\u001b[1;33m,\u001b[0m \u001b[1;33m*\u001b[0m\u001b[0margs\u001b[0m\u001b[1;33m,\u001b[0m \u001b[1;33m**\u001b[0m\u001b[0mkwargs\u001b[0m\u001b[1;33m)\u001b[0m\u001b[1;33m:\u001b[0m\u001b[1;33m\u001b[0m\u001b[1;33m\u001b[0m\u001b[0m\n\u001b[0;32m    210\u001b[0m         \u001b[1;32mwith\u001b[0m \u001b[0mconfig_context\u001b[0m\u001b[1;33m(\u001b[0m\u001b[1;33m**\u001b[0m\u001b[0mself\u001b[0m\u001b[1;33m.\u001b[0m\u001b[0mconfig\u001b[0m\u001b[1;33m)\u001b[0m\u001b[1;33m:\u001b[0m\u001b[1;33m\u001b[0m\u001b[1;33m\u001b[0m\u001b[0m\n\u001b[1;32m--> 211\u001b[1;33m             \u001b[1;32mreturn\u001b[0m \u001b[0mself\u001b[0m\u001b[1;33m.\u001b[0m\u001b[0mfunction\u001b[0m\u001b[1;33m(\u001b[0m\u001b[1;33m*\u001b[0m\u001b[0margs\u001b[0m\u001b[1;33m,\u001b[0m \u001b[1;33m**\u001b[0m\u001b[0mkwargs\u001b[0m\u001b[1;33m)\u001b[0m\u001b[1;33m\u001b[0m\u001b[1;33m\u001b[0m\u001b[0m\n\u001b[0m\u001b[0;32m    212\u001b[0m \u001b[1;33m\u001b[0m\u001b[0m\n\u001b[0;32m    213\u001b[0m \u001b[1;33m\u001b[0m\u001b[0m\n",
      "\u001b[1;32m~\\anaconda3\\lib\\site-packages\\sklearn\\model_selection\\_validation.py\u001b[0m in \u001b[0;36m_fit_and_score\u001b[1;34m(estimator, X, y, scorer, train, test, verbose, parameters, fit_params, return_train_score, return_parameters, return_n_test_samples, return_times, return_estimator, split_progress, candidate_progress, error_score)\u001b[0m\n\u001b[0;32m    679\u001b[0m             \u001b[0mestimator\u001b[0m\u001b[1;33m.\u001b[0m\u001b[0mfit\u001b[0m\u001b[1;33m(\u001b[0m\u001b[0mX_train\u001b[0m\u001b[1;33m,\u001b[0m \u001b[1;33m**\u001b[0m\u001b[0mfit_params\u001b[0m\u001b[1;33m)\u001b[0m\u001b[1;33m\u001b[0m\u001b[1;33m\u001b[0m\u001b[0m\n\u001b[0;32m    680\u001b[0m         \u001b[1;32melse\u001b[0m\u001b[1;33m:\u001b[0m\u001b[1;33m\u001b[0m\u001b[1;33m\u001b[0m\u001b[0m\n\u001b[1;32m--> 681\u001b[1;33m             \u001b[0mestimator\u001b[0m\u001b[1;33m.\u001b[0m\u001b[0mfit\u001b[0m\u001b[1;33m(\u001b[0m\u001b[0mX_train\u001b[0m\u001b[1;33m,\u001b[0m \u001b[0my_train\u001b[0m\u001b[1;33m,\u001b[0m \u001b[1;33m**\u001b[0m\u001b[0mfit_params\u001b[0m\u001b[1;33m)\u001b[0m\u001b[1;33m\u001b[0m\u001b[1;33m\u001b[0m\u001b[0m\n\u001b[0m\u001b[0;32m    682\u001b[0m \u001b[1;33m\u001b[0m\u001b[0m\n\u001b[0;32m    683\u001b[0m     \u001b[1;32mexcept\u001b[0m \u001b[0mException\u001b[0m\u001b[1;33m:\u001b[0m\u001b[1;33m\u001b[0m\u001b[1;33m\u001b[0m\u001b[0m\n",
      "\u001b[1;32m~\\anaconda3\\lib\\site-packages\\xgboost\\core.py\u001b[0m in \u001b[0;36minner_f\u001b[1;34m(*args, **kwargs)\u001b[0m\n\u001b[0;32m    420\u001b[0m         \u001b[1;32mfor\u001b[0m \u001b[0mk\u001b[0m\u001b[1;33m,\u001b[0m \u001b[0marg\u001b[0m \u001b[1;32min\u001b[0m \u001b[0mzip\u001b[0m\u001b[1;33m(\u001b[0m\u001b[0msig\u001b[0m\u001b[1;33m.\u001b[0m\u001b[0mparameters\u001b[0m\u001b[1;33m,\u001b[0m \u001b[0margs\u001b[0m\u001b[1;33m)\u001b[0m\u001b[1;33m:\u001b[0m\u001b[1;33m\u001b[0m\u001b[1;33m\u001b[0m\u001b[0m\n\u001b[0;32m    421\u001b[0m             \u001b[0mkwargs\u001b[0m\u001b[1;33m[\u001b[0m\u001b[0mk\u001b[0m\u001b[1;33m]\u001b[0m \u001b[1;33m=\u001b[0m \u001b[0marg\u001b[0m\u001b[1;33m\u001b[0m\u001b[1;33m\u001b[0m\u001b[0m\n\u001b[1;32m--> 422\u001b[1;33m         \u001b[1;32mreturn\u001b[0m \u001b[0mf\u001b[0m\u001b[1;33m(\u001b[0m\u001b[1;33m**\u001b[0m\u001b[0mkwargs\u001b[0m\u001b[1;33m)\u001b[0m\u001b[1;33m\u001b[0m\u001b[1;33m\u001b[0m\u001b[0m\n\u001b[0m\u001b[0;32m    423\u001b[0m \u001b[1;33m\u001b[0m\u001b[0m\n\u001b[0;32m    424\u001b[0m     \u001b[1;32mreturn\u001b[0m \u001b[0minner_f\u001b[0m\u001b[1;33m\u001b[0m\u001b[1;33m\u001b[0m\u001b[0m\n",
      "\u001b[1;32m~\\anaconda3\\lib\\site-packages\\xgboost\\sklearn.py\u001b[0m in \u001b[0;36mfit\u001b[1;34m(self, X, y, sample_weight, base_margin, eval_set, eval_metric, early_stopping_rounds, verbose, xgb_model, sample_weight_eval_set, feature_weights, callbacks)\u001b[0m\n\u001b[0;32m    907\u001b[0m             eval_group=None, label_transform=label_transform)\n\u001b[0;32m    908\u001b[0m \u001b[1;33m\u001b[0m\u001b[0m\n\u001b[1;32m--> 909\u001b[1;33m         self._Booster = train(xgb_options, train_dmatrix,\n\u001b[0m\u001b[0;32m    910\u001b[0m                               \u001b[0mself\u001b[0m\u001b[1;33m.\u001b[0m\u001b[0mget_num_boosting_rounds\u001b[0m\u001b[1;33m(\u001b[0m\u001b[1;33m)\u001b[0m\u001b[1;33m,\u001b[0m\u001b[1;33m\u001b[0m\u001b[1;33m\u001b[0m\u001b[0m\n\u001b[0;32m    911\u001b[0m                               \u001b[0mevals\u001b[0m\u001b[1;33m=\u001b[0m\u001b[0mevals\u001b[0m\u001b[1;33m,\u001b[0m\u001b[1;33m\u001b[0m\u001b[1;33m\u001b[0m\u001b[0m\n",
      "\u001b[1;32m~\\anaconda3\\lib\\site-packages\\xgboost\\training.py\u001b[0m in \u001b[0;36mtrain\u001b[1;34m(params, dtrain, num_boost_round, evals, obj, feval, maximize, early_stopping_rounds, evals_result, verbose_eval, xgb_model, callbacks)\u001b[0m\n\u001b[0;32m    225\u001b[0m     \u001b[0mBooster\u001b[0m \u001b[1;33m:\u001b[0m \u001b[0ma\u001b[0m \u001b[0mtrained\u001b[0m \u001b[0mbooster\u001b[0m \u001b[0mmodel\u001b[0m\u001b[1;33m\u001b[0m\u001b[1;33m\u001b[0m\u001b[0m\n\u001b[0;32m    226\u001b[0m     \"\"\"\n\u001b[1;32m--> 227\u001b[1;33m     bst = _train_internal(params, dtrain,\n\u001b[0m\u001b[0;32m    228\u001b[0m                           \u001b[0mnum_boost_round\u001b[0m\u001b[1;33m=\u001b[0m\u001b[0mnum_boost_round\u001b[0m\u001b[1;33m,\u001b[0m\u001b[1;33m\u001b[0m\u001b[1;33m\u001b[0m\u001b[0m\n\u001b[0;32m    229\u001b[0m                           \u001b[0mevals\u001b[0m\u001b[1;33m=\u001b[0m\u001b[0mevals\u001b[0m\u001b[1;33m,\u001b[0m\u001b[1;33m\u001b[0m\u001b[1;33m\u001b[0m\u001b[0m\n",
      "\u001b[1;32m~\\anaconda3\\lib\\site-packages\\xgboost\\training.py\u001b[0m in \u001b[0;36m_train_internal\u001b[1;34m(params, dtrain, num_boost_round, evals, obj, feval, xgb_model, callbacks, evals_result, maximize, verbose_eval, early_stopping_rounds)\u001b[0m\n\u001b[0;32m    100\u001b[0m         \u001b[1;31m# Skip the first update if it is a recovery step.\u001b[0m\u001b[1;33m\u001b[0m\u001b[1;33m\u001b[0m\u001b[1;33m\u001b[0m\u001b[0m\n\u001b[0;32m    101\u001b[0m         \u001b[1;32mif\u001b[0m \u001b[0mversion\u001b[0m \u001b[1;33m%\u001b[0m \u001b[1;36m2\u001b[0m \u001b[1;33m==\u001b[0m \u001b[1;36m0\u001b[0m\u001b[1;33m:\u001b[0m\u001b[1;33m\u001b[0m\u001b[1;33m\u001b[0m\u001b[0m\n\u001b[1;32m--> 102\u001b[1;33m             \u001b[0mbst\u001b[0m\u001b[1;33m.\u001b[0m\u001b[0mupdate\u001b[0m\u001b[1;33m(\u001b[0m\u001b[0mdtrain\u001b[0m\u001b[1;33m,\u001b[0m \u001b[0mi\u001b[0m\u001b[1;33m,\u001b[0m \u001b[0mobj\u001b[0m\u001b[1;33m)\u001b[0m\u001b[1;33m\u001b[0m\u001b[1;33m\u001b[0m\u001b[0m\n\u001b[0m\u001b[0;32m    103\u001b[0m             \u001b[0mbst\u001b[0m\u001b[1;33m.\u001b[0m\u001b[0msave_rabit_checkpoint\u001b[0m\u001b[1;33m(\u001b[0m\u001b[1;33m)\u001b[0m\u001b[1;33m\u001b[0m\u001b[1;33m\u001b[0m\u001b[0m\n\u001b[0;32m    104\u001b[0m             \u001b[0mversion\u001b[0m \u001b[1;33m+=\u001b[0m \u001b[1;36m1\u001b[0m\u001b[1;33m\u001b[0m\u001b[1;33m\u001b[0m\u001b[0m\n",
      "\u001b[1;32m~\\anaconda3\\lib\\site-packages\\xgboost\\core.py\u001b[0m in \u001b[0;36mupdate\u001b[1;34m(self, dtrain, iteration, fobj)\u001b[0m\n\u001b[0;32m   1278\u001b[0m \u001b[1;33m\u001b[0m\u001b[0m\n\u001b[0;32m   1279\u001b[0m         \u001b[1;32mif\u001b[0m \u001b[0mfobj\u001b[0m \u001b[1;32mis\u001b[0m \u001b[1;32mNone\u001b[0m\u001b[1;33m:\u001b[0m\u001b[1;33m\u001b[0m\u001b[1;33m\u001b[0m\u001b[0m\n\u001b[1;32m-> 1280\u001b[1;33m             _check_call(_LIB.XGBoosterUpdateOneIter(self.handle,\n\u001b[0m\u001b[0;32m   1281\u001b[0m                                                     \u001b[0mctypes\u001b[0m\u001b[1;33m.\u001b[0m\u001b[0mc_int\u001b[0m\u001b[1;33m(\u001b[0m\u001b[0miteration\u001b[0m\u001b[1;33m)\u001b[0m\u001b[1;33m,\u001b[0m\u001b[1;33m\u001b[0m\u001b[1;33m\u001b[0m\u001b[0m\n\u001b[0;32m   1282\u001b[0m                                                     dtrain.handle))\n",
      "\u001b[1;31mKeyboardInterrupt\u001b[0m: "
     ]
    }
   ],
   "source": [
    "xgb_grid_search = GridSearchCV(XGBClassifier(class_weight='balanced', eval_metric='mlogloss',\n",
    "                                             random_state=42, use_label_encoder=False),\n",
    "                                             xgb_param_grid, scoring='accuracy', cv=3)\n",
    "xgb_grid_search = xgb_grid_search.fit(X_train, y_train.values.ravel())"
   ]
  },
  {
   "cell_type": "code",
   "execution_count": 57,
   "metadata": {},
   "outputs": [
    {
     "data": {
      "text/plain": [
       "{'learning_rate': 0.1,\n",
       " 'max_depth': 6,\n",
       " 'min_child_weight': 2,\n",
       " 'n_estimators': 100,\n",
       " 'subsample': 0.7}"
      ]
     },
     "execution_count": 57,
     "metadata": {},
     "output_type": "execute_result"
    }
   ],
   "source": [
    "xgb_grid_search.best_params_"
   ]
  },
  {
   "cell_type": "code",
   "execution_count": 58,
   "metadata": {},
   "outputs": [],
   "source": [
    "xgb_classifier_best_params = XGBClassifier(eval_metric='mlogloss',\n",
    "                                           learning_rate=xgb_grid_search.best_params_['learning_rate'],\n",
    "                                           max_depth=xgb_grid_search.best_params_['max_depth'],\n",
    "                                           min_child_weight=xgb_grid_search.best_params_['min_child_weight'],\n",
    "                                           n_estimators=xgb_grid_search.best_params_['n_estimators'],\n",
    "                                           subsample=xgb_grid_search.best_params_['subsample'],\n",
    "                                           random_state=42, use_label_encoder=False)"
   ]
  },
  {
   "cell_type": "code",
   "execution_count": 59,
   "metadata": {},
   "outputs": [
    {
     "name": "stdout",
     "output_type": "stream",
     "text": [
      "[19:44:51] WARNING: ..\\src\\learner.cc:1061: Starting in XGBoost 1.3.0, the default evaluation metric used with the objective 'multi:softprob' was changed from 'merror' to 'mlogloss'. Explicitly set eval_metric if you'd like to restore the old behavior.\n"
     ]
    }
   ],
   "source": [
    "xgb_classifier_best_params.fit(X_train, y_train)\n",
    "xgb_best_parameters_predictions_trn = xgb_classifier_best_params.predict(X_train)\n",
    "xgb_best_parameters_predictions = xgb_classifier_best_params.predict(X_test)"
   ]
  },
  {
   "cell_type": "code",
   "execution_count": 60,
   "metadata": {},
   "outputs": [
    {
     "name": "stdout",
     "output_type": "stream",
     "text": [
      "              precision    recall  f1-score   support\n",
      "\n",
      "           0       0.61      0.04      0.08      6710\n",
      "           1       0.57      0.03      0.05     23735\n",
      "           2       0.81      1.00      0.90    128753\n",
      "\n",
      "    accuracy                           0.81    159198\n",
      "   macro avg       0.67      0.36      0.34    159198\n",
      "weighted avg       0.77      0.81      0.74    159198\n",
      "\n",
      "              precision    recall  f1-score   support\n",
      "\n",
      "           0       0.50      0.03      0.06      2232\n",
      "           1       0.41      0.02      0.04      7874\n",
      "           2       0.81      1.00      0.90     42960\n",
      "\n",
      "    accuracy                           0.81     53066\n",
      "   macro avg       0.57      0.35      0.33     53066\n",
      "weighted avg       0.74      0.81      0.73     53066\n",
      "\n"
     ]
    }
   ],
   "source": [
    "print(classification_report(y_train, xgb_best_parameters_predictions_trn))\n",
    "print(classification_report(y_test, xgb_best_parameters_predictions))"
   ]
  },
  {
   "cell_type": "code",
   "execution_count": 61,
   "metadata": {},
   "outputs": [
    {
     "data": {
      "image/png": "[encoded data removed]",
      "text/plain": [
       "<Figure size 432x288 with 2 Axes>"
      ]
     },
     "metadata": {
      "needs_background": "light"
     },
     "output_type": "display_data"
    }
   ],
   "source": [
    "ConfusionMatrixDisplay(confusion_matrix=confusion_matrix(y_test, xgb_best_parameters_predictions)).plot();"
   ]
  },
  {
   "cell_type": "code",
   "execution_count": 62,
   "metadata": {},
   "outputs": [],
   "source": [
    "algorithm_scores = algorithm_scores.append({'Model': 'XGBoost Tuned',\n",
    "                                            'Train Precision': score_retriever(y_train, xgb_best_parameters_predictions_trn)[0],\n",
    "                                            'Train Recall': score_retriever(y_train, xgb_best_parameters_predictions_trn)[1],\n",
    "                                            'Train Accuracy': score_retriever(y_train, xgb_best_parameters_predictions_trn)[2],\n",
    "                                            'Train F1_Score': score_retriever(y_train, xgb_best_parameters_predictions_trn)[3],\n",
    "                                            'Test Precision': score_retriever(y_test, xgb_best_parameters_predictions)[0],\n",
    "                                            'Test Recall': score_retriever(y_test, xgb_best_parameters_predictions)[1],\n",
    "                                            'Test Accuracy': score_retriever(y_test, xgb_best_parameters_predictions)[2],\n",
    "                                            'Test F1_Score': score_retriever(y_test, xgb_best_parameters_predictions)[3]},\n",
    "                                                        ignore_index=True)"
   ]
  },
  {
   "cell_type": "code",
   "execution_count": 63,
   "metadata": {
    "scrolled": true
   },
   "outputs": [
    {
     "data": {
      "text/html": [
       "<div>\n",
       "<style scoped>\n",
       "    .dataframe tbody tr th:only-of-type {\n",
       "        vertical-align: middle;\n",
       "    }\n",
       "\n",
       "    .dataframe tbody tr th {\n",
       "        vertical-align: top;\n",
       "    }\n",
       "\n",
       "    .dataframe thead th {\n",
       "        text-align: right;\n",
       "    }\n",
       "</style>\n",
       "<table border=\"1\" class=\"dataframe\">\n",
       "  <thead>\n",
       "    <tr style=\"text-align: right;\">\n",
       "      <th></th>\n",
       "      <th>Model</th>\n",
       "      <th>Train Precision</th>\n",
       "      <th>Train Recall</th>\n",
       "      <th>Train Accuracy</th>\n",
       "      <th>Train F1_Score</th>\n",
       "      <th>Test Precision</th>\n",
       "      <th>Test Recall</th>\n",
       "      <th>Test Accuracy</th>\n",
       "      <th>Test F1_Score</th>\n",
       "    </tr>\n",
       "  </thead>\n",
       "  <tbody>\n",
       "    <tr>\n",
       "      <th>0</th>\n",
       "      <td>Decision Tree Baseline</td>\n",
       "      <td>81.336935</td>\n",
       "      <td>83.175668</td>\n",
       "      <td>83.175668</td>\n",
       "      <td>78.738565</td>\n",
       "      <td>70.990851</td>\n",
       "      <td>78.931896</td>\n",
       "      <td>78.931896</td>\n",
       "      <td>73.554676</td>\n",
       "    </tr>\n",
       "    <tr>\n",
       "      <th>1</th>\n",
       "      <td>Decision Tree Balanced</td>\n",
       "      <td>76.875571</td>\n",
       "      <td>55.305971</td>\n",
       "      <td>55.305971</td>\n",
       "      <td>62.372346</td>\n",
       "      <td>70.969545</td>\n",
       "      <td>49.412053</td>\n",
       "      <td>49.412053</td>\n",
       "      <td>57.065792</td>\n",
       "    </tr>\n",
       "    <tr>\n",
       "      <th>2</th>\n",
       "      <td>Decision Tree Tuned</td>\n",
       "      <td>71.351676</td>\n",
       "      <td>61.886456</td>\n",
       "      <td>61.886456</td>\n",
       "      <td>65.814099</td>\n",
       "      <td>71.380589</td>\n",
       "      <td>62.096257</td>\n",
       "      <td>62.096257</td>\n",
       "      <td>65.939527</td>\n",
       "    </tr>\n",
       "    <tr>\n",
       "      <th>3</th>\n",
       "      <td>Random Forest Baseline</td>\n",
       "      <td>82.246553</td>\n",
       "      <td>83.175040</td>\n",
       "      <td>83.175040</td>\n",
       "      <td>78.157802</td>\n",
       "      <td>71.581901</td>\n",
       "      <td>80.007915</td>\n",
       "      <td>80.007915</td>\n",
       "      <td>73.705222</td>\n",
       "    </tr>\n",
       "    <tr>\n",
       "      <th>4</th>\n",
       "      <td>Random Forest Balanced</td>\n",
       "      <td>76.671694</td>\n",
       "      <td>58.331763</td>\n",
       "      <td>58.331763</td>\n",
       "      <td>64.756675</td>\n",
       "      <td>70.788413</td>\n",
       "      <td>53.165869</td>\n",
       "      <td>53.165869</td>\n",
       "      <td>59.893250</td>\n",
       "    </tr>\n",
       "    <tr>\n",
       "      <th>5</th>\n",
       "      <td>Random Forest Tuned</td>\n",
       "      <td>71.559487</td>\n",
       "      <td>60.355658</td>\n",
       "      <td>60.355658</td>\n",
       "      <td>64.878060</td>\n",
       "      <td>71.470286</td>\n",
       "      <td>60.671616</td>\n",
       "      <td>60.671616</td>\n",
       "      <td>65.043392</td>\n",
       "    </tr>\n",
       "    <tr>\n",
       "      <th>6</th>\n",
       "      <td>XGBoost Baseline</td>\n",
       "      <td>78.157696</td>\n",
       "      <td>81.426902</td>\n",
       "      <td>81.426902</td>\n",
       "      <td>74.084212</td>\n",
       "      <td>73.684012</td>\n",
       "      <td>81.016093</td>\n",
       "      <td>81.016093</td>\n",
       "      <td>73.379659</td>\n",
       "    </tr>\n",
       "    <tr>\n",
       "      <th>7</th>\n",
       "      <td>XGBoost Balanced</td>\n",
       "      <td>78.157696</td>\n",
       "      <td>81.426902</td>\n",
       "      <td>81.426902</td>\n",
       "      <td>74.084212</td>\n",
       "      <td>73.684012</td>\n",
       "      <td>81.016093</td>\n",
       "      <td>81.016093</td>\n",
       "      <td>73.379659</td>\n",
       "    </tr>\n",
       "    <tr>\n",
       "      <th>8</th>\n",
       "      <td>XGBoost Tuned</td>\n",
       "      <td>77.007127</td>\n",
       "      <td>81.242227</td>\n",
       "      <td>81.242227</td>\n",
       "      <td>73.634859</td>\n",
       "      <td>74.050292</td>\n",
       "      <td>81.053782</td>\n",
       "      <td>81.053782</td>\n",
       "      <td>73.326475</td>\n",
       "    </tr>\n",
       "  </tbody>\n",
       "</table>\n",
       "</div>"
      ],
      "text/plain": [
       "                    Model  Train Precision  Train Recall  Train Accuracy  \\\n",
       "0  Decision Tree Baseline        81.336935     83.175668       83.175668   \n",
       "1  Decision Tree Balanced        76.875571     55.305971       55.305971   \n",
       "2     Decision Tree Tuned        71.351676     61.886456       61.886456   \n",
       "3  Random Forest Baseline        82.246553     83.175040       83.175040   \n",
       "4  Random Forest Balanced        76.671694     58.331763       58.331763   \n",
       "5     Random Forest Tuned        71.559487     60.355658       60.355658   \n",
       "6        XGBoost Baseline        78.157696     81.426902       81.426902   \n",
       "7        XGBoost Balanced        78.157696     81.426902       81.426902   \n",
       "8           XGBoost Tuned        77.007127     81.242227       81.242227   \n",
       "\n",
       "   Train F1_Score  Test Precision  Test Recall  Test Accuracy  Test F1_Score  \n",
       "0       78.738565       70.990851    78.931896      78.931896      73.554676  \n",
       "1       62.372346       70.969545    49.412053      49.412053      57.065792  \n",
       "2       65.814099       71.380589    62.096257      62.096257      65.939527  \n",
       "3       78.157802       71.581901    80.007915      80.007915      73.705222  \n",
       "4       64.756675       70.788413    53.165869      53.165869      59.893250  \n",
       "5       64.878060       71.470286    60.671616      60.671616      65.043392  \n",
       "6       74.084212       73.684012    81.016093      81.016093      73.379659  \n",
       "7       74.084212       73.684012    81.016093      81.016093      73.379659  \n",
       "8       73.634859       74.050292    81.053782      81.053782      73.326475  "
      ]
     },
     "execution_count": 63,
     "metadata": {},
     "output_type": "execute_result"
    }
   ],
   "source": [
    "## Balanced and Baseline models were equal throughout first pass of notebook, perhaps because of smote\n",
    "algorithm_scores"
   ]
  },
  {
   "cell_type": "code",
   "execution_count": 64,
   "metadata": {},
   "outputs": [],
   "source": [
    "algorithm_scores.to_csv('data/three_class_scores.csv', index=False)"
   ]
  }
 ],
 "metadata": {
  "kernelspec": {
   "display_name": "Python 3",
   "language": "python",
   "name": "python3"
  },
  "language_info": {
   "codemirror_mode": {
    "name": "ipython",
    "version": 3
   },
   "file_extension": ".py",
   "mimetype": "text/x-python",
   "name": "python",
   "nbconvert_exporter": "python",
   "pygments_lexer": "ipython3",
   "version": "3.8.5"
  }
 },
 "nbformat": 4,
 "nbformat_minor": 4
}
